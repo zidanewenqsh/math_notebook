{
 "cells": [
  {
   "cell_type": "markdown",
   "metadata": {},
   "source": [
    "## 导包"
   ]
  },
  {
   "cell_type": "code",
   "execution_count": 1,
   "metadata": {},
   "outputs": [],
   "source": [
    "from IPython.core.interactiveshell import InteractiveShell \n",
    "InteractiveShell.ast_node_interactivity = 'all' #默认为'last'\n",
    "\n",
    "import numpy as np\n",
    "import pandas as pd\n",
    "import os\n",
    "import sympy \n",
    "from sympy import *\n",
    "# from sympy.abc import *\n",
    "# from sympy import gamma\n",
    "from matplotlib import pyplot as plt\n",
    "%matplotlib inline\n",
    "plt.rcParams['font.sans-serif']=['SimHei'] #指定默认字体 SimHei为黑体\n",
    "plt.rcParams['axes.unicode_minus']=False #用来正常显示负号\n",
    "sympy.init_printing(use_latex=True)"
   ]
  },
  {
   "cell_type": "markdown",
   "metadata": {},
   "source": [
    "## 正态分布代码  \n",
    "```\n",
    "mu,sigma = symbols('mu sigma')\n",
    "fx = (1/(sigma*sqrt(2*pi)))*exp(-(x-mu)**2/(2*sigma**2))\n",
    "```"
   ]
  },
  {
   "cell_type": "markdown",
   "metadata": {},
   "source": [
    "# 概率论的基本概念"
   ]
  },
  {
   "cell_type": "markdown",
   "metadata": {},
   "source": [
    "# 随机变量及其分布"
   ]
  },
  {
   "cell_type": "markdown",
   "metadata": {},
   "source": [
    "## 随机变量"
   ]
  },
  {
   "cell_type": "markdown",
   "metadata": {},
   "source": [
    "## 离散型随机变量及其分布率"
   ]
  },
  {
   "cell_type": "markdown",
   "metadata": {},
   "source": [
    "### 0-1分布  \n",
    "$\\begin{array}{c|cc} \n",
    "X & 0 & 1 \\\\\n",
    "\\hline\n",
    "p_k & 1-p & p \\\\\n",
    "\\end{array}$"
   ]
  },
  {
   "cell_type": "markdown",
   "metadata": {},
   "source": [
    "### 二项分布 (伯努利分布)  \n",
    "$X\\sim b(n,p) \\\\ \n",
    "P\\{X=k\\}=C_n^kp^k(1-p)^{n-k} \\ (k=0,1,...,n)$"
   ]
  },
  {
   "cell_type": "markdown",
   "metadata": {},
   "source": [
    "### 泊松分布  \n",
    "$X\\sim \\pi(\\lambda) \\\\ \n",
    "P(x=k)=\\frac{\\lambda^k}{k!}e^{-\\lambda} \\ (k=0,1,2,...)$  \n",
    "```\n",
    "lamda = symbols('lamda')\n",
    "px = exp(-lamda)*lamda**k/factorial(k)\n",
    "```"
   ]
  },
  {
   "cell_type": "markdown",
   "metadata": {},
   "source": [
    "### 几何分布\n",
    "$X\\sim G(p) \\\\\n",
    "P(x=k)=p(1-p)^{k-1} \\ (k=1,2,...)$  \n",
    "$"
   ]
  },
  {
   "cell_type": "markdown",
   "metadata": {},
   "source": [
    "### 超几何分布  \n",
    "$X\\sim H(N,M,n)$  \n",
    "$p\\{x=k\\}=\\frac{C_M^k C_{N-M}^{n-k}}{C_N^n}$"
   ]
  },
  {
   "cell_type": "markdown",
   "metadata": {},
   "source": [
    "## 随机变量的分布函数"
   ]
  },
  {
   "cell_type": "markdown",
   "metadata": {},
   "source": [
    "## 连续型随机变量及其概率密度"
   ]
  },
  {
   "cell_type": "markdown",
   "metadata": {},
   "source": [
    "### 均匀分布  \n",
    "$X\\sim U(a,b)$  "
   ]
  },
  {
   "cell_type": "markdown",
   "metadata": {},
   "source": [
    "### 指数分布  \n",
    "$X\\sim E(\\lambda)$  \n",
    "$f(x)=\\begin{cases} \\lambda e^{- \\lambda t} & \\text{for}\\: t > 0 \\\\0 & \\text{otherwise} \\end{cases}$"
   ]
  },
  {
   "cell_type": "code",
   "execution_count": 322,
   "metadata": {},
   "outputs": [
    {
     "data": {
      "text/latex": [
       "$\\displaystyle \\begin{cases} \\lambda e^{- \\lambda t} & \\text{for}\\: t > 0 \\\\0 & \\text{otherwise} \\end{cases}$"
      ],
      "text/plain": [
       "⎧   -λ⋅t           \n",
       "⎪λ⋅ℯ      for t > 0\n",
       "⎨                  \n",
       "⎪   0     otherwise\n",
       "⎩                  "
      ]
     },
     "execution_count": 322,
     "metadata": {},
     "output_type": "execute_result"
    },
    {
     "name": "stdout",
     "output_type": "stream",
     "text": [
      "\\begin{cases} \\lambda e^{- \\lambda t} & \\text{for}\\: t > 0 \\\\0 & \\text{otherwise} \\end{cases}\n"
     ]
    }
   ],
   "source": [
    "t1 = symbols('t')\n",
    "t = symbols('t', positive=True)\n",
    "lamda = symbols('lamda', real=True)\n",
    "ft = lamda * exp(-lamda * t)\n",
    "ft_ = Piecewise((lamda * exp(-lamda * t1),t1>0),(0, True))\n",
    "ft_\n",
    "print_latex(ft_)"
   ]
  },
  {
   "cell_type": "markdown",
   "metadata": {},
   "source": [
    "### 正态分布  \n",
    "$X\\sim N(\\mu, \\sigma^2) \\\\ \n",
    "f(x)=\\frac{1}{\\sqrt{2\\pi}\\sigma}e^{- \\frac{\\left(x - \\mu \\right)^{2}}{2 \\sigma^{2}}}$  \n",
    "```\n",
    "mu,sigma = symbols('mu sigma')\n",
    "fx = (1/(sigma*sqrt(2*pi)))*exp(-(x-mu)**2/(2*sigma**2))\n",
    "```"
   ]
  },
  {
   "cell_type": "code",
   "execution_count": 325,
   "metadata": {},
   "outputs": [
    {
     "name": "stdout",
     "output_type": "stream",
     "text": [
      "\\frac{\\sqrt{2} e^{- \\frac{\\left(- \\mu + x\\right)^{2}}{2 \\sigma^{2}}}}{2 \\sqrt{\\pi} \\sigma}\n"
     ]
    }
   ],
   "source": [
    "mu,sigma = symbols('mu sigma')\n",
    "fx = (1/(sigma*sqrt(2*pi)))*exp(-(x-mu)**2/(2*sigma**2))\n",
    "print_latex(fx)"
   ]
  },
  {
   "cell_type": "markdown",
   "metadata": {},
   "source": [
    "## 随机变量的函数的分布  \n",
    "$$f_Y(y)=f_X(g^{-1}(y))|(g^{-1})\\prime(y))|$$"
   ]
  },
  {
   "cell_type": "code",
   "execution_count": 7,
   "metadata": {},
   "outputs": [
    {
     "data": {
      "text/plain": [
       "array([-1,  2,  5,  8])"
      ]
     },
     "execution_count": 7,
     "metadata": {},
     "output_type": "execute_result"
    },
    {
     "data": {
      "text/plain": [
       "array([4, 1, 0, 1], dtype=int32)"
      ]
     },
     "execution_count": 7,
     "metadata": {},
     "output_type": "execute_result"
    }
   ],
   "source": [
    "X=np.array([-1,0,1,2])\n",
    "p=np.array([0.2,0.3,0.1,0.4])\n",
    "Y=3*X+2\n",
    "Z=(X-1)**2\n",
    "Y\n",
    "Z"
   ]
  },
  {
   "cell_type": "code",
   "execution_count": 8,
   "metadata": {},
   "outputs": [
    {
     "data": {
      "text/html": [
       "<div>\n",
       "<style scoped>\n",
       "    .dataframe tbody tr th:only-of-type {\n",
       "        vertical-align: middle;\n",
       "    }\n",
       "\n",
       "    .dataframe tbody tr th {\n",
       "        vertical-align: top;\n",
       "    }\n",
       "\n",
       "    .dataframe thead th {\n",
       "        text-align: right;\n",
       "    }\n",
       "</style>\n",
       "<table border=\"1\" class=\"dataframe\">\n",
       "  <thead>\n",
       "    <tr style=\"text-align: right;\">\n",
       "      <th></th>\n",
       "      <th>Z</th>\n",
       "      <th>p</th>\n",
       "    </tr>\n",
       "  </thead>\n",
       "  <tbody>\n",
       "    <tr>\n",
       "      <td>0</td>\n",
       "      <td>4.0</td>\n",
       "      <td>0.2</td>\n",
       "    </tr>\n",
       "    <tr>\n",
       "      <td>1</td>\n",
       "      <td>1.0</td>\n",
       "      <td>0.3</td>\n",
       "    </tr>\n",
       "    <tr>\n",
       "      <td>2</td>\n",
       "      <td>0.0</td>\n",
       "      <td>0.1</td>\n",
       "    </tr>\n",
       "    <tr>\n",
       "      <td>3</td>\n",
       "      <td>1.0</td>\n",
       "      <td>0.4</td>\n",
       "    </tr>\n",
       "  </tbody>\n",
       "</table>\n",
       "</div>"
      ],
      "text/plain": [
       "     Z    p\n",
       "0  4.0  0.2\n",
       "1  1.0  0.3\n",
       "2  0.0  0.1\n",
       "3  1.0  0.4"
      ]
     },
     "execution_count": 8,
     "metadata": {},
     "output_type": "execute_result"
    },
    {
     "data": {
      "text/html": [
       "<div>\n",
       "<style scoped>\n",
       "    .dataframe tbody tr th:only-of-type {\n",
       "        vertical-align: middle;\n",
       "    }\n",
       "\n",
       "    .dataframe tbody tr th {\n",
       "        vertical-align: top;\n",
       "    }\n",
       "\n",
       "    .dataframe thead th {\n",
       "        text-align: right;\n",
       "    }\n",
       "</style>\n",
       "<table border=\"1\" class=\"dataframe\">\n",
       "  <thead>\n",
       "    <tr style=\"text-align: right;\">\n",
       "      <th></th>\n",
       "      <th>p</th>\n",
       "    </tr>\n",
       "    <tr>\n",
       "      <th>Z</th>\n",
       "      <th></th>\n",
       "    </tr>\n",
       "  </thead>\n",
       "  <tbody>\n",
       "    <tr>\n",
       "      <td>0.0</td>\n",
       "      <td>0.1</td>\n",
       "    </tr>\n",
       "    <tr>\n",
       "      <td>1.0</td>\n",
       "      <td>0.7</td>\n",
       "    </tr>\n",
       "    <tr>\n",
       "      <td>4.0</td>\n",
       "      <td>0.2</td>\n",
       "    </tr>\n",
       "  </tbody>\n",
       "</table>\n",
       "</div>"
      ],
      "text/plain": [
       "       p\n",
       "Z       \n",
       "0.0  0.1\n",
       "1.0  0.7\n",
       "4.0  0.2"
      ]
     },
     "execution_count": 8,
     "metadata": {},
     "output_type": "execute_result"
    }
   ],
   "source": [
    "df1 = pd.DataFrame(data=np.stack((Z,p),axis=1),columns=['Z','p'])\n",
    "df1\n",
    "dfg1 = df1.groupby(\"Z\")\n",
    "dfg1.sum()\n"
   ]
  },
  {
   "cell_type": "code",
   "execution_count": 9,
   "metadata": {},
   "outputs": [
    {
     "data": {
      "text/html": [
       "<div>\n",
       "<style scoped>\n",
       "    .dataframe tbody tr th:only-of-type {\n",
       "        vertical-align: middle;\n",
       "    }\n",
       "\n",
       "    .dataframe tbody tr th {\n",
       "        vertical-align: top;\n",
       "    }\n",
       "\n",
       "    .dataframe thead th {\n",
       "        text-align: right;\n",
       "    }\n",
       "</style>\n",
       "<table border=\"1\" class=\"dataframe\">\n",
       "  <thead>\n",
       "    <tr style=\"text-align: right;\">\n",
       "      <th></th>\n",
       "      <th>p</th>\n",
       "    </tr>\n",
       "    <tr>\n",
       "      <th>X</th>\n",
       "      <th></th>\n",
       "    </tr>\n",
       "  </thead>\n",
       "  <tbody>\n",
       "    <tr>\n",
       "      <td>-1.0</td>\n",
       "      <td>0.2</td>\n",
       "    </tr>\n",
       "    <tr>\n",
       "      <td>0.0</td>\n",
       "      <td>0.3</td>\n",
       "    </tr>\n",
       "    <tr>\n",
       "      <td>1.0</td>\n",
       "      <td>0.1</td>\n",
       "    </tr>\n",
       "    <tr>\n",
       "      <td>2.0</td>\n",
       "      <td>0.4</td>\n",
       "    </tr>\n",
       "  </tbody>\n",
       "</table>\n",
       "</div>"
      ],
      "text/plain": [
       "        p\n",
       "X        \n",
       "-1.0  0.2\n",
       " 0.0  0.3\n",
       " 1.0  0.1\n",
       " 2.0  0.4"
      ]
     },
     "execution_count": 9,
     "metadata": {},
     "output_type": "execute_result"
    },
    {
     "data": {
      "text/html": [
       "<div>\n",
       "<style scoped>\n",
       "    .dataframe tbody tr th:only-of-type {\n",
       "        vertical-align: middle;\n",
       "    }\n",
       "\n",
       "    .dataframe tbody tr th {\n",
       "        vertical-align: top;\n",
       "    }\n",
       "\n",
       "    .dataframe thead th {\n",
       "        text-align: right;\n",
       "    }\n",
       "</style>\n",
       "<table border=\"1\" class=\"dataframe\">\n",
       "  <thead>\n",
       "    <tr style=\"text-align: right;\">\n",
       "      <th></th>\n",
       "      <th>p</th>\n",
       "    </tr>\n",
       "    <tr>\n",
       "      <th>X</th>\n",
       "      <th></th>\n",
       "    </tr>\n",
       "  </thead>\n",
       "  <tbody>\n",
       "    <tr>\n",
       "      <td>-1.0</td>\n",
       "      <td>0.2</td>\n",
       "    </tr>\n",
       "    <tr>\n",
       "      <td>2.0</td>\n",
       "      <td>0.3</td>\n",
       "    </tr>\n",
       "    <tr>\n",
       "      <td>5.0</td>\n",
       "      <td>0.1</td>\n",
       "    </tr>\n",
       "    <tr>\n",
       "      <td>8.0</td>\n",
       "      <td>0.4</td>\n",
       "    </tr>\n",
       "  </tbody>\n",
       "</table>\n",
       "</div>"
      ],
      "text/plain": [
       "        p\n",
       "X        \n",
       "-1.0  0.2\n",
       " 2.0  0.3\n",
       " 5.0  0.1\n",
       " 8.0  0.4"
      ]
     },
     "execution_count": 9,
     "metadata": {},
     "output_type": "execute_result"
    },
    {
     "data": {
      "text/html": [
       "<div>\n",
       "<style scoped>\n",
       "    .dataframe tbody tr th:only-of-type {\n",
       "        vertical-align: middle;\n",
       "    }\n",
       "\n",
       "    .dataframe tbody tr th {\n",
       "        vertical-align: top;\n",
       "    }\n",
       "\n",
       "    .dataframe thead th {\n",
       "        text-align: right;\n",
       "    }\n",
       "</style>\n",
       "<table border=\"1\" class=\"dataframe\">\n",
       "  <thead>\n",
       "    <tr style=\"text-align: right;\">\n",
       "      <th></th>\n",
       "      <th>p</th>\n",
       "    </tr>\n",
       "    <tr>\n",
       "      <th>X</th>\n",
       "      <th></th>\n",
       "    </tr>\n",
       "  </thead>\n",
       "  <tbody>\n",
       "    <tr>\n",
       "      <td>0.0</td>\n",
       "      <td>0.1</td>\n",
       "    </tr>\n",
       "    <tr>\n",
       "      <td>1.0</td>\n",
       "      <td>0.7</td>\n",
       "    </tr>\n",
       "    <tr>\n",
       "      <td>4.0</td>\n",
       "      <td>0.2</td>\n",
       "    </tr>\n",
       "  </tbody>\n",
       "</table>\n",
       "</div>"
      ],
      "text/plain": [
       "       p\n",
       "X       \n",
       "0.0  0.1\n",
       "1.0  0.7\n",
       "4.0  0.2"
      ]
     },
     "execution_count": 9,
     "metadata": {},
     "output_type": "execute_result"
    }
   ],
   "source": [
    "# Discrete probability distribution\n",
    "# 离散型随机变量函数的分布\n",
    "def DPD(X, p):\n",
    "    '''\n",
    "    离散型随机变量函数的分布\n",
    "    :param X: 离散型随机变量的取值\n",
    "    :param p: 离散型随机变量的概率\n",
    "    :return: 离散型随机变量函数的分布\n",
    "    '''\n",
    "    return pd.DataFrame(data=np.stack((X, p), axis=1),\n",
    "                        columns=['X', 'p']).groupby('X').sum()# 去重\n",
    "DPD(X,p)\n",
    "DPD(Y,p)\n",
    "DPD(Z,p)"
   ]
  },
  {
   "cell_type": "markdown",
   "metadata": {},
   "source": [
    "#### 例3  \n",
    "设随机变量X的概率密度函数为  \n",
    "$f_X(x)=\\frac{1}{\\pi(1+x^2)}$  \n",
    "求随机变量$Y=1-\\sqrt[3]{X}$的概率密度"
   ]
  },
  {
   "cell_type": "code",
   "execution_count": 10,
   "metadata": {},
   "outputs": [],
   "source": [
    "from sympy import symbols, integrate, pi, oo, diff, solve, Symbol, Abs"
   ]
  },
  {
   "cell_type": "code",
   "execution_count": 11,
   "metadata": {},
   "outputs": [
    {
     "data": {
      "text/latex": [
       "$\\displaystyle \\frac{3 \\left|{\\left(y - 1.0\\right)^{2}}\\right|}{\\pi \\left(\\left(y - 1.0\\right)^{6} + 1\\right)}$"
      ],
      "text/plain": [
       "3*Abs((y - 1.0)**2)/(pi*((y - 1.0)**6 + 1))"
      ]
     },
     "execution_count": 11,
     "metadata": {},
     "output_type": "execute_result"
    },
    {
     "data": {
      "text/latex": [
       "$\\displaystyle 1$"
      ],
      "text/plain": [
       "1"
      ]
     },
     "execution_count": 11,
     "metadata": {},
     "output_type": "execute_result"
    },
    {
     "data": {
      "text/latex": [
       "$\\displaystyle 1$"
      ],
      "text/plain": [
       "1"
      ]
     },
     "execution_count": 11,
     "metadata": {},
     "output_type": "execute_result"
    }
   ],
   "source": [
    "# 连续型随机变量函数的分布\n",
    "\n",
    "x,y = symbols('x y')\n",
    "f = 1- x**(1/3)-y\n",
    "x1 = solve(f,x)[0] # solve得到列表, 值为f的反函数\n",
    "fx=1/(pi*(1+x**2)) # X的概率密度函数\n",
    "# fy = -fx.subs({x:x1})*diff(x1,y)\n",
    "fy = fx.subs({x:x1})*Abs(diff(x1,y)) # 导数的绝对值\n",
    "fy\n",
    "integrate(fx, (x,-oo,oo))\n",
    "integrate(fy, (y,-oo,oo))"
   ]
  },
  {
   "cell_type": "markdown",
   "metadata": {},
   "source": [
    "#### 例4 \n",
    "设随机变量 $X\\sim N(\\mu, \\sigma^2)$   \n",
    "试证明随机变量$Y=aX+b$也服从正态分布  \n",
    "$$X \\sim \\mathcal{N}(\\mu, \\sigma^2)$$  "
   ]
  },
  {
   "cell_type": "code",
   "execution_count": 12,
   "metadata": {},
   "outputs": [],
   "source": [
    "from sympy import sqrt, exp, simplify"
   ]
  },
  {
   "cell_type": "code",
   "execution_count": 13,
   "metadata": {},
   "outputs": [
    {
     "data": {
      "text/latex": [
       "$\\displaystyle \\frac{\\sqrt{2} e^{- \\frac{\\left(- \\mu + x\\right)^{2}}{2 \\sigma^{2}}}}{2 \\sqrt{\\pi} \\sigma}$"
      ],
      "text/plain": [
       "sqrt(2)*exp(-(-mu + x)**2/(2*sigma**2))/(2*sqrt(pi)*sigma)"
      ]
     },
     "execution_count": 13,
     "metadata": {},
     "output_type": "execute_result"
    },
    {
     "data": {
      "text/latex": [
       "$\\displaystyle 1$"
      ],
      "text/plain": [
       "1"
      ]
     },
     "execution_count": 13,
     "metadata": {},
     "output_type": "execute_result"
    },
    {
     "data": {
      "text/latex": [
       "$\\displaystyle 4$"
      ],
      "text/plain": [
       "4"
      ]
     },
     "execution_count": 13,
     "metadata": {},
     "output_type": "execute_result"
    },
    {
     "data": {
      "text/plain": [
       "(3, 2)"
      ]
     },
     "execution_count": 13,
     "metadata": {},
     "output_type": "execute_result"
    }
   ],
   "source": [
    "mu,sigma = symbols('mu sigma')\n",
    "fx = (1/(sigma*sqrt(2*pi)))*exp(-(x-mu)**2/(2*sigma**2))\n",
    "fx\n",
    "mu,sigma = 3, 2\n",
    "fx = (1/(sigma*sqrt(2*pi)))*exp(-(x-mu)**2/(2*sigma**2))\n",
    "integrate(fx, (x, -oo, oo))\n",
    "mu_ = integrate(x*fx, (x, -oo, oo)) # 期望\n",
    "sigma_ = sqrt(integrate(x**2*fx, (x, -oo, oo)) - mu_**2) # 标准差\n",
    "integrate((x-mu_)**2*fx, (x, -oo, oo)) # 方差\n",
    "mu_,sigma_"
   ]
  },
  {
   "cell_type": "code",
   "execution_count": 14,
   "metadata": {},
   "outputs": [
    {
     "data": {
      "text/latex": [
       "$\\displaystyle \\frac{- b + y}{a}$"
      ],
      "text/plain": [
       "(-b + y)/a"
      ]
     },
     "execution_count": 14,
     "metadata": {},
     "output_type": "execute_result"
    },
    {
     "data": {
      "text/latex": [
       "$\\displaystyle \\frac{\\sqrt{2} e^{- \\frac{\\left(-3 + \\frac{- b + y}{a}\\right)^{2}}{8}} \\left|{\\frac{1}{a}}\\right|}{4 \\sqrt{\\pi}}$"
      ],
      "text/plain": [
       "sqrt(2)*exp(-(-3 + (-b + y)/a)**2/8)*Abs(1/a)/(4*sqrt(pi))"
      ]
     },
     "execution_count": 14,
     "metadata": {},
     "output_type": "execute_result"
    },
    {
     "data": {
      "text/latex": [
       "$\\displaystyle \\frac{\\sqrt{2} e^{- \\frac{\\left(3 a + b - y\\right)^{2}}{8 a^{2}}} \\left|{\\frac{1}{a}}\\right|}{4 \\sqrt{\\pi}}$"
      ],
      "text/plain": [
       "sqrt(2)*exp(-(3*a + b - y)**2/(8*a**2))*Abs(1/a)/(4*sqrt(pi))"
      ]
     },
     "execution_count": 14,
     "metadata": {},
     "output_type": "execute_result"
    }
   ],
   "source": [
    "a, b, x, y = symbols('a b x y')\n",
    "f = a*x+b-y\n",
    "x1 = solve(f,x)[0]\n",
    "x1\n",
    "fy = fx.subs({x:x1})*Abs(diff(x1,y)) # 导数的绝对值\n",
    "fy\n",
    "# integrate(fx, (x,-oo,oo))\n",
    "# integrate(fy, (y,-oo,oo))\n",
    "simplify(fy)"
   ]
  },
  {
   "cell_type": "code",
   "execution_count": 87,
   "metadata": {},
   "outputs": [
    {
     "data": {
      "text/latex": [
       "$\\displaystyle - \\left(y - 1.0\\right)^{3}$"
      ],
      "text/plain": [
       "-(y - 1.0)**3"
      ]
     },
     "execution_count": 87,
     "metadata": {},
     "output_type": "execute_result"
    },
    {
     "data": {
      "text/plain": [
       "sympy.core.symbol.Symbol"
      ]
     },
     "execution_count": 87,
     "metadata": {},
     "output_type": "execute_result"
    },
    {
     "data": {
      "text/plain": [
       "sympy.core.add.Add"
      ]
     },
     "execution_count": 87,
     "metadata": {},
     "output_type": "execute_result"
    }
   ],
   "source": [
    "# 反函数inverse function\n",
    "x,y = symbols('x y')\n",
    "f = 1- x**(1/3)-y\n",
    "def inv_func(func,x):\n",
    "    '''\n",
    "    计算反函数\n",
    "    :param func: 原函数 \n",
    "    :param x: 自变量\n",
    "    :return: \n",
    "    '''\n",
    "    return solve(func,x)[0]\n",
    "inv_func(f,x)\n",
    "type(x)\n",
    "type(f)\n",
    "# 计算函数的分布\n",
    "a, b, x, y = symbols('a b x y')\n",
    "f = a*x+b-y\n",
    "def func_density(fx, func, x, y):\n",
    "    '''\n",
    "    已知原分布概率密度求函数的概率密度\n",
    "    :param fx: 自变量的分布\n",
    "    :param func: 原函数\n",
    "    :param x: 原分布的自变量\n",
    "    :param y: 因变量，新分布的自变量\n",
    "    :return: \n",
    "    '''\n",
    "    x1 = solve(func,x)[0]\n",
    "    fy = fx.subs({x:x1})*Abs(diff(x1,y)) # 导数的绝对值\n",
    "    return fy\n",
    "\n",
    "# def func_dist(Fx, Func, x, y):\n",
    "#     '''\n",
    "#     已知原分布分布函数求函数的分布函数\n",
    "#     :param Fx: 自变量的分布\n",
    "#     :param Func: 原函数\n",
    "#     :param x: 原分布的自变量\n",
    "#     :param y: 因变量，新分布的自变量\n",
    "#     :return: \n",
    "#     '''\n",
    "#     x1 = solve(Func,x)[0]\n",
    "#     fy = Fx.subs({x:x1})*Abs(diff(x1,y)) # 导数的绝对值\n",
    "#     return fy\n",
    "# func_dist(fx,f,x,y)"
   ]
  },
  {
   "cell_type": "markdown",
   "metadata": {},
   "source": [
    "#### 例5\n",
    "设随机变量X服从区间\\[-1,9\\]上的均匀分布求随机变量$Y=g(X)$的概率分布\n",
    "$$g(x)=\\begin{cases}-1 & x<1 \\\\ 1 & x=1 \\\\ 2 & 1<x\\le 6 & \\\\ 3 & x>6\\end{cases}$$"
   ]
  },
  {
   "cell_type": "code",
   "execution_count": 39,
   "metadata": {},
   "outputs": [
    {
     "data": {
      "text/latex": [
       "$\\displaystyle \\begin{cases} -1 & \\text{for}\\: x < 1 \\\\1 & \\text{for}\\: x = 1 \\\\2 & \\text{for}\\: x \\leq 6 \\wedge x > 1 \\\\3 & \\text{for}\\: x > 6 \\end{cases}$"
      ],
      "text/plain": [
       "Piecewise((-1, x < 1), (1, Eq(x, 1)), (2, (x <= 6) & (x > 1)), (3, x > 6))"
      ]
     },
     "execution_count": 39,
     "metadata": {},
     "output_type": "execute_result"
    }
   ],
   "source": [
    "x,y = symbols('x y')\n",
    "g = Piecewise((-1,x<1),(1,(x>=1)&(x<=1)),(2, (x>1) & (x<=6)),(3, x>6)) \n",
    "g\n",
    "# plot(g)"
   ]
  },
  {
   "cell_type": "code",
   "execution_count": 122,
   "metadata": {},
   "outputs": [
    {
     "data": {
      "image/png": "[encoded data removed]",
      "text/plain": [
       "<Figure size 432x288 with 1 Axes>"
      ]
     },
     "metadata": {
      "needs_background": "light"
     },
     "output_type": "display_data"
    },
    {
     "data": {
      "text/plain": [
       "<sympy.plotting.plot.Plot at 0x21570653f88>"
      ]
     },
     "execution_count": 122,
     "metadata": {},
     "output_type": "execute_result"
    },
    {
     "data": {
      "text/latex": [
       "$\\displaystyle 1.0$"
      ],
      "text/plain": [
       "1.00000000000000"
      ]
     },
     "execution_count": 122,
     "metadata": {},
     "output_type": "execute_result"
    }
   ],
   "source": [
    "fx = Piecewise((0.1,(x>=-1) & (x<9)),(0, True))\n",
    "plot(fx)\n",
    "integrate(fx,(x,-oo,oo))\n"
   ]
  },
  {
   "cell_type": "code",
   "execution_count": 75,
   "metadata": {},
   "outputs": [
    {
     "data": {
      "text/latex": [
       "$\\displaystyle \\begin{cases} -1 & \\text{for}\\: x < 1 \\\\1 & \\text{for}\\: x = 1 \\\\2 & \\text{for}\\: x \\leq 6 \\wedge x > 1 \\\\3 & \\text{for}\\: x > 6 \\end{cases}$"
      ],
      "text/plain": [
       "Piecewise((-1, x < 1), (1, Eq(x, 1)), (2, (x <= 6) & (x > 1)), (3, x > 6))"
      ]
     },
     "execution_count": 75,
     "metadata": {},
     "output_type": "execute_result"
    },
    {
     "data": {
      "text/latex": [
       "$\\displaystyle 1$"
      ],
      "text/plain": [
       "1"
      ]
     },
     "execution_count": 75,
     "metadata": {},
     "output_type": "execute_result"
    },
    {
     "data": {
      "text/latex": [
       "$\\displaystyle 1$"
      ],
      "text/plain": [
       "1"
      ]
     },
     "execution_count": 75,
     "metadata": {},
     "output_type": "execute_result"
    },
    {
     "data": {
      "text/plain": [
       "[1, 2, 2, 2]"
      ]
     },
     "execution_count": 75,
     "metadata": {},
     "output_type": "execute_result"
    },
    {
     "data": {
      "text/plain": [
       "[0.20, 0.50, 0.30]"
      ]
     },
     "execution_count": 75,
     "metadata": {},
     "output_type": "execute_result"
    },
    {
     "data": {
      "text/html": [
       "<div>\n",
       "<style scoped>\n",
       "    .dataframe tbody tr th:only-of-type {\n",
       "        vertical-align: middle;\n",
       "    }\n",
       "\n",
       "    .dataframe tbody tr th {\n",
       "        vertical-align: top;\n",
       "    }\n",
       "\n",
       "    .dataframe thead th {\n",
       "        text-align: right;\n",
       "    }\n",
       "</style>\n",
       "<table border=\"1\" class=\"dataframe\">\n",
       "  <thead>\n",
       "    <tr style=\"text-align: right;\">\n",
       "      <th></th>\n",
       "      <th>Y</th>\n",
       "      <th>p</th>\n",
       "    </tr>\n",
       "  </thead>\n",
       "  <tbody>\n",
       "    <tr>\n",
       "      <td>0</td>\n",
       "      <td>-1</td>\n",
       "      <td>0.20</td>\n",
       "    </tr>\n",
       "    <tr>\n",
       "      <td>1</td>\n",
       "      <td>2</td>\n",
       "      <td>0.50</td>\n",
       "    </tr>\n",
       "    <tr>\n",
       "      <td>2</td>\n",
       "      <td>3</td>\n",
       "      <td>0.30</td>\n",
       "    </tr>\n",
       "  </tbody>\n",
       "</table>\n",
       "</div>"
      ],
      "text/plain": [
       "    Y     p\n",
       "0  -1  0.20\n",
       "1   2  0.50\n",
       "2   3  0.30"
      ]
     },
     "execution_count": 75,
     "metadata": {},
     "output_type": "execute_result"
    }
   ],
   "source": [
    "g\n",
    "g.subs(x,1)\n",
    "g.subs({x:1})\n",
    "[g.subs(x,i) for i in [1,2,3,4]]\n",
    "ranges = [-oo,1,6,+oo]\n",
    "p_list = []\n",
    "for i in range(len(ranges)-1):\n",
    "    p_list.append(integrate(fx,(x, ran[i], ranges[i+1])).evalf(2))\n",
    "#     g.subs(x,integrate(fx,(x, ran[i], ran[i+1])))\n",
    "p_list\n",
    "pd.DataFrame(data=np.stack(([-1,2,3],p_list),axis=1),columns=['Y','p'])"
   ]
  },
  {
   "cell_type": "markdown",
   "metadata": {},
   "source": [
    "#### 2003年数学三第11题  \n",
    "设随机变量X的概率密度为$$f(x)=\\begin{cases} \\frac{1}{3\\sqrt[3]{x^2}} & x \\in [1,8]\\\\0 & other\\end{cases}$$\n",
    "F(X)是X的分布函数，求随机变量Y=F(X)的分布函数  \n"
   ]
  },
  {
   "cell_type": "code",
   "execution_count": 79,
   "metadata": {},
   "outputs": [],
   "source": [
    "from fractions import Fraction"
   ]
  },
  {
   "cell_type": "code",
   "execution_count": 108,
   "metadata": {},
   "outputs": [
    {
     "data": {
      "text/latex": [
       "$\\displaystyle \\begin{cases} \\frac{1}{3 x^{\\frac{2}{3}}} & \\text{for}\\: x \\geq 1 \\wedge x \\leq 8 \\\\0 & \\text{otherwise} \\end{cases}$"
      ],
      "text/plain": [
       "Piecewise((1/(3*x**(2/3)), (x >= 1) & (x <= 8)), (0, True))"
      ]
     },
     "execution_count": 108,
     "metadata": {},
     "output_type": "execute_result"
    },
    {
     "data": {
      "text/latex": [
       "$\\displaystyle \\frac{\\sqrt[3]{2}}{6}$"
      ],
      "text/plain": [
       "2**(1/3)/6"
      ]
     },
     "execution_count": 108,
     "metadata": {},
     "output_type": "execute_result"
    },
    {
     "data": {
      "text/latex": [
       "$\\displaystyle 1$"
      ],
      "text/plain": [
       "1"
      ]
     },
     "execution_count": 108,
     "metadata": {},
     "output_type": "execute_result"
    },
    {
     "name": "stderr",
     "output_type": "stream",
     "text": [
      "<string>:1: RuntimeWarning: invalid value encountered in double_scalars\n"
     ]
    },
    {
     "data": {
      "image/png": "[encoded data removed]",
      "text/plain": [
       "<Figure size 432x288 with 1 Axes>"
      ]
     },
     "metadata": {
      "needs_background": "light"
     },
     "output_type": "display_data"
    },
    {
     "data": {
      "text/plain": [
       "<sympy.plotting.plot.Plot at 0x215719422c8>"
      ]
     },
     "execution_count": 108,
     "metadata": {},
     "output_type": "execute_result"
    },
    {
     "data": {
      "text/latex": [
       "$\\displaystyle \\begin{cases} \\begin{cases} 0 & \\text{for}\\: x < 1 \\\\\\sqrt[3]{\\min\\left(8, x\\right)} - 1 & \\text{otherwise} \\end{cases} & \\text{for}\\: x \\geq 1 \\wedge x \\leq 8 \\\\0 & \\text{for}\\: x < 1 \\\\1 & \\text{for}\\: x > 1 \\end{cases}$"
      ],
      "text/plain": [
       "Piecewise((Piecewise((0, x < 1), (Min(8, x)**(1/3) - 1, True)), (x >= 1) & (x <= 8)), (0, x < 1), (1, x > 1))"
      ]
     },
     "execution_count": 108,
     "metadata": {},
     "output_type": "execute_result"
    },
    {
     "name": "stderr",
     "output_type": "stream",
     "text": [
      "<string>:1: RuntimeWarning: invalid value encountered in double_scalars\n"
     ]
    },
    {
     "data": {
      "image/png": "[encoded data removed]",
      "text/plain": [
       "<Figure size 432x288 with 1 Axes>"
      ]
     },
     "metadata": {
      "needs_background": "light"
     },
     "output_type": "display_data"
    },
    {
     "data": {
      "text/plain": [
       "<sympy.plotting.plot.Plot at 0x2156f31ad48>"
      ]
     },
     "execution_count": 108,
     "metadata": {},
     "output_type": "execute_result"
    },
    {
     "data": {
      "text/latex": [
       "$\\displaystyle -1 + \\sqrt[3]{3}$"
      ],
      "text/plain": [
       "-1 + 3**(1/3)"
      ]
     },
     "execution_count": 108,
     "metadata": {},
     "output_type": "execute_result"
    }
   ],
   "source": [
    "t = symbols('t')\n",
    "fx = Piecewise((1/(3*x**(Fraction(2,3))),(x>=1)&(x<=8)),(0,True)) # 概率密度\n",
    "fx\n",
    "fx.subs(x,2)\n",
    "integrate(fx,(x,-oo,oo))\n",
    "# solve(fx,x)\n",
    "plot(fx)\n",
    "\n",
    "# 分布函数同时也是Y的方程\n",
    "Fx = Piecewise((integrate(fx,(x,1,x)),(x>=1)&(x<=8)),(0,x<1),(1,x>1)) \n",
    "Fx\n",
    "plot(Fx)\n",
    "Fx.subs(x,3)"
   ]
  },
  {
   "cell_type": "code",
   "execution_count": 121,
   "metadata": {},
   "outputs": [
    {
     "data": {
      "text/latex": [
       "$\\displaystyle \\begin{cases} \\begin{cases} 0 & \\text{for}\\: \\left(y + 1.0\\right)^{3} < 1 \\\\\\sqrt[3]{\\min\\left(8, \\left(y + 1.0\\right)^{3}\\right)} - 1 & \\text{otherwise} \\end{cases} & \\text{for}\\: y \\geq 0 \\wedge y \\leq 1.0 \\\\0 & \\text{for}\\: \\left(y + 1.0\\right)^{3} < 1 \\\\1 & \\text{for}\\: \\left(y + 1.0\\right)^{3} > 1 \\end{cases}$"
      ],
      "text/plain": [
       "Piecewise((Piecewise((0, (y + 1.0)**3 < 1), (Min(8, (y + 1.0)**3)**(1/3) - 1, True)), (y >= 0) & (y <= 1.0)), (0, (y + 1.0)**3 < 1), (1, (y + 1.0)**3 > 1))"
      ]
     },
     "execution_count": 121,
     "metadata": {},
     "output_type": "execute_result"
    },
    {
     "data": {
      "text/latex": [
       "$\\displaystyle \\begin{cases} 0 & \\text{for}\\: y < 0 \\\\y & \\text{for}\\: y \\leq 1 \\\\1 & \\text{otherwise} \\end{cases}$"
      ],
      "text/plain": [
       "Piecewise((0, y < 0), (y, y <= 1), (1, True))"
      ]
     },
     "execution_count": 121,
     "metadata": {},
     "output_type": "execute_result"
    },
    {
     "data": {
      "image/png": "[encoded data removed]",
      "text/plain": [
       "<Figure size 432x288 with 1 Axes>"
      ]
     },
     "metadata": {
      "needs_background": "light"
     },
     "output_type": "display_data"
    },
    {
     "data": {
      "text/plain": [
       "<sympy.plotting.plot.Plot at 0x21571ad8ec8>"
      ]
     },
     "execution_count": 121,
     "metadata": {},
     "output_type": "execute_result"
    },
    {
     "data": {
      "text/latex": [
       "$\\displaystyle \\begin{cases} 0 & \\text{for}\\: y < 0 \\\\1 & \\text{for}\\: y \\leq 1 \\\\0 & \\text{otherwise} \\end{cases}$"
      ],
      "text/plain": [
       "Piecewise((0, y < 0), (1, y <= 1), (0, True))"
      ]
     },
     "execution_count": 121,
     "metadata": {},
     "output_type": "execute_result"
    },
    {
     "data": {
      "image/png": "[encoded data removed]",
      "text/plain": [
       "<Figure size 432x288 with 1 Axes>"
      ]
     },
     "metadata": {
      "needs_background": "light"
     },
     "output_type": "display_data"
    },
    {
     "data": {
      "text/plain": [
       "<sympy.plotting.plot.Plot at 0x21570e418c8>"
      ]
     },
     "execution_count": 121,
     "metadata": {},
     "output_type": "execute_result"
    }
   ],
   "source": [
    "Fx_ = x**(1/3)-1-y\n",
    "# fx_\n",
    "# inv_func(f,x)\n",
    "x1 = inv_func(Fx_,x)\n",
    "Fx.subs(x,x1) #等待化简的结果\n",
    "\n",
    "# Y的分布函数\n",
    "Fy = Piecewise((0,y<0),(y,(y>=0) & (y<=1)),(1,y>1))\n",
    "Fy\n",
    "plot(Fy)\n",
    "fy = diff(Fy,y)\n",
    "fy\n",
    "plot(fy)"
   ]
  },
  {
   "cell_type": "code",
   "execution_count": null,
   "metadata": {},
   "outputs": [],
   "source": []
  },
  {
   "cell_type": "markdown",
   "metadata": {},
   "source": [
    "# 多维随机变量及其分布"
   ]
  },
  {
   "cell_type": "markdown",
   "metadata": {},
   "source": [
    "## 二维随机变量"
   ]
  },
  {
   "cell_type": "code",
   "execution_count": null,
   "metadata": {},
   "outputs": [],
   "source": []
  },
  {
   "cell_type": "markdown",
   "metadata": {},
   "source": [
    "## 边缘分布"
   ]
  },
  {
   "cell_type": "code",
   "execution_count": null,
   "metadata": {},
   "outputs": [],
   "source": []
  },
  {
   "cell_type": "markdown",
   "metadata": {},
   "source": [
    "## 条件分布"
   ]
  },
  {
   "cell_type": "code",
   "execution_count": null,
   "metadata": {},
   "outputs": [],
   "source": []
  },
  {
   "cell_type": "markdown",
   "metadata": {},
   "source": [
    "## 相互独立的随机变量"
   ]
  },
  {
   "cell_type": "code",
   "execution_count": null,
   "metadata": {},
   "outputs": [],
   "source": []
  },
  {
   "cell_type": "markdown",
   "metadata": {},
   "source": [
    "## 两个随机变量的函数的分布"
   ]
  },
  {
   "cell_type": "markdown",
   "metadata": {},
   "source": [
    "### 连续性随机变量的函数的分布"
   ]
  },
  {
   "cell_type": "markdown",
   "metadata": {},
   "source": [
    "#### 例1  \n",
    "大炮打靶时，炮弹弹着点(X,Y)(设靶心为原点)服从二维正态分布$N(0,0,\\sigma^2,\\sigma^2,0)$，求带着点到靶心距离Z的概率密度"
   ]
  },
  {
   "cell_type": "markdown",
   "metadata": {},
   "source": [
    "解：  \n",
    "Z的分布函数\n",
    "$$F_Z(z)=P(Z<z)=\\iint_{\\sqrt{x^2+y^2}\\le z}\\frac{1}{2\\pi\\sigma^2}e^{-\\frac{x^2+y^2}{2\\sigma^2}}dxdy$$"
   ]
  },
  {
   "cell_type": "code",
   "execution_count": 137,
   "metadata": {},
   "outputs": [
    {
     "data": {
      "text/latex": [
       "$\\displaystyle \\frac{\\sqrt{2} e^{- \\frac{x^{2}}{2 \\sigma^{2}}}}{2 \\sqrt{\\pi} \\sigma}$"
      ],
      "text/plain": [
       "sqrt(2)*exp(-x**2/(2*sigma**2))/(2*sqrt(pi)*sigma)"
      ]
     },
     "execution_count": 137,
     "metadata": {},
     "output_type": "execute_result"
    },
    {
     "data": {
      "text/latex": [
       "$\\displaystyle \\frac{e^{- \\frac{x^{2}}{2 \\sigma^{2}}} e^{- \\frac{y^{2}}{2 \\sigma^{2}}}}{2 \\pi \\sigma^{2}}$"
      ],
      "text/plain": [
       "exp(-x**2/(2*sigma**2))*exp(-y**2/(2*sigma**2))/(2*pi*sigma**2)"
      ]
     },
     "execution_count": 137,
     "metadata": {},
     "output_type": "execute_result"
    },
    {
     "data": {
      "text/latex": [
       "$\\displaystyle \\frac{e^{\\frac{- x^{2} - y^{2}}{2 \\sigma^{2}}}}{2 \\pi \\sigma^{2}}$"
      ],
      "text/plain": [
       "exp((-x**2 - y**2)/(2*sigma**2))/(2*pi*sigma**2)"
      ]
     },
     "execution_count": 137,
     "metadata": {},
     "output_type": "execute_result"
    }
   ],
   "source": [
    "x,y,z = symbols('x y z')\n",
    "mu,sigma = symbols('mu sigma')\n",
    "mu=0\n",
    "fx = (1/(sigma*sqrt(2*pi)))*exp(-(x-mu)**2/(2*sigma**2))\n",
    "fx\n",
    "fy = (1/(sigma*sqrt(2*pi)))*exp(-(y-mu)**2/(2*sigma**2))\n",
    "fxy=fx*fy\n",
    "fxy\n",
    "fxy = simplify(fxy)\n",
    "fxy"
   ]
  },
  {
   "cell_type": "code",
   "execution_count": 144,
   "metadata": {},
   "outputs": [
    {
     "data": {
      "text/latex": [
       "$\\displaystyle \\frac{e^{- \\frac{\\rho^{2}}{2 \\sigma^{2}}}}{2 \\pi \\sigma^{2}}$"
      ],
      "text/plain": [
       "exp(-rho**2/(2*sigma**2))/(2*pi*sigma**2)"
      ]
     },
     "execution_count": 144,
     "metadata": {},
     "output_type": "execute_result"
    },
    {
     "data": {
      "text/latex": [
       "$\\displaystyle \\begin{cases} 1 - e^{- \\frac{z^{2}}{2 \\sigma^{2}}} & \\text{for}\\: z \\geq 0 \\\\0 & \\text{otherwise} \\end{cases}$"
      ],
      "text/plain": [
       "Piecewise((1 - exp(-z**2/(2*sigma**2)), z >= 0), (0, True))"
      ]
     },
     "execution_count": 144,
     "metadata": {},
     "output_type": "execute_result"
    },
    {
     "data": {
      "text/latex": [
       "$\\displaystyle \\begin{cases} 1 - e^{- \\frac{z^{2}}{2 \\sigma^{2}}} & \\text{for}\\: z \\geq 0 \\\\0 & \\text{otherwise} \\end{cases}$"
      ],
      "text/plain": [
       "Piecewise((1 - exp(-z**2/(2*sigma**2)), z >= 0), (0, True))"
      ]
     },
     "execution_count": 144,
     "metadata": {},
     "output_type": "execute_result"
    }
   ],
   "source": [
    "# 化为极坐标积分\n",
    "rho,theta = symbols('rho theta')\n",
    "fxy_ = fxy.subs({x: rho*cos(theta),y:rho*sin(theta)})\n",
    "fxy_ = simplify(fxy_)\n",
    "fxy_\n",
    "Fz_=Integral(rho*fxy_,(rho, 0, z),(theta, 0, 2*pi))\n",
    "# 结果\n",
    "simplify(Fz.doit())\n",
    "Fz = Piecewise((simplify(Fz.doit()),z>=0),(0,z<0))\n",
    "Fz"
   ]
  },
  {
   "cell_type": "markdown",
   "metadata": {},
   "source": [
    "瑞利分布"
   ]
  },
  {
   "cell_type": "code",
   "execution_count": 148,
   "metadata": {},
   "outputs": [
    {
     "data": {
      "text/latex": [
       "$\\displaystyle \\begin{cases} \\frac{z e^{- \\frac{z^{2}}{2 \\sigma^{2}}}}{\\sigma^{2}} & \\text{for}\\: z \\geq 0 \\\\0 & \\text{otherwise} \\end{cases}$"
      ],
      "text/plain": [
       "Piecewise((z*exp(-z**2/(2*sigma**2))/sigma**2, z >= 0), (0, True))"
      ]
     },
     "execution_count": 148,
     "metadata": {},
     "output_type": "execute_result"
    }
   ],
   "source": [
    "# 概率密度\n",
    "# 瑞利分布\n",
    "fz = diff(Fz,z)\n",
    "fz"
   ]
  },
  {
   "cell_type": "code",
   "execution_count": 183,
   "metadata": {},
   "outputs": [
    {
     "data": {
      "image/png": "[encoded data removed]",
      "text/plain": [
       "<Figure size 432x288 with 1 Axes>"
      ]
     },
     "metadata": {
      "needs_background": "light"
     },
     "output_type": "display_data"
    }
   ],
   "source": [
    "fz_list=[]\n",
    "for i in [0.5,1,2,3,4]:\n",
    "    fz_list.append(fz.subs(sigma,i))\n",
    "\n",
    "p = plot(*fz_list,show=False,xlim=(-0.1,10),ylim=(-0.1,1.5))\n",
    "p[0].line_color='b'\n",
    "p[1].line_color='g'\n",
    "p[2].line_color='r'\n",
    "p[3].line_color='y'\n",
    "p[4].line_color='c'\n",
    "\n",
    "p.show()"
   ]
  },
  {
   "cell_type": "code",
   "execution_count": 185,
   "metadata": {},
   "outputs": [
    {
     "data": {
      "image/png": "[encoded data removed]",
      "text/plain": [
       "<Figure size 432x288 with 1 Axes>"
      ]
     },
     "metadata": {
      "needs_background": "light"
     },
     "output_type": "display_data"
    }
   ],
   "source": [
    "Fz_list=[]\n",
    "for i in [0.5,1,2,3,4]:\n",
    "    Fz_list.append(Fz.subs(sigma,i))\n",
    "\n",
    "p = plot(*Fz_list,show=False,xlim=(-0.1,10),ylim=(-0.1,1.2))\n",
    "p[0].line_color='b'\n",
    "p[1].line_color='g'\n",
    "p[2].line_color='r'\n",
    "p[3].line_color='y'\n",
    "p[4].line_color='c'\n",
    "\n",
    "p.show()"
   ]
  },
  {
   "cell_type": "markdown",
   "metadata": {},
   "source": [
    "#### 例2  2001年数学三第12题\n",
    "设随机变量$X$和$Y$的联合分布是正方形$$G=\\{(x,y)|1\\le x \\le 3,1\\le y \\le 3\\}$$上的均匀分布，试求随机变量$U=|X-Y|$的概率密度$p(u)$"
   ]
  },
  {
   "cell_type": "code",
   "execution_count": 240,
   "metadata": {},
   "outputs": [
    {
     "data": {
      "text/latex": [
       "$\\displaystyle \\begin{cases} 0.25 & \\text{for}\\: x \\geq 1 \\wedge y \\geq 1 \\wedge x \\leq 3 \\wedge y \\leq 3 \\\\0 & \\text{otherwise} \\end{cases}$"
      ],
      "text/plain": [
       "Piecewise((0.25, (x >= 1) & (y >= 1) & (x <= 3) & (y <= 3)), (0, True))"
      ]
     },
     "execution_count": 240,
     "metadata": {},
     "output_type": "execute_result"
    },
    {
     "data": {
      "text/latex": [
       "$\\displaystyle 0$"
      ],
      "text/plain": [
       "0"
      ]
     },
     "execution_count": 240,
     "metadata": {},
     "output_type": "execute_result"
    },
    {
     "data": {
      "text/plain": [
       "(1, [u + 1])"
      ]
     },
     "execution_count": 240,
     "metadata": {},
     "output_type": "execute_result"
    },
    {
     "data": {
      "text/plain": [
       "([3 - u], 3)"
      ]
     },
     "execution_count": 240,
     "metadata": {},
     "output_type": "execute_result"
    },
    {
     "data": {
      "text/plain": [
       "([u + 1], 1)"
      ]
     },
     "execution_count": 240,
     "metadata": {},
     "output_type": "execute_result"
    },
    {
     "data": {
      "text/plain": [
       "(3, [3 - u])"
      ]
     },
     "execution_count": 240,
     "metadata": {},
     "output_type": "execute_result"
    },
    {
     "data": {
      "text/latex": [
       "$\\displaystyle \\begin{cases} 1 - \\frac{\\left(2 - u\\right)^{2}}{4} & \\text{for}\\: u > 0 \\wedge u < 2 \\\\1 & \\text{for}\\: u \\geq 2 \\\\0 & \\text{for}\\: u \\leq 0 \\end{cases}$"
      ],
      "text/plain": [
       "Piecewise((1 - (2 - u)**2/4, (u > 0) & (u < 2)), (1, u >= 2), (0, u <= 0))"
      ]
     },
     "execution_count": 240,
     "metadata": {},
     "output_type": "execute_result"
    },
    {
     "data": {
      "text/latex": [
       "$\\displaystyle \\begin{cases} 1 - \\frac{u}{2} & \\text{for}\\: u > 0 \\wedge u < 2 \\\\0 & \\text{for}\\: u \\geq 2 \\vee u \\leq 0 \\end{cases}$"
      ],
      "text/plain": [
       "Piecewise((1 - u/2, (u > 0) & (u < 2)), (0, (u >= 2) | (u <= 0)))"
      ]
     },
     "execution_count": 240,
     "metadata": {},
     "output_type": "execute_result"
    }
   ],
   "source": [
    "x, y, u = symbols('x y u')\n",
    "# X,Y的联合概率密度\n",
    "fxy = Piecewise((1 / 4, (x >= 1) & (x <= 3) & (y >= 1) & (y <= 3)), (0, True))\n",
    "fxy\n",
    "fxy.subs({x: 1, y: 0})\n",
    "# 设四个点的坐标(1,y1)(x1,3) (x2,1)(3,y2)\n",
    "f1 = x + u - y\n",
    "f2 = x - u - y\n",
    "y1 = solve(f1.subs(x,1),y)\n",
    "y2 = solve(f2.subs(x,3),y)\n",
    "x1 = solve(f1.subs(y,3),x)\n",
    "x2 = solve(f2.subs(y,1),x)\n",
    "(1,y1)\n",
    "(x1,3)\n",
    "(x2,1)\n",
    "(3,y2)\n",
    "# U的分布函数\n",
    "Fu=Piecewise(((4-(3-(u+1))**2)/4,(u>0)&(u<2)),(1,u>=2),(0,u<=0))\n",
    "Fu\n",
    "# U的概率密度\n",
    "fu = diff(Fu,u)\n",
    "fu"
   ]
  },
  {
   "cell_type": "code",
   "execution_count": 231,
   "metadata": {},
   "outputs": [
    {
     "data": {
      "image/png": "[encoded data removed]",
      "text/plain": [
       "<Figure size 432x288 with 1 Axes>"
      ]
     },
     "metadata": {
      "needs_background": "light"
     },
     "output_type": "display_data"
    }
   ],
   "source": [
    "u_=1.5\n",
    "p = plot(1,3,x-u_,x+u_,10000*(x-1),10000*(x-3),xlim=(0,5),ylim=(0,5),show=False)\n",
    "p.show()"
   ]
  },
  {
   "cell_type": "markdown",
   "metadata": {},
   "source": [
    "### 二维离散型随机变量  \n",
    "方法类似于一维离散型随机变量"
   ]
  },
  {
   "cell_type": "markdown",
   "metadata": {},
   "source": [
    "假设随机变量$X1,X2,X3,X4$相互独立且同分布,  \n",
    "$P\\{X_i=0\\}=0.6, \\ P\\{X_i=1\\}=0.4 \\ (i=1,2,3,4)$  \n",
    "求行列式$X = \\begin{vmatrix}X_1 & X_2 \\\\ X_3 & X_4\\\\ \\end{vmatrix}$的概率分布"
   ]
  },
  {
   "cell_type": "markdown",
   "metadata": {},
   "source": [
    "### Z=X+Y的概率分布  \n",
    "$f_Z(z)=\\int_{-\\infty}^{\\infty}f(z-y,y)dy$  \n",
    "$f_Z(z)=\\int_{-\\infty}^{\\infty}f(x,z-x)dx$  \n",
    "***\n",
    "如果$X$和$Y$相互独立  \n",
    "卷积公式  \n",
    "$f_X*f_Y=\\int_{-\\infty}^{\\infty}f_X(z-y)f_Y(y)dy=\\int_{-\\infty}^{\\infty}f_X(x)f_Y(z-x)dx$  \n",
    "***\n",
    "$Z=aX+bY$  \n",
    "$f_X*f_Y=\\int_{-\\infty}^{\\infty}\\frac{1}{|a|}f_X(\\frac{z-by}{a})f_Y(y)dy=\\int_{-\\infty}^{\\infty}\\frac{1}{|b|}f_X(x)f_Y(\\frac{z-ax}{b})dx$  \n"
   ]
  },
  {
   "cell_type": "markdown",
   "metadata": {},
   "source": [
    "#### 例5   \n",
    "设$X$和$Y$是两个相互独立的随机变量，它们都服从标准正态分布$N(0,1)$，求$Z=X+Y$的概率密度"
   ]
  },
  {
   "cell_type": "code",
   "execution_count": 10,
   "metadata": {},
   "outputs": [
    {
     "data": {
      "text/latex": [
       "$\\displaystyle \\frac{\\sqrt{2} e^{- \\frac{x^{2}}{2}}}{2 \\sqrt{\\pi}}$"
      ],
      "text/plain": [
       "sqrt(2)*exp(-x**2/2)/(2*sqrt(pi))"
      ]
     },
     "execution_count": 10,
     "metadata": {},
     "output_type": "execute_result"
    },
    {
     "data": {
      "text/latex": [
       "$\\displaystyle \\frac{\\sqrt{2} e^{- \\frac{y^{2}}{2}}}{2 \\sqrt{\\pi}}$"
      ],
      "text/plain": [
       "sqrt(2)*exp(-y**2/2)/(2*sqrt(pi))"
      ]
     },
     "execution_count": 10,
     "metadata": {},
     "output_type": "execute_result"
    },
    {
     "data": {
      "text/latex": [
       "$\\displaystyle \\int\\limits_{-\\infty}^{\\infty} \\frac{e^{- \\frac{x^{2}}{2}} e^{- \\frac{\\left(- x + z\\right)^{2}}{2}}}{2 \\pi}\\, dx$"
      ],
      "text/plain": [
       "Integral(exp(-x**2/2)*exp(-(-x + z)**2/2)/(2*pi), (x, -oo, oo))"
      ]
     },
     "execution_count": 10,
     "metadata": {},
     "output_type": "execute_result"
    },
    {
     "data": {
      "text/latex": [
       "$\\displaystyle \\frac{e^{- \\frac{z^{2}}{4}}}{2 \\sqrt{\\pi}}$"
      ],
      "text/plain": [
       "exp(-z**2/4)/(2*sqrt(pi))"
      ]
     },
     "execution_count": 10,
     "metadata": {},
     "output_type": "execute_result"
    }
   ],
   "source": [
    "x,y,z = symbols('x y z')\n",
    "mu,sigma = symbols('mu sigma')\n",
    "f = (1/(sigma*sqrt(2*pi)))*exp(-(x-mu)**2/(2*sigma**2))\n",
    "fx = f.subs({mu:0,sigma:1})\n",
    "fy = f.subs({x:y,mu:0,sigma:1})\n",
    "fx\n",
    "fy\n",
    "fxyz = Integral(fx*fy.subs(y,z-x),(x,-oo,+oo))\n",
    "fxyz_ = simplify(fxyz.doit())\n",
    "fxyz\n",
    "fxyz_"
   ]
  },
  {
   "cell_type": "markdown",
   "metadata": {},
   "source": [
    "正态分布的可加性  \n",
    "\n",
    "$若X\\sim N(0,1),Y\\sim N(0,1)且X和Y相互独立 \\\\ \n",
    "则X+Y\\sim N(0,2)$  \n",
    "$若X\\sim N(\\mu_1,\\sigma_1^2),Y\\sim N((\\mu_2,\\sigma_2^2)且X和Y相互独立 \\\\ \n",
    "则X+Y\\sim N(\\mu_1+\\mu_2,\\sigma_1^2+\\sigma_2^2)\\\\\n",
    "则aX+bY\\sim N(a\\mu_1+b\\mu_2,a^2\\sigma_1^2+b^2\\sigma_2^2)$  \n",
    "\n",
    "以上结果还可以推广n个正态分布的随机变量  \n",
    "***\n",
    "二项分布和泊松分布也具有可加性  \n",
    "\n",
    "$X\\sim b(n,p),y\\sim b(m,p)且X和Y相互独立\\Rightarrow X+Y\\sim b(n+m,p)$  \n",
    "即：$P\\{X=k\\}=C_n^kp^k(1-p)^{n-k},(k=0,1,...,n)\\\\\n",
    "P\\{Y=k\\}=C_m^kp^k(1-p)^{m-k},(k=0,1,...,m)\\\\\n",
    "P\\{X+Y=k\\}=C_{m+n}^kp^k(1-p)^{n+m-k},(k=0,1,...,n)$  \n",
    "***  \n",
    "$X\\sim \\pi(\\lambda_1),y\\sim \\pi(\\lambda_2)且X和Y相互独立\\Rightarrow X+Y\\sim \\pi(\\lambda_1+\\lambda_2)$  \n",
    "即：$P\\{X=k\\}=\\frac{\\lambda_1^k}{k!}e^{-\\lambda_1}\\\\\n",
    "P\\{Y=k\\}=\\frac{\\lambda_2^k}{k!}e^{-\\lambda_2}\\\\\n",
    "P\\{X+Y=k\\}=\\frac{(\\lambda_1+\\lambda_2)^k}{k!}e^{-(\\lambda_1+\\lambda_2)}$"
   ]
  },
  {
   "cell_type": "code",
   "execution_count": 28,
   "metadata": {},
   "outputs": [
    {
     "data": {
      "text/latex": [
       "$\\displaystyle \\frac{p^{k} \\left(1 - p\\right)^{- k + n} n!}{k! \\left(- k + n\\right)!}$"
      ],
      "text/plain": [
       "p**k*(1 - p)**(-k + n)*factorial(n)/(factorial(k)*factorial(-k + n))"
      ]
     },
     "execution_count": 28,
     "metadata": {},
     "output_type": "execute_result"
    },
    {
     "data": {
      "text/latex": [
       "$\\displaystyle \\frac{p^{k} \\left(1 - p\\right)^{- k + n} n!}{k! \\left(- k + n\\right)!}$"
      ],
      "text/plain": [
       "p**k*(1 - p)**(-k + n)*factorial(n)/(factorial(k)*factorial(-k + n))"
      ]
     },
     "execution_count": 28,
     "metadata": {},
     "output_type": "execute_result"
    },
    {
     "data": {
      "text/latex": [
       "$\\displaystyle \\frac{p^{k} \\left(1 - p\\right)^{- k + m} m!}{k! \\left(- k + m\\right)!}$"
      ],
      "text/plain": [
       "p**k*(1 - p)**(-k + m)*factorial(m)/(factorial(k)*factorial(-k + m))"
      ]
     },
     "execution_count": 28,
     "metadata": {},
     "output_type": "execute_result"
    }
   ],
   "source": [
    "m, n, k, p = symbols('m n k p')\n",
    "f = combine(n, k) * p**(k) * (1 - p)**(n - k)\n",
    "f\n",
    "fn = f.subs(n, n)\n",
    "fm = f.subs(n, m)\n",
    "fn\n",
    "fm\n",
    "# simplify(fn+fm)"
   ]
  },
  {
   "cell_type": "markdown",
   "metadata": {},
   "source": [
    "例7  \n",
    "$对于简单电路中，两电阻的R_1和R_2串联连接,设R_1和R_2相互独立,它们的概率密度均为\\\\\n",
    "f(x)=\\begin{cases}\\frac{10-x}{50} & 0\\le x\\le 10\\\\ 0 & 其它\\end{cases}\\\\\n",
    "求总电阻R=R_1+R_2的概率密度$"
   ]
  },
  {
   "cell_type": "code",
   "execution_count": 64,
   "metadata": {},
   "outputs": [
    {
     "data": {
      "image/png": "[encoded data removed]",
      "text/latex": [
       "$\\displaystyle 1$"
      ],
      "text/plain": [
       "1"
      ]
     },
     "execution_count": 64,
     "metadata": {},
     "output_type": "execute_result"
    }
   ],
   "source": [
    "x,y,z = symbols('x y z')\n",
    "f=Piecewise(((10-x)/50,(x>=0)&(x<=10)),(0,True))\n",
    "integrate(f,(x,-oo,oo))"
   ]
  },
  {
   "cell_type": "code",
   "execution_count": 65,
   "metadata": {},
   "outputs": [
    {
     "data": {
      "text/latex": [
       "$\\displaystyle \\begin{cases} \\begin{cases} \\frac{\\left(10 - x\\right) \\left(x - z + 10\\right)}{2500} & \\text{for}\\: x \\geq 0 \\wedge x - z \\geq -10 \\wedge x \\leq 10 \\wedge x - z \\leq 0 \\\\0 & \\text{otherwise} \\end{cases} & \\text{for}\\: x \\geq 0 \\wedge x \\geq z - 10 \\wedge x \\leq 10 \\wedge x \\leq z \\end{cases}$"
      ],
      "text/plain": [
       "⎧⎧(10 - x)⋅(x - z + 10)                                                       \n",
       "⎪⎪─────────────────────  for x ≥ 0 ∧ x - z ≥ -10 ∧ x ≤ 10 ∧ x - z ≤ 0         \n",
       "⎨⎨         2500                                                        for x ≥\n",
       "⎪⎪                                                                            \n",
       "⎩⎩          0                             otherwise                           \n",
       "\n",
       "                                \n",
       "                                \n",
       " 0 ∧ x ≥ z - 10 ∧ x ≤ 10 ∧ x ≤ z\n",
       "                                \n",
       "                                "
      ]
     },
     "execution_count": 65,
     "metadata": {},
     "output_type": "execute_result"
    },
    {
     "data": {
      "text/latex": [
       "$\\displaystyle \\int\\limits_{-\\infty}^{\\infty} \\begin{cases} \\left(\\frac{1}{5} - \\frac{x}{50}\\right) \\left(\\frac{x}{50} - \\frac{z}{50} + \\frac{1}{5}\\right) & \\text{for}\\: x \\geq 0 \\wedge x - z \\geq -10 \\wedge x \\leq 10 \\wedge x - z \\leq 0 \\\\0 & \\text{otherwise} \\end{cases}\\, dx$"
      ],
      "text/plain": [
       "∞                                                                          \n",
       "⌠                                                                          \n",
       "⎮  ⎧⎛1   x ⎞ ⎛x    z    1⎞                                                 \n",
       "⎮  ⎪⎜─ - ──⎟⋅⎜── - ── + ─⎟  for x ≥ 0 ∧ x - z ≥ -10 ∧ x ≤ 10 ∧ x - z ≤ 0   \n",
       "⎮  ⎨⎝5   50⎠ ⎝50   50   5⎠                                               dx\n",
       "⎮  ⎪                                                                       \n",
       "⎮  ⎩          0                              otherwise                     \n",
       "⌡                                                                          \n",
       "-∞                                                                         "
      ]
     },
     "execution_count": 65,
     "metadata": {},
     "output_type": "execute_result"
    },
    {
     "data": {
      "text/latex": [
       "$\\displaystyle \\begin{cases} - \\frac{z \\max\\left(0, z - 10\\right)^{2}}{5000} + \\frac{z \\max\\left(0, z - 10, \\min\\left(10, z\\right)\\right)^{2}}{5000} + \\frac{\\left(z - 10\\right) \\max\\left(0, z - 10\\right)}{250} - \\frac{\\left(z - 10\\right) \\max\\left(0, z - 10, \\min\\left(10, z\\right)\\right)}{250} + \\frac{\\max\\left(0, z - 10\\right)^{3}}{7500} - \\frac{\\max\\left(0, z - 10, \\min\\left(10, z\\right)\\right)^{3}}{7500} & \\text{for}\\: z \\geq 10 \\wedge z < 20 \\end{cases}$"
      ],
      "text/plain": [
       "⎧                  2                               2                          \n",
       "⎪  z⋅Max(0, z - 10)    z⋅Max(0, z - 10, Min(10, z))    (z - 10)⋅Max(0, z - 10)\n",
       "⎨- ───────────────── + ───────────────────────────── + ───────────────────────\n",
       "⎪         5000                      5000                         250          \n",
       "⎩                                                                             \n",
       "\n",
       "                                                       3                      \n",
       "   (z - 10)⋅Max(0, z - 10, Min(10, z))   Max(0, z - 10)    Max(0, z - 10, Min(\n",
       " - ─────────────────────────────────── + ─────────────── - ───────────────────\n",
       "                   250                         7500                    7500   \n",
       "                                                                              \n",
       "\n",
       "       3                     \n",
       "10, z))                      \n",
       "────────  for z ≥ 10 ∧ z < 20\n",
       "                             \n",
       "                             "
      ]
     },
     "execution_count": 65,
     "metadata": {},
     "output_type": "execute_result"
    },
    {
     "data": {
      "image/png": "[encoded data removed]",
      "text/latex": [
       "$\\displaystyle \\frac{1}{15}$"
      ],
      "text/plain": [
       "1/15"
      ]
     },
     "execution_count": 65,
     "metadata": {},
     "output_type": "execute_result"
    }
   ],
   "source": [
    "fx = f.subs(x,x)\n",
    "fy = f.subs(x,z-x)\n",
    "fxy = Piecewise((fx*fy, (x>=0)&(x<=10)&(x>=z-10)&(x<=z)))\n",
    "# fxy = Piecewise((fx*fy, (x>=0)&(x<=10)&(x>=z-10)&(x<=z)&(z>=10)&(z<20)))\n",
    "simplify(fxy)\n",
    "fz = Integral(fx*fy,(x,-oo,oo))\n",
    "fz\n",
    "simplify(Piecewise((fz.doit(),(z>=10)&(z<20))))\n",
    "simplify(fz.subs(z,10).doit())"
   ]
  },
  {
   "cell_type": "code",
   "execution_count": 66,
   "metadata": {},
   "outputs": [
    {
     "data": {
      "image/png": "[encoded data removed]",
      "text/latex": [
       "$\\displaystyle 2 z + 3$"
      ],
      "text/plain": [
       "2⋅z + 3"
      ]
     },
     "execution_count": 66,
     "metadata": {},
     "output_type": "execute_result"
    },
    {
     "data": {
      "image/png": "[encoded data removed]",
      "text/latex": [
       "$\\displaystyle 2 z^{2} + 3$"
      ],
      "text/plain": [
       "   2    \n",
       "2⋅z  + 3"
      ]
     },
     "execution_count": 66,
     "metadata": {},
     "output_type": "execute_result"
    }
   ],
   "source": [
    "# 变量代换\n",
    "g = x+1+Max(x,0)\n",
    "g1=g.subs(x,(z1+1))\n",
    "g1\n",
    "g1.subs(z1,(z**2))"
   ]
  },
  {
   "cell_type": "code",
   "execution_count": 70,
   "metadata": {},
   "outputs": [
    {
     "data": {
      "image/png": "[encoded data removed]",
      "text/latex": [
       "$\\displaystyle 20$"
      ],
      "text/plain": [
       "20"
      ]
     },
     "execution_count": 70,
     "metadata": {},
     "output_type": "execute_result"
    },
    {
     "data": {
      "image/png": "[encoded data removed]",
      "text/latex": [
       "$\\displaystyle - \\frac{z \\max\\left(0, z - 10\\right)^{2}}{5000} + \\frac{z \\max\\left(0, z - 10, \\min\\left(10, z\\right)\\right)^{2}}{5000} - \\left(\\frac{1}{25} - \\frac{z}{250}\\right) \\max\\left(0, z - 10\\right) + \\left(\\frac{1}{25} - \\frac{z}{250}\\right) \\max\\left(0, z - 10, \\min\\left(10, z\\right)\\right) + \\frac{\\max\\left(0, z - 10\\right)^{3}}{7500} - \\frac{\\max\\left(0, z - 10, \\min\\left(10, z\\right)\\right)^{3}}{7500}$"
      ],
      "text/plain": [
       "                  2                               2                           \n",
       "  z⋅Max(0, z - 10)    z⋅Max(0, z - 10, Min(10, z))    ⎛1     z ⎞              \n",
       "- ───────────────── + ───────────────────────────── - ⎜── - ───⎟⋅Max(0, z - 10\n",
       "         5000                      5000               ⎝25   250⎠              \n",
       "\n",
       "                                                          3                   \n",
       "    ⎛1     z ⎞                              Max(0, z - 10)    Max(0, z - 10, M\n",
       ") + ⎜── - ───⎟⋅Max(0, z - 10, Min(10, z)) + ─────────────── - ────────────────\n",
       "    ⎝25   250⎠                                    7500                    7500\n",
       "\n",
       "          3\n",
       "in(10, z)) \n",
       "───────────\n",
       "           "
      ]
     },
     "execution_count": 70,
     "metadata": {},
     "output_type": "execute_result"
    },
    {
     "data": {
      "image/png": "[encoded data removed]",
      "text/latex": [
       "$\\displaystyle \\frac{z^{3}}{7500} - \\frac{z^{2} \\left(z + 10\\right)}{5000} + \\frac{z^{2}}{250} - \\frac{z \\max\\left(10, z\\right)}{250} + \\frac{\\left(z + 10\\right) \\max\\left(10, z\\right)^{2}}{5000} - \\frac{\\max\\left(10, z\\right)^{3}}{7500}$"
      ],
      "text/plain": [
       "  3     2              2                                     2             3\n",
       " z     z ⋅(z + 10)    z    z⋅Max(10, z)   (z + 10)⋅Max(10, z)    Max(10, z) \n",
       "──── - ─────────── + ─── - ──────────── + ──────────────────── - ───────────\n",
       "7500       5000      250       250                5000               7500   "
      ]
     },
     "execution_count": 70,
     "metadata": {},
     "output_type": "execute_result"
    },
    {
     "data": {
      "image/png": "[encoded data removed]",
      "text/latex": [
       "$\\displaystyle - \\frac{z \\left(z - 10\\right)^{2}}{5000} + \\frac{z \\max\\left(10, z - 10\\right)^{2}}{5000} + \\frac{\\left(z - 10\\right)^{3}}{7500} + \\frac{\\left(z - 10\\right)^{2}}{250} - \\frac{\\left(z - 10\\right) \\max\\left(10, z - 10\\right)}{250} - \\frac{\\max\\left(10, z - 10\\right)^{3}}{7500}$"
      ],
      "text/plain": [
       "            2                    2           3           2                    \n",
       "  z⋅(z - 10)    z⋅Max(10, z - 10)    (z - 10)    (z - 10)    (z - 10)⋅Max(10, \n",
       "- ─────────── + ────────────────── + ───────── + ───────── - ─────────────────\n",
       "      5000             5000             7500        250                250    \n",
       "\n",
       "                         3\n",
       "z - 10)   Max(10, z - 10) \n",
       "─────── - ────────────────\n",
       "                7500      "
      ]
     },
     "execution_count": 70,
     "metadata": {},
     "output_type": "execute_result"
    },
    {
     "data": {
      "image/png": "[encoded data removed]",
      "text/latex": [
       "$\\displaystyle - \\frac{z}{50} + \\frac{\\left(z + 10\\right)^{3}}{7500} - \\frac{\\left(z + 10\\right)^{2} \\left(z + 20\\right)}{5000} + \\frac{\\left(z + 10\\right)^{2}}{250} - \\frac{2}{15}$"
      ],
      "text/plain": [
       "               3           2                    2     \n",
       "  z    (z + 10)    (z + 10) ⋅(z + 20)   (z + 10)    2 \n",
       "- ── + ───────── - ────────────────── + ───────── - ──\n",
       "  50      7500            5000             250      15"
      ]
     },
     "execution_count": 70,
     "metadata": {},
     "output_type": "execute_result"
    },
    {
     "data": {
      "image/png": "[encoded data removed]",
      "text/latex": [
       "$\\displaystyle - \\frac{z^{3}}{15000} + \\frac{z^{2}}{250} - \\frac{2 z}{25} + \\frac{8}{15}$"
      ],
      "text/plain": [
       "     3      2           \n",
       "    z      z    2⋅z   8 \n",
       "- ───── + ─── - ─── + ──\n",
       "  15000   250    25   15"
      ]
     },
     "execution_count": 70,
     "metadata": {},
     "output_type": "execute_result"
    },
    {
     "data": {
      "image/png": "[encoded data removed]",
      "text/latex": [
       "$\\displaystyle \\frac{1}{15}$"
      ],
      "text/plain": [
       "1/15"
      ]
     },
     "execution_count": 70,
     "metadata": {},
     "output_type": "execute_result"
    },
    {
     "data": {
      "image/png": "[encoded data removed]",
      "text/latex": [
       "$\\displaystyle - z^{3} + 60 z^{2} - 1200 z + 8000$"
      ],
      "text/plain": [
       "   3       2                \n",
       "- z  + 60⋅z  - 1200⋅z + 8000"
      ]
     },
     "execution_count": 70,
     "metadata": {},
     "output_type": "execute_result"
    },
    {
     "data": {
      "image/png": "[encoded data removed]",
      "text/latex": [
       "$\\displaystyle z > 0$"
      ],
      "text/plain": [
       "z > 0"
      ]
     },
     "execution_count": 70,
     "metadata": {},
     "output_type": "execute_result"
    }
   ],
   "source": [
    "# 计算当10<=z<=20时的概率密度\n",
    "# 通过正负值的变换来控制Max和Min函数的取值\n",
    "z1 = symbols('z', positive=True)\n",
    "z2 = symbols('z', negative=True)\n",
    "Max((z2+20),20)\n",
    "fz_ = fz.doit()\n",
    "fz_\n",
    "fz_2 = fz_.subs(z,(z1+10))\n",
    "fz_2\n",
    "fz_2 = fz_2.subs(z1,(z-10))\n",
    "fz_2\n",
    "fz_2 = fz_2.subs(z,(z2+20))\n",
    "fz_2\n",
    "fz_2 = fz_2.subs(z2,(z-20))\n",
    "fz_2 = simplify(fz_2)\n",
    "fz_2\n",
    "fz_2.subs(z,10)\n",
    "simplify(fz_2*15000) # 结果\n",
    "# fz_.subs(z,(z2+20))\n"
   ]
  },
  {
   "cell_type": "code",
   "execution_count": 36,
   "metadata": {},
   "outputs": [
    {
     "data": {
      "text/latex": [
       "$\\displaystyle \\frac{z \\left(z^{2} - 60 z + 600\\right)}{15000}$"
      ],
      "text/plain": [
       "z*(z**2 - 60*z + 600)/15000"
      ]
     },
     "execution_count": 36,
     "metadata": {},
     "output_type": "execute_result"
    }
   ],
   "source": [
    "# 计算当0<=z<=10时的概率密度\n",
    "z1 = symbols('z', positive=True)\n",
    "z2 = symbols('z', negative=True)\n",
    "fz_ = fz.doit()\n",
    "fz_1 = fz_.subs(z, z1).subs(z1, z2 + 10).subs(z2, z - 10)\n",
    "fz_1 = simplify(fz_1)  # 结果\n",
    "fz_1"
   ]
  },
  {
   "cell_type": "code",
   "execution_count": 51,
   "metadata": {},
   "outputs": [
    {
     "data": {
      "text/latex": [
       "$\\displaystyle \\frac{z \\left(z^{2} - 60 z + 600\\right)}{15000}$"
      ],
      "text/plain": [
       "z*(z**2 - 60*z + 600)/15000"
      ]
     },
     "execution_count": 51,
     "metadata": {},
     "output_type": "execute_result"
    },
    {
     "data": {
      "text/latex": [
       "$\\displaystyle - \\frac{z^{3}}{15000} + \\frac{z^{2}}{250} - \\frac{2 z}{25} + \\frac{8}{15}$"
      ],
      "text/plain": [
       "-z**3/15000 + z**2/250 - 2*z/25 + 8/15"
      ]
     },
     "execution_count": 51,
     "metadata": {},
     "output_type": "execute_result"
    },
    {
     "data": {
      "text/latex": [
       "$\\displaystyle \\begin{cases} \\frac{z \\left(z^{2} - 60 z + 600\\right)}{15000} & \\text{for}\\: z \\geq 0 \\wedge z < 10 \\\\- \\frac{z^{3}}{15000} + \\frac{z^{2}}{250} - \\frac{2 z}{25} + \\frac{8}{15} & \\text{for}\\: z \\geq 10 \\wedge z < 20 \\\\0 & \\text{otherwise} \\end{cases}$"
      ],
      "text/plain": [
       "Piecewise((z*(z**2 - 60*z + 600)/15000, (z >= 0) & (z < 10)), (-z**3/15000 + z**2/250 - 2*z/25 + 8/15, (z >= 10) & (z < 20)), (0, True))"
      ]
     },
     "execution_count": 51,
     "metadata": {},
     "output_type": "execute_result"
    },
    {
     "data": {
      "image/png": "[encoded data removed]",
      "text/plain": [
       "<Figure size 432x288 with 1 Axes>"
      ]
     },
     "metadata": {
      "needs_background": "light"
     },
     "output_type": "display_data"
    },
    {
     "data": {
      "text/plain": [
       "<sympy.plotting.plot.Plot at 0x18fc80c8248>"
      ]
     },
     "execution_count": 51,
     "metadata": {},
     "output_type": "execute_result"
    }
   ],
   "source": [
    "# 最终结果\n",
    "fz_1\n",
    "fz_2\n",
    "fz_f = Piecewise((fz_1,(z>=0)&(z<10)),(fz_2,(z>=10)&(z<20)),(0,True))\n",
    "fz_f\n",
    "plot(fz_f,xlim=(-10,30)) # sympy 中的plot只能绘制(-10,10)之间的图像\n"
   ]
  },
  {
   "cell_type": "code",
   "execution_count": 57,
   "metadata": {},
   "outputs": [
    {
     "data": {
      "text/plain": [
       "[<matplotlib.lines.Line2D at 0x18fcfd6ca08>]"
      ]
     },
     "execution_count": 57,
     "metadata": {},
     "output_type": "execute_result"
    },
    {
     "data": {
      "image/png": "[encoded data removed]",
      "text/plain": [
       "<Figure size 432x288 with 1 Axes>"
      ]
     },
     "metadata": {
      "needs_background": "light"
     },
     "output_type": "display_data"
    }
   ],
   "source": [
    "# 替换方案\n",
    "x1 = np.linspace(-10,30,100)\n",
    "y1 = fz_f.subs(z,x1)\n",
    "# x1\n",
    "y1 = []\n",
    "for x1_ in x1:\n",
    "    y1.append(fz_f.subs(z,x1_))\n",
    "# y1\n",
    "plt.plot(x1,y1)"
   ]
  },
  {
   "cell_type": "markdown",
   "metadata": {},
   "source": [
    "#### 2007年数学三第23题    \n",
    "$设二维随机变量(X,Y)的概率密度为\\\\\n",
    "f(x,y)=\\begin{cases}2-x-y & 0<x<1,0<y<1\\\\0 & 其它 \\end{cases} \\\\\n",
    "求(I)P\\{X>2Y\\};(II)求Z=X+Y的概率密度f_Z(z)\n",
    "$"
   ]
  },
  {
   "cell_type": "code",
   "execution_count": 59,
   "metadata": {},
   "outputs": [
    {
     "data": {
      "text/latex": [
       "$\\displaystyle \\begin{cases} - x - y + 2 & \\text{for}\\: x > 0 \\wedge y > 0 \\wedge x < 1 \\wedge y < 1 \\\\0 & \\text{otherwise} \\end{cases}$"
      ],
      "text/plain": [
       "Piecewise((-x - y + 2, (x > 0) & (y > 0) & (x < 1) & (y < 1)), (0, True))"
      ]
     },
     "execution_count": 59,
     "metadata": {},
     "output_type": "execute_result"
    },
    {
     "data": {
      "text/latex": [
       "$\\displaystyle 1$"
      ],
      "text/plain": [
       "1"
      ]
     },
     "execution_count": 59,
     "metadata": {},
     "output_type": "execute_result"
    },
    {
     "data": {
      "text/latex": [
       "$\\displaystyle \\frac{7}{24}$"
      ],
      "text/plain": [
       "7/24"
      ]
     },
     "execution_count": 59,
     "metadata": {},
     "output_type": "execute_result"
    }
   ],
   "source": [
    "x,y,z = symbols('x y z')\n",
    "fxy = Piecewise((2-x-y,(x>0)&(x<1)&(y>0)&(y<1)),(0,True))\n",
    "fxy\n",
    "Integral(fxy,(x,0,1),(y,0,1)).doit() # 说明是概率密度\n",
    "# X>2Y概率最终结果\n",
    "Integral(fxy,(y,0,x/2),(x,0,1)).doit()"
   ]
  },
  {
   "cell_type": "code",
   "execution_count": 60,
   "metadata": {},
   "outputs": [
    {
     "data": {
      "image/png": "[encoded data removed]",
      "text/plain": [
       "<Figure size 432x288 with 1 Axes>"
      ]
     },
     "metadata": {
      "needs_background": "light"
     },
     "output_type": "display_data"
    }
   ],
   "source": [
    "# 区域绘图\n",
    "z_=1\n",
    "p = plot(0,1,x/2,z_-x,10000*(x-0),10000*(x-1),xlim=(-1,2),ylim=(-1,2),show=False)\n",
    "p.show()"
   ]
  },
  {
   "cell_type": "code",
   "execution_count": 61,
   "metadata": {},
   "outputs": [
    {
     "data": {
      "text/latex": [
       "$\\displaystyle \\int\\limits_{-\\infty}^{\\infty} \\begin{cases} 2 - z & \\text{for}\\: x > 0 \\wedge x - z > -1 \\wedge x < 1 \\wedge x - z < 0 \\\\0 & \\text{otherwise} \\end{cases}\\, dx$"
      ],
      "text/plain": [
       "Integral(Piecewise((2 - z, (x > 0) & (x < 1) & (x - z > -1) & (x - z < 0)), (0, True)), (x, -oo, oo))"
      ]
     },
     "execution_count": 61,
     "metadata": {},
     "output_type": "execute_result"
    },
    {
     "data": {
      "text/latex": [
       "$\\displaystyle - \\left(2 - z\\right) \\max\\left(0, z - 1\\right) + \\left(2 - z\\right) \\max\\left(0, z - 1, \\min\\left(1, z\\right)\\right)$"
      ],
      "text/plain": [
       "-(2 - z)*Max(0, z - 1) + (2 - z)*Max(0, z - 1, Min(1, z))"
      ]
     },
     "execution_count": 61,
     "metadata": {},
     "output_type": "execute_result"
    }
   ],
   "source": [
    "fz = Integral(fxy.subs(y,(z-x)),(x,-oo,oo))\n",
    "fz\n",
    "fz_ = fz.doit()\n",
    "fz_"
   ]
  },
  {
   "cell_type": "code",
   "execution_count": 62,
   "metadata": {},
   "outputs": [
    {
     "data": {
      "text/latex": [
       "$\\displaystyle z \\left(2 - z\\right)$"
      ],
      "text/plain": [
       "z*(2 - z)"
      ]
     },
     "execution_count": 62,
     "metadata": {},
     "output_type": "execute_result"
    },
    {
     "data": {
      "text/latex": [
       "$\\displaystyle z^{2} - 4 z + 4$"
      ],
      "text/plain": [
       "z**2 - 4*z + 4"
      ]
     },
     "execution_count": 62,
     "metadata": {},
     "output_type": "execute_result"
    }
   ],
   "source": [
    "z1 = symbols('z', positive=True)\n",
    "z2 = symbols('z', negative=True)\n",
    "# 计算区间(0,1)\n",
    "fz_1 = fz_.subs(z,z1).subs(z1,(z2+1)).subs(z2,(z-1))\n",
    "simplify(fz_1)\n",
    "# 计算区间(1,2)\n",
    "fz_2 = fz_.subs(z,(z1+1)).subs(z1,(z-1)).subs(z,(z2+2)).subs(z2,(z-2))\n",
    "fz_2 = simplify(fz_2)\n",
    "fz_2"
   ]
  },
  {
   "cell_type": "code",
   "execution_count": 63,
   "metadata": {},
   "outputs": [
    {
     "data": {
      "text/latex": [
       "$\\displaystyle \\begin{cases} z \\left(2 - z\\right) & \\text{for}\\: z > 0 \\wedge z < 1 \\\\z^{2} - 4 z + 4 & \\text{for}\\: z > 1 \\wedge z < 2 \\\\0 & \\text{otherwise} \\end{cases}$"
      ],
      "text/plain": [
       "Piecewise((z*(2 - z), (z > 0) & (z < 1)), (z**2 - 4*z + 4, (z > 1) & (z < 2)), (0, True))"
      ]
     },
     "execution_count": 63,
     "metadata": {},
     "output_type": "execute_result"
    },
    {
     "data": {
      "image/png": "[encoded data removed]",
      "text/plain": [
       "<Figure size 432x288 with 1 Axes>"
      ]
     },
     "metadata": {
      "needs_background": "light"
     },
     "output_type": "display_data"
    },
    {
     "data": {
      "text/plain": [
       "<sympy.plotting.plot.Plot at 0x18fcff84b08>"
      ]
     },
     "execution_count": 63,
     "metadata": {},
     "output_type": "execute_result"
    }
   ],
   "source": [
    "# Z=X+Y最终结果\n",
    "fz_f = Piecewise((fz_1,(z>0)&(z<1)),(fz_2,(z>1)&(z<2)),(0,True))\n",
    "fz_f\n",
    "plot(fz_f,xlim=(-2,4))"
   ]
  },
  {
   "cell_type": "markdown",
   "metadata": {},
   "source": [
    "#### 考研题  \n",
    "$设随机变量X与Y独立，X服从正态分布N(\\mu,\\sigma^2),Y服从[-\\pi,\\pi]上的均匀分布。\\\\\n",
    "试求Z=X+Y的概率密度，分布计算结果用标准正态分布函数\\Phi(x)表示\\\\\n",
    "其中:\\Phi(x)=\\frac{1}{\\sqrt{2\\pi}}\\int_{-\\infty}^x e^{-\\frac{t^2}{2}}dt$"
   ]
  },
  {
   "cell_type": "code",
   "execution_count": 67,
   "metadata": {},
   "outputs": [
    {
     "data": {
      "text/latex": [
       "$\\displaystyle \\frac{\\sqrt{2} e^{- \\frac{\\left(- \\mu + x\\right)^{2}}{2 \\sigma^{2}}}}{2 \\sqrt{\\pi} \\sigma}$"
      ],
      "text/plain": [
       "sqrt(2)*exp(-(-mu + x)**2/(2*sigma**2))/(2*sqrt(pi)*sigma)"
      ]
     },
     "execution_count": 67,
     "metadata": {},
     "output_type": "execute_result"
    },
    {
     "data": {
      "text/latex": [
       "$\\displaystyle \\begin{cases} \\frac{1}{2 \\pi} & \\text{for}\\: y \\geq - \\pi \\wedge y \\leq \\pi \\\\0 & \\text{otherwise} \\end{cases}$"
      ],
      "text/plain": [
       "Piecewise((1/(2*pi), (y <= pi) & (y >= -pi)), (0, True))"
      ]
     },
     "execution_count": 67,
     "metadata": {},
     "output_type": "execute_result"
    },
    {
     "data": {
      "text/latex": [
       "$\\displaystyle \\begin{cases} \\frac{1}{2 \\pi} & \\text{for}\\: x - z \\geq - \\pi \\wedge x - z \\leq \\pi \\\\0 & \\text{otherwise} \\end{cases}$"
      ],
      "text/plain": [
       "Piecewise((1/(2*pi), (x - z <= pi) & (x - z >= -pi)), (0, True))"
      ]
     },
     "execution_count": 67,
     "metadata": {},
     "output_type": "execute_result"
    }
   ],
   "source": [
    "x,y,z = symbols('x y z')\n",
    "mu,sigma = symbols('mu sigma')\n",
    "fx = (1/(sigma*sqrt(2*pi)))*exp(-(x-mu)**2/(2*sigma**2))\n",
    "fy = Piecewise((1/(2*pi),(y>=-pi)&(y<=pi)),(0,True))\n",
    "fx\n",
    "fy"
   ]
  },
  {
   "cell_type": "code",
   "execution_count": 96,
   "metadata": {},
   "outputs": [
    {
     "data": {
      "text/latex": [
       "$\\displaystyle \\int\\limits_{-\\infty}^{\\infty} \\begin{cases} \\frac{\\sqrt{2} e^{- \\frac{\\left(- \\mu + x\\right)^{2}}{2 \\sigma^{2}}}}{4 \\pi^{\\frac{3}{2}} \\sigma} & \\text{for}\\: x - z \\geq - \\pi \\wedge x - z \\leq \\pi \\\\0 & \\text{otherwise} \\end{cases}\\, dx$"
      ],
      "text/plain": [
       "Integral(Piecewise((sqrt(2)*exp(-(-mu + x)**2/(2*sigma**2))/(4*pi**(3/2)*sigma), (x - z <= pi) & (x - z >= -pi)), (0, True)), (x, -oo, oo))"
      ]
     },
     "execution_count": 96,
     "metadata": {},
     "output_type": "execute_result"
    },
    {
     "data": {
      "text/latex": [
       "$\\displaystyle - \\frac{\\operatorname{erf}{\\left(\\frac{\\sqrt{2} \\left(- \\mu + z - \\pi\\right)}{2 \\sigma} \\right)}}{4 \\pi} + \\frac{\\operatorname{erf}{\\left(\\frac{\\sqrt{2} \\left(- \\mu + z + \\pi\\right)}{2 \\sigma} \\right)}}{4 \\pi}$"
      ],
      "text/plain": [
       "-erf(sqrt(2)*(-mu + z - pi)/(2*sigma))/(4*pi) + erf(sqrt(2)*(-mu + z + pi)/(2*sigma))/(4*pi)"
      ]
     },
     "execution_count": 96,
     "metadata": {},
     "output_type": "execute_result"
    },
    {
     "data": {
      "text/latex": [
       "$\\displaystyle \\frac{\\operatorname{erf}{\\left(\\frac{\\sqrt{2} \\left(- \\mu + z + \\pi\\right)}{2 \\sigma} \\right)} + \\operatorname{erf}{\\left(\\frac{\\sqrt{2} \\left(\\mu - z + \\pi\\right)}{2 \\sigma} \\right)}}{4 \\pi}$"
      ],
      "text/plain": [
       "(erf(sqrt(2)*(-mu + z + pi)/(2*sigma)) + erf(sqrt(2)*(mu - z + pi)/(2*sigma)))/(4*pi)"
      ]
     },
     "execution_count": 96,
     "metadata": {},
     "output_type": "execute_result"
    },
    {
     "data": {
      "image/png": "[encoded data removed]",
      "text/plain": [
       "<Figure size 432x288 with 1 Axes>"
      ]
     },
     "metadata": {
      "needs_background": "light"
     },
     "output_type": "display_data"
    },
    {
     "data": {
      "text/plain": [
       "<sympy.plotting.plot.Plot at 0x18fd33e9e88>"
      ]
     },
     "execution_count": 96,
     "metadata": {},
     "output_type": "execute_result"
    }
   ],
   "source": [
    "# 利用卷积公式\n",
    "fz = Integral(fx*fy.subs(y,(z-x)),(x,-oo,oo))\n",
    "fz\n",
    "fz = fz.doit()\n",
    "fz\n",
    "simplify(fz)\n",
    "plot(fz.subs({mu:0,sigma:1}))"
   ]
  },
  {
   "cell_type": "code",
   "execution_count": 73,
   "metadata": {},
   "outputs": [
    {
     "data": {
      "text/latex": [
       "$\\displaystyle \\operatorname{erf}{\\left(x \\right)}$"
      ],
      "text/plain": [
       "erf(x)"
      ]
     },
     "execution_count": 73,
     "metadata": {},
     "output_type": "execute_result"
    },
    {
     "data": {
      "image/png": "[encoded data removed]",
      "text/plain": [
       "<Figure size 432x288 with 1 Axes>"
      ]
     },
     "metadata": {
      "needs_background": "light"
     },
     "output_type": "display_data"
    },
    {
     "data": {
      "text/plain": [
       "<sympy.plotting.plot.Plot at 0x18fd2bf7288>"
      ]
     },
     "execution_count": 73,
     "metadata": {},
     "output_type": "execute_result"
    }
   ],
   "source": [
    "expand(erf(x))\n",
    "plot(erf(x))"
   ]
  },
  {
   "cell_type": "code",
   "execution_count": 102,
   "metadata": {},
   "outputs": [
    {
     "data": {
      "text/latex": [
       "$\\displaystyle \\frac{2 \\left(\\frac{\\sqrt{\\pi} \\operatorname{erf}{\\left(x \\right)}}{2} + \\frac{\\sqrt{\\pi}}{2}\\right)}{\\sqrt{\\pi}}$"
      ],
      "text/plain": [
       "2*(sqrt(pi)*erf(x)/2 + sqrt(pi)/2)/sqrt(pi)"
      ]
     },
     "execution_count": 102,
     "metadata": {},
     "output_type": "execute_result"
    },
    {
     "data": {
      "text/latex": [
       "$\\displaystyle \\operatorname{erf}{\\left(x \\right)} + 1$"
      ],
      "text/plain": [
       "erf(x) + 1"
      ]
     },
     "execution_count": 102,
     "metadata": {},
     "output_type": "execute_result"
    },
    {
     "data": {
      "text/latex": [
       "$\\displaystyle \\frac{\\operatorname{erf}{\\left(\\frac{\\sqrt{2} x}{2} \\right)}}{2} + \\frac{1}{2}$"
      ],
      "text/plain": [
       "erf(sqrt(2)*x/2)/2 + 1/2"
      ]
     },
     "execution_count": 102,
     "metadata": {},
     "output_type": "execute_result"
    },
    {
     "data": {
      "text/latex": [
       "$\\displaystyle \\frac{\\sqrt{2} \\operatorname{erf}{\\left(x \\right)}}{4} + \\frac{\\sqrt{2}}{4}$"
      ],
      "text/plain": [
       "sqrt(2)*erf(x)/4 + sqrt(2)/4"
      ]
     },
     "execution_count": 102,
     "metadata": {},
     "output_type": "execute_result"
    },
    {
     "data": {
      "text/latex": [
       "$\\displaystyle \\frac{\\operatorname{erf}{\\left(\\sqrt{2} x \\right)}}{4} + \\frac{1}{4}$"
      ],
      "text/plain": [
       "erf(sqrt(2)*x)/4 + 1/4"
      ]
     },
     "execution_count": 102,
     "metadata": {},
     "output_type": "execute_result"
    },
    {
     "data": {
      "text/latex": [
       "$\\displaystyle \\frac{\\operatorname{erf}{\\left(\\frac{3 \\sqrt{2} x}{2} \\right)}}{6} + \\frac{1}{6}$"
      ],
      "text/plain": [
       "erf(3*sqrt(2)*x/2)/6 + 1/6"
      ]
     },
     "execution_count": 102,
     "metadata": {},
     "output_type": "execute_result"
    }
   ],
   "source": [
    "x, t = symbols('x t')\n",
    "ef = (2/sqrt(pi))*integrate(exp(-t**2),(t,-oo,x))\n",
    "ef\n",
    "simplify(ef)\n",
    "# 高斯分布与误差函数的关系\n",
    "Integral(fx.subs({mu:0,sigma:1}),(x,-oo,x)).doit()\n",
    "Integral(fx.subs({x:sqrt(2)*x,mu:0,sigma:1}),(x,-oo,x)).doit()\n",
    "Integral(fx.subs({x:2*x,mu:0,sigma:1}),(x,-oo,x)).doit()\n",
    "Integral(fx.subs({x:3*x,mu:0,sigma:1}),(x,-oo,x)).doit()"
   ]
  },
  {
   "cell_type": "markdown",
   "metadata": {},
   "source": [
    "$标准正态分布与误差函数的关系\\\\\n",
    "erf(\\frac{x}{\\sqrt{2}})=2\\Phi(x)-1\\\\\n",
    "erf(x)=2\\sqrt{2} \\Phi(\\sqrt{2}x)-1\\\\\n",
    "erf(ax)=2\\sqrt{2}a \\Phi(\\sqrt{2}ax)-1\\\\\n",
    "\\Phi(x)=\\frac{erf(\\frac{x}{\\sqrt{2}})+1}{2}\\\\\n",
    "\\Phi(\\sqrt{2} x)=\\frac{erf(x)+1}{2\\sqrt2}\\\\\n",
    "\\Phi(ax)=\\frac{erf(a\\frac{x}{\\sqrt{2}})+1}{2a}$"
   ]
  },
  {
   "cell_type": "markdown",
   "metadata": {},
   "source": [
    "### 积Z=XY与商Z=X/Y的分布\n",
    "\n",
    "$设X,Y是二维连续型随机变量，其概率密度为f(x,y)\\\\\n",
    "则随机变量Z=Y/X的概率密度为\\\\\n",
    "f_{Y/X}(z)=\\int_{-\\infty}^{\\infty}|x|f(x,xz)dx\\\\\n",
    "随机变量Z=XY的概率密度为\\\\\n",
    "f_{XY}(z)=\\int_{-\\infty}^{\\infty}{1\\over|x|}f(x,{z\\over x})dx$"
   ]
  },
  {
   "cell_type": "markdown",
   "metadata": {},
   "source": [
    "####  例8  \n",
    "$设随机变量X,Y相互独立他们的概率密度均为\\\\\n",
    "p(x)=\\begin{cases}e^{-x}&x>0\\\\0&x\\le 0\\end{cases}\\\\\n",
    "求Z=Y/X概率密度$"
   ]
  },
  {
   "cell_type": "code",
   "execution_count": 108,
   "metadata": {},
   "outputs": [
    {
     "data": {
      "text/latex": [
       "$\\displaystyle \\begin{cases} e^{- x} & \\text{for}\\: x > 0 \\\\0 & \\text{otherwise} \\end{cases}$"
      ],
      "text/plain": [
       "Piecewise((exp(-x), x > 0), (0, True))"
      ]
     },
     "execution_count": 108,
     "metadata": {},
     "output_type": "execute_result"
    },
    {
     "data": {
      "text/latex": [
       "$\\displaystyle 1$"
      ],
      "text/plain": [
       "1"
      ]
     },
     "execution_count": 108,
     "metadata": {},
     "output_type": "execute_result"
    },
    {
     "data": {
      "text/latex": [
       "$\\displaystyle \\begin{cases} e^{- y} & \\text{for}\\: y > 0 \\\\0 & \\text{otherwise} \\end{cases}$"
      ],
      "text/plain": [
       "Piecewise((exp(-y), y > 0), (0, True))"
      ]
     },
     "execution_count": 108,
     "metadata": {},
     "output_type": "execute_result"
    },
    {
     "data": {
      "text/latex": [
       "$\\displaystyle \\begin{cases} e^{- x - y} & \\text{for}\\: x > 0 \\wedge y > 0 \\\\0 & \\text{otherwise} \\end{cases}$"
      ],
      "text/plain": [
       "Piecewise((exp(-x - y), (x > 0) & (y > 0)), (0, True))"
      ]
     },
     "execution_count": 108,
     "metadata": {},
     "output_type": "execute_result"
    }
   ],
   "source": [
    "x,y,z = symbols('x y z')\n",
    "fx = Piecewise((exp(-x),x>0),(0,True))\n",
    "fx\n",
    "integrate(fx,(x,-oo,oo)) # 概率为1，说明是概率密度\n",
    "fy = fx.subs(x,y)\n",
    "fy\n",
    "fxy = fx*fy\n",
    "simplify(fxy)"
   ]
  },
  {
   "cell_type": "code",
   "execution_count": 153,
   "metadata": {
    "scrolled": true
   },
   "outputs": [
    {
     "data": {
      "text/latex": [
       "$\\displaystyle \\begin{cases} \\frac{1}{z^{2} + 2 z + 1} & \\text{for}\\: z > 0 \\\\0 & \\text{otherwise} \\end{cases}$"
      ],
      "text/plain": [
       "Piecewise((1/(z**2 + 2*z + 1), z > 0), (0, True))"
      ]
     },
     "execution_count": 153,
     "metadata": {},
     "output_type": "execute_result"
    },
    {
     "data": {
      "text/latex": [
       "$\\displaystyle \\int\\limits_{0}^{\\infty} \\begin{cases} x e^{- x \\left(z + 1\\right)} & \\text{for}\\: x > 0 \\wedge x z > 0 \\\\0 & \\text{otherwise} \\end{cases}\\, dx$"
      ],
      "text/plain": [
       "Integral(Piecewise((x*exp(-x*(z + 1)), (x > 0) & (x*z > 0)), (0, True)), (x, 0, oo))"
      ]
     },
     "execution_count": 153,
     "metadata": {},
     "output_type": "execute_result"
    },
    {
     "data": {
      "text/latex": [
       "$\\displaystyle \\begin{cases} \\frac{1}{z^{2} + 2 z + 1} & \\text{for}\\: z > 0 \\\\0 & \\text{otherwise} \\end{cases}$"
      ],
      "text/plain": [
       "Piecewise((1/(z**2 + 2*z + 1), z > 0), (0, True))"
      ]
     },
     "execution_count": 153,
     "metadata": {},
     "output_type": "execute_result"
    },
    {
     "data": {
      "image/png": "[encoded data removed]",
      "text/plain": [
       "<Figure size 432x288 with 1 Axes>"
      ]
     },
     "metadata": {
      "needs_background": "light"
     },
     "output_type": "display_data"
    },
    {
     "data": {
      "text/plain": [
       "<sympy.plotting.plot.Plot at 0x18fd29b1d08>"
      ]
     },
     "execution_count": 153,
     "metadata": {},
     "output_type": "execute_result"
    }
   ],
   "source": [
    "x1 = symbols('x',positive=True)\n",
    "z1 = symbols('z',positive=True)\n",
    "x2 = symbols('x',negative=True)\n",
    "z2 = symbols('z',negative=True)\n",
    "fz_ = Integral(fxy.subs({x:x1,y:(z*x)}).subs(z,z1)*Abs(x),(x,-oo,oo)) # 带绝对值的不好求\n",
    "simplify(fz)\n",
    "# x>0,z>0\n",
    "fz1 = Integral(fxy.subs({y:(z*x)}).subs(z,z1)*x,(x,0,oo)) # z用正值替换很重要\n",
    "simplify(fz1)\n",
    "\n",
    "fz = Piecewise((fz1.doit().subs(z1,z),z>0),(0,True)) # 最后结果\n",
    "fz\n",
    "plot(fz)"
   ]
  },
  {
   "cell_type": "markdown",
   "metadata": {},
   "source": [
    "#### 例9  \n",
    "$某保险公司提供一个险种，保险费Y和保险赔付X的概率密度分别为\\\\\n",
    "h(y)=\\begin{cases}{y\\over 25}e^{-{y\\over 5}}&y>0\\\\0&y\\le 0\\end{cases}\\ g(x)=\\begin{cases}{1\\over 5}e^{-{x\\over 5}}&x>0\\\\0&x\\le 0\\end{cases}\\\\\n",
    "设X与Y相互独立,求Z=Y/X的概率密度$"
   ]
  },
  {
   "cell_type": "code",
   "execution_count": 157,
   "metadata": {},
   "outputs": [
    {
     "data": {
      "text/latex": [
       "$\\displaystyle \\begin{cases} \\frac{y e^{- \\frac{y}{5}}}{25} & \\text{for}\\: y > 0 \\\\0 & \\text{otherwise} \\end{cases}$"
      ],
      "text/plain": [
       "Piecewise((y*exp(-y/5)/25, y > 0), (0, True))"
      ]
     },
     "execution_count": 157,
     "metadata": {},
     "output_type": "execute_result"
    },
    {
     "data": {
      "text/latex": [
       "$\\displaystyle \\begin{cases} 0.2 e^{- \\frac{x}{5}} & \\text{for}\\: x > 0 \\\\0 & \\text{otherwise} \\end{cases}$"
      ],
      "text/plain": [
       "Piecewise((0.2*exp(-x/5), x > 0), (0, True))"
      ]
     },
     "execution_count": 157,
     "metadata": {},
     "output_type": "execute_result"
    },
    {
     "data": {
      "text/latex": [
       "$\\displaystyle 1$"
      ],
      "text/plain": [
       "1"
      ]
     },
     "execution_count": 157,
     "metadata": {},
     "output_type": "execute_result"
    },
    {
     "data": {
      "text/latex": [
       "$\\displaystyle 1.0$"
      ],
      "text/plain": [
       "1.00000000000000"
      ]
     },
     "execution_count": 157,
     "metadata": {},
     "output_type": "execute_result"
    },
    {
     "data": {
      "text/latex": [
       "$\\displaystyle \\begin{cases} 0.008 y e^{- \\frac{x}{5} - \\frac{y}{5}} & \\text{for}\\: x > 0 \\wedge y > 0 \\\\0 & \\text{otherwise} \\end{cases}$"
      ],
      "text/plain": [
       "Piecewise((0.008*y*exp(-x/5 - y/5), (x > 0) & (y > 0)), (0, True))"
      ]
     },
     "execution_count": 157,
     "metadata": {},
     "output_type": "execute_result"
    }
   ],
   "source": [
    "x,y,z = symbols('x y z')\n",
    "hy = Piecewise(((y/25)*exp(-(y/5)),y>0),(0,True)) \n",
    "gx = Piecewise(((1/5)*exp(-(x/5)),x>0),(0,True)) \n",
    "hy\n",
    "gx\n",
    "integrate(hy,(y,-oo,oo))\n",
    "integrate(gx,(x,-oo,oo))\n",
    "fxy = simplify(gx*hy)\n",
    "fxy"
   ]
  },
  {
   "cell_type": "code",
   "execution_count": 170,
   "metadata": {},
   "outputs": [
    {
     "data": {
      "text/latex": [
       "$\\displaystyle \\int\\limits_{0}^{\\infty} \\begin{cases} 0.008 x^{2} z e^{- \\frac{x z}{5} - \\frac{x}{5}} & \\text{for}\\: x > 0 \\wedge x z > 0 \\\\0 & \\text{otherwise} \\end{cases}\\, dx$"
      ],
      "text/plain": [
       "Integral(Piecewise((0.008*x**2*z*exp(-x*z/5 - x/5), (x > 0) & (x*z > 0)), (0, True)), (x, 0, oo))"
      ]
     },
     "execution_count": 170,
     "metadata": {},
     "output_type": "execute_result"
    },
    {
     "data": {
      "text/latex": [
       "$\\displaystyle \\frac{2.0 z}{z^{3} + 3 z^{2} + 3 z + 1}$"
      ],
      "text/plain": [
       "2.0*z/(z**3 + 3*z**2 + 3*z + 1)"
      ]
     },
     "execution_count": 170,
     "metadata": {},
     "output_type": "execute_result"
    },
    {
     "data": {
      "text/latex": [
       "$\\displaystyle \\begin{cases} \\frac{2.0 z}{\\left(z + 1\\right)^{3}} & \\text{for}\\: z > 0 \\\\0 & \\text{otherwise} \\end{cases}$"
      ],
      "text/plain": [
       "Piecewise((2.0*z/(z + 1)**3, z > 0), (0, True))"
      ]
     },
     "execution_count": 170,
     "metadata": {},
     "output_type": "execute_result"
    },
    {
     "data": {
      "image/png": "[encoded data removed]",
      "text/plain": [
       "<Figure size 432x288 with 1 Axes>"
      ]
     },
     "metadata": {
      "needs_background": "light"
     },
     "output_type": "display_data"
    },
    {
     "data": {
      "text/plain": [
       "<sympy.plotting.plot.Plot at 0x18fcd33ce48>"
      ]
     },
     "execution_count": 170,
     "metadata": {},
     "output_type": "execute_result"
    }
   ],
   "source": [
    "z1 = symbols('z',positive=True)\n",
    "fz_ = Integral(fxy.subs({y:(x*z),z:z1})*x,(x,0,oo))\n",
    "fz_\n",
    "fz_ = fz_.doit()\n",
    "fz_\n",
    "# fz = Piecewise((factor(fz_),z1>0),(0,True)) # 这么写不行，要换回z\n",
    "fz = Piecewise((factor(fz_.subs(z1,z)),z>0),(0,True)) # 最后结果\n",
    "fz\n",
    "plot(fz)"
   ]
  },
  {
   "cell_type": "markdown",
   "metadata": {},
   "source": [
    "#### 例10  \n",
    "$设随机变量的概率密度为\\\\\n",
    "f(x,y)=\\begin{cases}x+y&0<x<1,0<y<1\\\\0&其它\\end{cases}\\\\\n",
    "求Z=XY的概率密度$"
   ]
  },
  {
   "cell_type": "code",
   "execution_count": 194,
   "metadata": {},
   "outputs": [
    {
     "data": {
      "text/latex": [
       "$\\displaystyle \\begin{cases} x + y & \\text{for}\\: x > 0 \\wedge y > 0 \\wedge x < 1 \\wedge y < 1 \\\\0 & \\text{otherwise} \\end{cases}$"
      ],
      "text/plain": [
       "Piecewise((x + y, (x > 0) & (y > 0) & (x < 1) & (y < 1)), (0, True))"
      ]
     },
     "execution_count": 194,
     "metadata": {},
     "output_type": "execute_result"
    },
    {
     "data": {
      "text/latex": [
       "$\\displaystyle 1$"
      ],
      "text/plain": [
       "1"
      ]
     },
     "execution_count": 194,
     "metadata": {},
     "output_type": "execute_result"
    }
   ],
   "source": [
    "x,y,z = symbols('x y z')\n",
    "z1 = symbols('z',positive=True)\n",
    "z2 = symbols('z',negative=True)\n",
    "fxy = Piecewise((x+y,(x>0)&(x<1)&(y>0)&(y<1)),(0,True))\n",
    "# fxy = Piecewise((x+y,(x>0)&(x<1)&(y>0)&(y<1)&(z>0)&(z<x)),(0,True))\n",
    "fxy\n",
    "integrate(fxy,(x,-oo,oo),(y,-oo,oo))"
   ]
  },
  {
   "cell_type": "code",
   "execution_count": 222,
   "metadata": {},
   "outputs": [
    {
     "data": {
      "text/latex": [
       "$\\displaystyle \\int\\limits_{z}^{1} \\begin{cases} x + \\frac{z}{x} & \\text{for}\\: x > 0 \\wedge \\frac{z}{x} > 0 \\wedge x < 1 \\wedge \\frac{z}{x} < 1 \\\\0 & \\text{otherwise} \\end{cases}\\, dx$"
      ],
      "text/plain": [
       "Integral(Piecewise((x + z/x, (x > 0) & (x < 1) & (z/x > 0) & (z/x < 1)), (0, True)), (x, z, 1))"
      ]
     },
     "execution_count": 222,
     "metadata": {},
     "output_type": "execute_result"
    },
    {
     "data": {
      "text/latex": [
       "$\\displaystyle \\begin{cases} \\int\\limits_{z}^{1} \\begin{cases} x + \\frac{z}{x} & \\text{for}\\: x > 0 \\wedge \\frac{z}{x} > 0 \\wedge x < 1 \\wedge \\frac{z}{x} < 1 \\\\0 & \\text{otherwise} \\end{cases}\\, dx & \\text{for}\\: z < 1 \\\\- \\int\\limits_{1}^{z} \\begin{cases} x + \\frac{z}{x} & \\text{for}\\: x > 0 \\wedge \\frac{z}{x} > 0 \\wedge x < 1 \\wedge \\frac{z}{x} < 1 \\\\0 & \\text{otherwise} \\end{cases}\\, dx & \\text{otherwise} \\end{cases}$"
      ],
      "text/plain": [
       "Piecewise((Integral(Piecewise((x + z/x, (x > 0) & (x < 1) & (z/x > 0) & (z/x < 1)), (0, True)), (x, z, 1)), z < 1), (-Integral(Piecewise((x + z/x, (x > 0) & (x < 1) & (z/x > 0) & (z/x < 1)), (0, True)), (x, 1, z)), True))"
      ]
     },
     "execution_count": 222,
     "metadata": {},
     "output_type": "execute_result"
    },
    {
     "data": {
      "text/latex": [
       "$\\displaystyle \\int\\limits_{z}^{1} \\begin{cases} x + \\frac{z}{x} & \\text{for}\\: x > 0 \\wedge \\frac{z}{x} > 0 \\wedge x < 1 \\wedge \\frac{z}{x} < 1 \\\\0 & \\text{otherwise} \\end{cases}\\, dx$"
      ],
      "text/plain": [
       "Integral(Piecewise((x + z/x, (x > 0) & (x < 1) & (z/x > 0) & (z/x < 1)), (0, True)), (x, z, 1))"
      ]
     },
     "execution_count": 222,
     "metadata": {},
     "output_type": "execute_result"
    }
   ],
   "source": [
    "# 条件太多，得不到正确的结果，重写\n",
    "# fxy.subs({y:(z/x),z:z1})\n",
    "# fz_ = Integral(fxy.subs({y:(z/x),z:z1})/x,(x,z1,1))\n",
    "# fz_ = Integral(fxy.subs({y:(z/x)}).subs(z,z1).subs(z1,z2+1).subs(z2,z-1)/x,(x,z,1))\n",
    "# fz_ = Integral(fxy.subs({y:(z/x)})/x,(x,z,1))\n",
    "# fz_ = Integral(fxy.subs({y:(z/x)}).subs(z,0.5)/x,(x,0.5,1))\n",
    "fz_ = Integral(fxy.subs({y:(z/x)}),(x,z,1))\n",
    "fz_\n",
    "fz_2 = fz_.doit()\n",
    "fz_2\n",
    "fz_2.subs(z,(z2+1)).subs(z2,z-1)\n",
    "\n",
    "# fz_\n",
    "# fz_ = simplify(fz_.doit())\n",
    "# fz_"
   ]
  },
  {
   "cell_type": "code",
   "execution_count": 240,
   "metadata": {},
   "outputs": [
    {
     "data": {
      "text/latex": [
       "$\\displaystyle \\begin{cases} 1 + \\frac{z}{x^{2}} & \\text{for}\\: x > z \\wedge z > 0 \\wedge z < 1 \\\\0 & \\text{otherwise} \\end{cases}$"
      ],
      "text/plain": [
       "Piecewise((1 + z/x**2, (x > z) & (z > 0) & (z < 1)), (0, True))"
      ]
     },
     "execution_count": 240,
     "metadata": {},
     "output_type": "execute_result"
    },
    {
     "data": {
      "text/latex": [
       "$\\displaystyle \\begin{cases} 2 - 2 z & \\text{for}\\: z > 0 \\\\0 & \\text{otherwise} \\end{cases}$"
      ],
      "text/plain": [
       "Piecewise((2 - 2*z, z > 0), (0, True))"
      ]
     },
     "execution_count": 240,
     "metadata": {},
     "output_type": "execute_result"
    },
    {
     "data": {
      "text/latex": [
       "$\\displaystyle \\left( 2 - 2 z, \\  z > 0\\right)$"
      ],
      "text/plain": [
       "(2 - 2*z, z > 0)"
      ]
     },
     "execution_count": 240,
     "metadata": {},
     "output_type": "execute_result"
    },
    {
     "data": {
      "text/latex": [
       "$\\displaystyle \\begin{cases} 2 - 2 z & \\text{for}\\: z > 0 \\wedge z < 1 \\\\0 & \\text{otherwise} \\end{cases}$"
      ],
      "text/plain": [
       "Piecewise((2 - 2*z, (z > 0) & (z < 1)), (0, True))"
      ]
     },
     "execution_count": 240,
     "metadata": {},
     "output_type": "execute_result"
    },
    {
     "data": {
      "image/png": "[encoded data removed]",
      "text/plain": [
       "<Figure size 432x288 with 1 Axes>"
      ]
     },
     "metadata": {
      "needs_background": "light"
     },
     "output_type": "display_data"
    },
    {
     "data": {
      "text/plain": [
       "<sympy.plotting.plot.Plot at 0x18fd261fd88>"
      ]
     },
     "execution_count": 240,
     "metadata": {},
     "output_type": "execute_result"
    }
   ],
   "source": [
    "# 重写\n",
    "fz_1 = Piecewise((1+z/x**2,(x>z)&(z>0)&(z<1)),(0,True))\n",
    "fz_1\n",
    "fz = Integral(fz_1,(x,z,1)).doit().subs(z,1+z2).subs(z2,z-1)# 最终结果\n",
    "fz\n",
    "fz.args[0]\n",
    "# 重写\n",
    "fz_2 = Piecewise((fz.args[0][0],(z>0)&(z<1)),(0,True)) # 最终结果\n",
    "fz_2\n",
    "# dir(fz)\n",
    "plot(fz_2,xlim=(-0.5,2),ylim=(-0.5,3))"
   ]
  },
  {
   "cell_type": "markdown",
   "metadata": {},
   "source": [
    "##### fz.args 重要属性\n",
    "fz.args\n"
   ]
  },
  {
   "cell_type": "markdown",
   "metadata": {},
   "source": [
    "#### 1999年数学四第11题\n",
    "$设二维随机变量(X,Y)在矩形上服从均匀分布\\\\\n",
    "G=\\{(x,y)|0\\le x\\le 2,0\\le y\\le 1\\}\\\\\n",
    "试求边长为x和y的矩形面积S的概率密度f(s)$"
   ]
  },
  {
   "cell_type": "code",
   "execution_count": 243,
   "metadata": {},
   "outputs": [
    {
     "data": {
      "text/latex": [
       "$\\displaystyle \\begin{cases} 0.5 & \\text{for}\\: y \\geq 0 \\wedge x \\leq 2 \\wedge y \\leq 1 \\wedge x > 0 \\\\0 & \\text{otherwise} \\end{cases}$"
      ],
      "text/plain": [
       "Piecewise((0.5, (y >= 0) & (x <= 2) & (y <= 1) & (x > 0)), (0, True))"
      ]
     },
     "execution_count": 243,
     "metadata": {},
     "output_type": "execute_result"
    }
   ],
   "source": [
    "# Z=XY\n",
    "x,y,z = symbols('x y z')\n",
    "z1 = symbols('z',positive=True)\n",
    "z2 = symbols('z',negative=True)\n",
    "fxy = Piecewise((1/2,(x>0)&(x<=2)&(y>=0)&(y<=1)),(0,True))\n",
    "fxy"
   ]
  },
  {
   "cell_type": "code",
   "execution_count": 299,
   "metadata": {},
   "outputs": [
    {
     "data": {
      "text/latex": [
       "$\\displaystyle \\begin{cases} 0.5 & \\text{for}\\: x \\leq 2 \\wedge x > 0 \\wedge x > z \\wedge z > 0 \\wedge z < 2 \\\\0 & \\text{otherwise} \\end{cases}$"
      ],
      "text/plain": [
       "Piecewise((0.5, (x <= 2) & (x > 0) & (x > z) & (z > 0) & (z < 2)), (0, True))"
      ]
     },
     "execution_count": 299,
     "metadata": {},
     "output_type": "execute_result"
    },
    {
     "data": {
      "text/latex": [
       "$\\displaystyle \\begin{cases} - 0.5 \\log{\\left(z \\right)} + 0.5 \\log{\\left(2 \\right)} & \\text{for}\\: z > 0 \\wedge z < 2 \\\\0 & \\text{otherwise} \\end{cases}$"
      ],
      "text/plain": [
       "Piecewise((-0.5*log(z) + 0.5*log(2), (z > 0) & (z < 2)), (0, True))"
      ]
     },
     "execution_count": 299,
     "metadata": {},
     "output_type": "execute_result"
    },
    {
     "data": {
      "text/plain": [
       "[<matplotlib.lines.Line2D at 0x18fd782ab08>]"
      ]
     },
     "execution_count": 299,
     "metadata": {},
     "output_type": "execute_result"
    },
    {
     "data": {
      "text/latex": [
       "$\\displaystyle 1.0$"
      ],
      "text/plain": [
       "1.00000000000000"
      ]
     },
     "execution_count": 299,
     "metadata": {},
     "output_type": "execute_result"
    },
    {
     "data": {
      "image/png": "[encoded data removed]",
      "text/plain": [
       "<Figure size 432x288 with 1 Axes>"
      ]
     },
     "metadata": {
      "needs_background": "light"
     },
     "output_type": "display_data"
    }
   ],
   "source": [
    "fxz = Piecewise((1/2,(x>0)&(x<=2)&(z>0)&(z<x)&(z<2)),(0,True))\n",
    "fxz\n",
    "fz1 = Integral(fxz/x,(x,z,2))\n",
    "fz2 = fz1.doit().subs(z,z1).subs(z1,z2+2).subs(z2,z-2) \n",
    "# 重写\n",
    "fz2 = Piecewise((fz2, (z>0)&(z<2)),(0,True)) # 最终结果\n",
    "fz2\n",
    "# plot(fz2) # log打印不出来\n",
    "# 改用matplotlib打印\n",
    "x_1 = np.linspace(-1,5,100)\n",
    "z_1=[]\n",
    "for x1 in x_1:\n",
    "    z_1.append(fz2.subs(z,x1).evalf())\n",
    "#     if isinstance(fz2.subs(z,x1).evalf(), Add):\n",
    "#         z_1.append(0)\n",
    "#     else:\n",
    "#         z_1.append(fz2.subs(z,x1).evalf())\n",
    "# z_1\n",
    "plt.plot(x_1,z_1)\n",
    "integrate(fz2,(z,0,oo)).evalf()"
   ]
  },
  {
   "cell_type": "markdown",
   "metadata": {},
   "source": [
    "### Z=max{X,Y}与Z=min{X,Y}的分布  \n",
    "$F_{max}(z)=P\\{max\\{X,Y\\}\\le z\\}=P\\{X\\le z,Y\\le z\\}=P\\{X\\le z\\}P\\{Y\\le z\\}=F_X(z)F_Y(z)\\\\\n",
    "F_{min}(z)=P\\{min\\{X,Y\\}\\le z\\}=1-P\\{min\\{X,Y\\}>z\\}=1-P\\{X>z,y>z\\}=\\ 1-P\\{X>z\\}P\\{y>z\\}=\\ 1-[1-P\\{X\\le z\\}][1-P\\{Y\\le z\\}]=1-[1-F_X(z)][1-F_Y(z)]\n",
    "$  \n",
    "以上情况可以推广到n个相互独立的随机变量"
   ]
  },
  {
   "cell_type": "markdown",
   "metadata": {},
   "source": [
    "#### 例11  \n",
    "$设随机变量X,Y的概率密度为\\\\\n",
    "f(x,y)=\\begin{cases}{e\\over e-1}e^{-(x+y)}&0<x<1,y>0\\\\0&其它\\end{cases}\\\\\n",
    "验证X与Y相互独立并求函数U=max\\{X,Y\\}的分布函数应该对应的概率密度$"
   ]
  },
  {
   "cell_type": "code",
   "execution_count": 302,
   "metadata": {},
   "outputs": [
    {
     "data": {
      "text/latex": [
       "$\\displaystyle \\begin{cases} \\frac{e e^{- x - y}}{-1 + e} & \\text{for}\\: x > 0 \\wedge y > 0 \\wedge x < 1 \\\\0 & \\text{otherwise} \\end{cases}$"
      ],
      "text/plain": [
       "Piecewise((E*exp(-x - y)/(-1 + E), (x > 0) & (y > 0) & (x < 1)), (0, True))"
      ]
     },
     "execution_count": 302,
     "metadata": {},
     "output_type": "execute_result"
    },
    {
     "data": {
      "text/latex": [
       "$\\displaystyle 1$"
      ],
      "text/plain": [
       "1"
      ]
     },
     "execution_count": 302,
     "metadata": {},
     "output_type": "execute_result"
    }
   ],
   "source": [
    "x,y,z,u = symbols('x y z u')\n",
    "# z1 = symbols('z',positive=True)\n",
    "# z2 = symbols('z',negative=True)\n",
    "fxy = Piecewise(((E/(E-1))*exp(-x-y),(x>0)&(x<1)&(y>0)),(0,True))\n",
    "fxy\n",
    "integrate(fxy,(x,-oo,oo),(y,-oo,oo))"
   ]
  },
  {
   "cell_type": "code",
   "execution_count": 313,
   "metadata": {},
   "outputs": [
    {
     "data": {
      "text/latex": [
       "$\\displaystyle \\begin{cases} \\frac{e e^{- x}}{-1 + e} & \\text{for}\\: x > 0 \\wedge x < 1 \\\\0 & \\text{otherwise} \\end{cases}$"
      ],
      "text/plain": [
       "Piecewise((E*exp(-x)/(-1 + E), (x > 0) & (x < 1)), (0, True))"
      ]
     },
     "execution_count": 313,
     "metadata": {},
     "output_type": "execute_result"
    },
    {
     "data": {
      "text/latex": [
       "$\\displaystyle \\begin{cases} - \\frac{e e^{- y - 1}}{-1 + e} + \\frac{e e^{- y}}{-1 + e} & \\text{for}\\: y > 0 \\wedge y < \\infty \\\\0 & \\text{otherwise} \\end{cases}$"
      ],
      "text/plain": [
       "Piecewise((-E*exp(-y - 1)/(-1 + E) + E*exp(-y)/(-1 + E), (y > 0) & (y < oo)), (0, True))"
      ]
     },
     "execution_count": 313,
     "metadata": {},
     "output_type": "execute_result"
    },
    {
     "data": {
      "text/latex": [
       "$\\displaystyle \\begin{cases} - \\frac{e^{1 - x}}{1 - e} & \\text{for}\\: x > 0 \\wedge x < 1 \\\\0 & \\text{otherwise} \\end{cases}$"
      ],
      "text/plain": [
       "Piecewise((-exp(1 - x)/(1 - E), (x > 0) & (x < 1)), (0, True))"
      ]
     },
     "execution_count": 313,
     "metadata": {},
     "output_type": "execute_result"
    },
    {
     "data": {
      "text/latex": [
       "$\\displaystyle \\begin{cases} e^{- y} & \\text{for}\\: y > 0 \\wedge y < \\infty \\\\0 & \\text{otherwise} \\end{cases}$"
      ],
      "text/plain": [
       "Piecewise((exp(-y), (y > 0) & (y < oo)), (0, True))"
      ]
     },
     "execution_count": 313,
     "metadata": {},
     "output_type": "execute_result"
    },
    {
     "data": {
      "text/latex": [
       "$\\displaystyle \\begin{cases} - \\frac{e^{- x - y + 1}}{1 - e} & \\text{for}\\: x > 0 \\wedge y > 0 \\wedge x < 1 \\wedge y < \\infty \\\\0 & \\text{otherwise} \\end{cases}$"
      ],
      "text/plain": [
       "Piecewise((-exp(-x - y + 1)/(1 - E), (x > 0) & (y > 0) & (x < 1) & (y < oo)), (0, True))"
      ]
     },
     "execution_count": 313,
     "metadata": {},
     "output_type": "execute_result"
    },
    {
     "data": {
      "text/plain": [
       "False"
      ]
     },
     "execution_count": 313,
     "metadata": {},
     "output_type": "execute_result"
    }
   ],
   "source": [
    "fx = Integral(fxy,(y,0,oo)).doit()\n",
    "fy = Integral(fxy,(x,0,1)).doit()\n",
    "fx\n",
    "fy\n",
    "simplify(fx)\n",
    "simplify(fy)\n",
    "# 说明独立性\n",
    "simplify(fx*fy) # 说明相互独立\n"
   ]
  },
  {
   "cell_type": "code",
   "execution_count": 351,
   "metadata": {},
   "outputs": [
    {
     "data": {
      "text/latex": [
       "$\\displaystyle \\begin{cases} 0 & \\text{for}\\: x < 0 \\\\\\frac{e^{1 - x} - e}{1 - e} & \\text{otherwise} \\end{cases}$"
      ],
      "text/plain": [
       "Piecewise((0, x < 0), ((exp(1 - x) - E)/(1 - E), True))"
      ]
     },
     "execution_count": 351,
     "metadata": {},
     "output_type": "execute_result"
    },
    {
     "data": {
      "text/latex": [
       "$\\displaystyle \\begin{cases} 0 & \\text{for}\\: y < 0 \\\\1 - e^{- y} & \\text{otherwise} \\end{cases}$"
      ],
      "text/plain": [
       "Piecewise((0, y < 0), (1 - exp(-y), True))"
      ]
     },
     "execution_count": 351,
     "metadata": {},
     "output_type": "execute_result"
    },
    {
     "data": {
      "text/latex": [
       "$\\displaystyle \\begin{cases} 0 & \\text{for}\\: z < 0 \\\\- \\frac{\\left(1 - e^{z}\\right)^{2} e^{1 - 2 z}}{1 - e} & \\text{otherwise} \\end{cases}$"
      ],
      "text/plain": [
       "Piecewise((0, z < 0), (-(1 - exp(z))**2*exp(1 - 2*z)/(1 - E), True))"
      ]
     },
     "execution_count": 351,
     "metadata": {},
     "output_type": "execute_result"
    },
    {
     "data": {
      "text/plain": [
       "'***'"
      ]
     },
     "execution_count": 351,
     "metadata": {},
     "output_type": "execute_result"
    },
    {
     "data": {
      "text/latex": [
       "$\\displaystyle \\begin{cases} \\frac{e^{1 - z} - e}{1 - e} & \\text{for}\\: z > 0 \\wedge z < 1 \\\\1 & \\text{for}\\: z \\geq 1 \\\\0 & \\text{for}\\: z \\leq 0 \\end{cases}$"
      ],
      "text/plain": [
       "Piecewise(((exp(1 - z) - E)/(1 - E), (z > 0) & (z < 1)), (1, z >= 1), (0, z <= 0))"
      ]
     },
     "execution_count": 351,
     "metadata": {},
     "output_type": "execute_result"
    },
    {
     "data": {
      "text/latex": [
       "$\\displaystyle \\begin{cases} 1 - e^{- z} & \\text{for}\\: z > 0 \\\\0 & \\text{otherwise} \\end{cases}$"
      ],
      "text/plain": [
       "Piecewise((1 - exp(-z), z > 0), (0, True))"
      ]
     },
     "execution_count": 351,
     "metadata": {},
     "output_type": "execute_result"
    },
    {
     "data": {
      "text/latex": [
       "$\\displaystyle \\begin{cases} - \\frac{\\left(1 - e^{z}\\right)^{2} e^{1 - 2 z}}{1 - e} & \\text{for}\\: z > 0 \\wedge z < 1 \\\\1 - e^{- z} & \\text{for}\\: z \\geq 1 \\\\0 & \\text{for}\\: z \\leq 0 \\end{cases}$"
      ],
      "text/plain": [
       "Piecewise((-(1 - exp(z))**2*exp(1 - 2*z)/(1 - E), (z > 0) & (z < 1)), (1 - exp(-z), z >= 1), (0, z <= 0))"
      ]
     },
     "execution_count": 351,
     "metadata": {},
     "output_type": "execute_result"
    },
    {
     "data": {
      "text/latex": [
       "$\\displaystyle \\begin{cases} \\frac{2 \\left(1 - e^{z}\\right) e^{1 - 2 z}}{1 - e} & \\text{for}\\: z > 0 \\wedge z < 1 \\\\e^{- z} & \\text{for}\\: z \\geq 1 \\\\0 & \\text{for}\\: z \\leq 0 \\end{cases}$"
      ],
      "text/plain": [
       "Piecewise((2*(1 - exp(z))*exp(1 - 2*z)/(1 - E), (z > 0) & (z < 1)), (exp(-z), z >= 1), (0, z <= 0))"
      ]
     },
     "execution_count": 351,
     "metadata": {},
     "output_type": "execute_result"
    },
    {
     "data": {
      "image/png": "[encoded data removed]",
      "text/plain": [
       "<Figure size 432x288 with 1 Axes>"
      ]
     },
     "metadata": {
      "needs_background": "light"
     },
     "output_type": "display_data"
    },
    {
     "data": {
      "text/plain": [
       "<sympy.plotting.plot.Plot at 0x18fd82817c8>"
      ]
     },
     "execution_count": 351,
     "metadata": {},
     "output_type": "execute_result"
    },
    {
     "data": {
      "image/png": "[encoded data removed]",
      "text/plain": [
       "<Figure size 432x288 with 1 Axes>"
      ]
     },
     "metadata": {
      "needs_background": "light"
     },
     "output_type": "display_data"
    },
    {
     "data": {
      "text/plain": [
       "<sympy.plotting.plot.Plot at 0x18fcf199c08>"
      ]
     },
     "execution_count": 351,
     "metadata": {},
     "output_type": "execute_result"
    }
   ],
   "source": [
    "x1 = symbols('x', negative=True)\n",
    "# Integral(fx, (x, 0, x)).doit()\n",
    "Fx = Integral(fx, (x, 0, x)).doit().subs(x, 1 + x1).subs(x1, x - 1)  # x有范围,要处理\n",
    "Fy = Integral(fy, (y, 0, y)).doit()\n",
    "simplify(Fx)\n",
    "Fy\n",
    "Fu = simplify(Fx.subs(x, z) * Fy.subs(y, z))\n",
    "Fu\n",
    "\n",
    "\"***\"\n",
    "# 在积分过后可能要做一下简单的重写处理\n",
    "# 重写Fx,Fy\n",
    "Fx_ = Piecewise((Fx.args[1][0], (x > 0) & (x < 1)), (1, x >= 1),\n",
    "                (0, x <= 0)).subs(x, z)\n",
    "Fy_ = Piecewise((Fy.args[1][0], (y > 0)), (0, y <= 0)).subs(y, z)\n",
    "simplify(Fx_)\n",
    "Fy_\n",
    "\n",
    "Fu_ = simplify(Fx_ * Fy_)  # 最终结果\n",
    "Fu_\n",
    "fu_ = simplify(diff(Fu_, z))  # 最终结果\n",
    "fu_\n",
    "plot(Fu_)\n",
    "plot(fu_)"
   ]
  },
  {
   "cell_type": "markdown",
   "metadata": {},
   "source": [
    "#### 例12  \n",
    "$设二维随机变量(X,Y)的分布率为 \\\\\n",
    "\\begin{array}{c|cccccc}\n",
    "YX & 0 & 1 & 2 & 3 & 4 & 5\\\\\n",
    "\\hline\n",
    "0 & 0.00 & 0.01 & 0.03 & 0.05 & 0.07 & 0.09 \\\\\n",
    "1 & 0.01 & 0.02 & 0.04 & 0.05 & 0.06 & 0.08\\\\\n",
    "2 & 0.01 & 0.03 & 0.05 & 0.05 & 0.05 & 0.06\\\\\n",
    "3 & 0.01 & 0.02 & 0.04 & 0.06 & 0.06 & 0.05\\\\\n",
    "\\end{array}\\\\\n",
    "求V=max\\{X,Y\\}和U=min\\{X,Y\\}的分布律$"
   ]
  },
  {
   "cell_type": "code",
   "execution_count": 397,
   "metadata": {},
   "outputs": [
    {
     "data": {
      "text/html": [
       "<div>\n",
       "<style scoped>\n",
       "    .dataframe tbody tr th:only-of-type {\n",
       "        vertical-align: middle;\n",
       "    }\n",
       "\n",
       "    .dataframe tbody tr th {\n",
       "        vertical-align: top;\n",
       "    }\n",
       "\n",
       "    .dataframe thead th {\n",
       "        text-align: right;\n",
       "    }\n",
       "</style>\n",
       "<table border=\"1\" class=\"dataframe\">\n",
       "  <thead>\n",
       "    <tr style=\"text-align: right;\">\n",
       "      <th></th>\n",
       "      <th>0</th>\n",
       "      <th>1</th>\n",
       "      <th>2</th>\n",
       "      <th>3</th>\n",
       "      <th>4</th>\n",
       "      <th>5</th>\n",
       "    </tr>\n",
       "  </thead>\n",
       "  <tbody>\n",
       "    <tr>\n",
       "      <td>p</td>\n",
       "      <td>0.0</td>\n",
       "      <td>0.04</td>\n",
       "      <td>0.16</td>\n",
       "      <td>0.28</td>\n",
       "      <td>0.24</td>\n",
       "      <td>0.28</td>\n",
       "    </tr>\n",
       "  </tbody>\n",
       "</table>\n",
       "</div>"
      ],
      "text/plain": [
       "     0     1     2     3     4     5\n",
       "p  0.0  0.04  0.16  0.28  0.24  0.28"
      ]
     },
     "execution_count": 397,
     "metadata": {},
     "output_type": "execute_result"
    },
    {
     "data": {
      "text/html": [
       "<div>\n",
       "<style scoped>\n",
       "    .dataframe tbody tr th:only-of-type {\n",
       "        vertical-align: middle;\n",
       "    }\n",
       "\n",
       "    .dataframe tbody tr th {\n",
       "        vertical-align: top;\n",
       "    }\n",
       "\n",
       "    .dataframe thead th {\n",
       "        text-align: right;\n",
       "    }\n",
       "</style>\n",
       "<table border=\"1\" class=\"dataframe\">\n",
       "  <thead>\n",
       "    <tr style=\"text-align: right;\">\n",
       "      <th></th>\n",
       "      <th>0</th>\n",
       "      <th>1</th>\n",
       "      <th>2</th>\n",
       "      <th>3</th>\n",
       "    </tr>\n",
       "  </thead>\n",
       "  <tbody>\n",
       "    <tr>\n",
       "      <td>p</td>\n",
       "      <td>0.28</td>\n",
       "      <td>0.3</td>\n",
       "      <td>0.25</td>\n",
       "      <td>0.17</td>\n",
       "    </tr>\n",
       "  </tbody>\n",
       "</table>\n",
       "</div>"
      ],
      "text/plain": [
       "      0    1     2     3\n",
       "p  0.28  0.3  0.25  0.17"
      ]
     },
     "execution_count": 397,
     "metadata": {},
     "output_type": "execute_result"
    },
    {
     "data": {
      "text/plain": [
       "1.0"
      ]
     },
     "execution_count": 397,
     "metadata": {},
     "output_type": "execute_result"
    },
    {
     "data": {
      "text/plain": [
       "1.0"
      ]
     },
     "execution_count": 397,
     "metadata": {},
     "output_type": "execute_result"
    }
   ],
   "source": [
    "np.set_printoptions(threshold=np.inf, precision=2, suppress=True)\n",
    "arr1 = np.array([[0.00, 0.01, 0.03, 0.05, 0.07, 0.09],\n",
    "                 [0.01, 0.02, 0.04, 0.05, 0.06, 0.08],\n",
    "                 [0.01, 0.03, 0.05, 0.05, 0.05, 0.06],\n",
    "                 [0.01, 0.02, 0.04, 0.06, 0.06, 0.05]])\n",
    "V1={}\n",
    "U1={}\n",
    "# V1[0]=1\n",
    "for i in range(4):\n",
    "    for j in range(6):\n",
    "        if max(i,j) in V1.keys():\n",
    "            V1[max(i,j)]+=arr1[i,j]\n",
    "        else:\n",
    "            V1[max(i,j)]=arr1[i,j]\n",
    "        if min(i,j) in U1.keys():\n",
    "            U1[min(i,j)]+=arr1[i,j]\n",
    "        else:\n",
    "            U1[min(i,j)]=arr1[i,j]\n",
    "\n",
    "df_v= pd.DataFrame(data=V1.values(),index=V1.keys(),columns=['p']).T\n",
    "df_v\n",
    "\n",
    "df_u= pd.DataFrame(data=U1.values(),index=U1.keys(),columns=['p']).T\n",
    "df_u\n",
    "df_v.iloc[0,:].sum()\n",
    "df_u.iloc[0,:].sum()"
   ]
  },
  {
   "cell_type": "code",
   "execution_count": null,
   "metadata": {},
   "outputs": [],
   "source": []
  },
  {
   "cell_type": "markdown",
   "metadata": {},
   "source": [
    "#### 2012年数学三第23题    \n",
    "$设随机变量X与Y相互独立，且都服从参数为1的指数分布，求V=min\\{X,Y\\}的概率密度$  "
   ]
  },
  {
   "cell_type": "code",
   "execution_count": 403,
   "metadata": {},
   "outputs": [
    {
     "data": {
      "text/latex": [
       "$\\displaystyle \\begin{cases} e^{- x} & \\text{for}\\: x > 0 \\\\0 & \\text{otherwise} \\end{cases}$"
      ],
      "text/plain": [
       "Piecewise((exp(-x), x > 0), (0, True))"
      ]
     },
     "execution_count": 403,
     "metadata": {},
     "output_type": "execute_result"
    },
    {
     "data": {
      "text/latex": [
       "$\\displaystyle \\begin{cases} e^{- y} & \\text{for}\\: y > 0 \\\\0 & \\text{otherwise} \\end{cases}$"
      ],
      "text/plain": [
       "Piecewise((exp(-y), y > 0), (0, True))"
      ]
     },
     "execution_count": 403,
     "metadata": {},
     "output_type": "execute_result"
    },
    {
     "data": {
      "text/latex": [
       "$\\displaystyle \\begin{cases} 0 & \\text{for}\\: x < 0 \\\\1 - e^{- x} & \\text{otherwise} \\end{cases}$"
      ],
      "text/plain": [
       "Piecewise((0, x < 0), (1 - exp(-x), True))"
      ]
     },
     "execution_count": 403,
     "metadata": {},
     "output_type": "execute_result"
    },
    {
     "data": {
      "text/latex": [
       "$\\displaystyle \\begin{cases} 0 & \\text{for}\\: y < 0 \\\\1 - e^{- y} & \\text{otherwise} \\end{cases}$"
      ],
      "text/plain": [
       "Piecewise((0, y < 0), (1 - exp(-y), True))"
      ]
     },
     "execution_count": 403,
     "metadata": {},
     "output_type": "execute_result"
    }
   ],
   "source": [
    "x,y,z,v = symbols('x y z v')\n",
    "fx = Piecewise((exp(-x),x>0),(0,True))\n",
    "fy = Piecewise((exp(-y),y>0),(0,True))\n",
    "fx\n",
    "fy\n",
    "Fx = Integral(fx,(x,0,x)).doit()\n",
    "Fy = Integral(fy,(y,0,y)).doit()\n",
    "Fx\n",
    "Fy"
   ]
  },
  {
   "cell_type": "code",
   "execution_count": 417,
   "metadata": {},
   "outputs": [
    {
     "data": {
      "text/latex": [
       "$\\displaystyle \\begin{cases} 0 & \\text{for}\\: v < 0 \\\\1 - e^{- 2 v} & \\text{otherwise} \\end{cases}$"
      ],
      "text/plain": [
       "Piecewise((0, v < 0), (1 - exp(-2*v), True))"
      ]
     },
     "execution_count": 417,
     "metadata": {},
     "output_type": "execute_result"
    },
    {
     "data": {
      "text/latex": [
       "$\\displaystyle \\begin{cases} 0 & \\text{for}\\: v < 0 \\\\2 e^{- 2 v} & \\text{otherwise} \\end{cases}$"
      ],
      "text/plain": [
       "Piecewise((0, v < 0), (2*exp(-2*v), True))"
      ]
     },
     "execution_count": 417,
     "metadata": {},
     "output_type": "execute_result"
    },
    {
     "data": {
      "image/png": "[encoded data removed]",
      "text/plain": [
       "<Figure size 432x288 with 1 Axes>"
      ]
     },
     "metadata": {
      "needs_background": "light"
     },
     "output_type": "display_data"
    },
    {
     "data": {
      "text/plain": [
       "<sympy.plotting.plot.Plot at 0x18fe0f21108>"
      ]
     },
     "execution_count": 417,
     "metadata": {},
     "output_type": "execute_result"
    }
   ],
   "source": [
    "Fv = 1-(1-Fx.subs(x,v))*(1-Fy.subs(y,v))\n",
    "Fv = simplify(Fv) # 最终结果\n",
    "Fv\n",
    "fv = diff(Fv,v)# 最终结果\n",
    "fv\n",
    "plot(fv)"
   ]
  },
  {
   "cell_type": "code",
   "execution_count": null,
   "metadata": {},
   "outputs": [],
   "source": []
  },
  {
   "cell_type": "markdown",
   "metadata": {},
   "source": [
    "# 随机变量的数字特征"
   ]
  },
  {
   "cell_type": "markdown",
   "metadata": {},
   "source": [
    "## 数学期望"
   ]
  },
  {
   "cell_type": "markdown",
   "metadata": {},
   "source": [
    "### 随机变量的数学期望"
   ]
  },
  {
   "cell_type": "markdown",
   "metadata": {},
   "source": [
    "#### 0-1分布的数学期望"
   ]
  },
  {
   "cell_type": "code",
   "execution_count": 4,
   "metadata": {},
   "outputs": [
    {
     "data": {
      "image/png": "[encoded data removed]",
      "text/latex": [
       "$\\displaystyle p$"
      ],
      "text/plain": [
       "p"
      ]
     },
     "execution_count": 4,
     "metadata": {},
     "output_type": "execute_result"
    }
   ],
   "source": [
    "x, y, z = symbols('x y z')\n",
    "p = symbols('p', positive=True)\n",
    "n, k = symbols('n k', integer=True, positive=True)\n",
    "# 0-1分布的数学期望\n",
    "ex1 = 0*(1-p)+1*p\n",
    "ex1 # 结果\n"
   ]
  },
  {
   "cell_type": "markdown",
   "metadata": {},
   "source": [
    "#### 二项分布的数学期望  \n",
    "$C_n^m={n\\over m}C_{n-1}^{m-1}$"
   ]
  },
  {
   "cell_type": "code",
   "execution_count": 123,
   "metadata": {},
   "outputs": [
    {
     "data": {
      "image/png": "[encoded data removed]",
      "text/latex": [
       "$\\displaystyle p^{k} \\left(1 - p\\right)^{- k + n} {\\binom{n}{k}}$"
      ],
      "text/plain": [
       " k        -k + n ⎛n⎞\n",
       "p ⋅(1 - p)      ⋅⎜ ⎟\n",
       "                 ⎝k⎠"
      ]
     },
     "execution_count": 123,
     "metadata": {},
     "output_type": "execute_result"
    },
    {
     "data": {
      "image/png": "[encoded data removed]",
      "text/latex": [
       "$\\displaystyle 1$"
      ],
      "text/plain": [
       "1"
      ]
     },
     "execution_count": 123,
     "metadata": {},
     "output_type": "execute_result"
    },
    {
     "data": {
      "text/latex": [
       "$\\displaystyle \\begin{cases} n p & \\text{for}\\: \\frac{p}{\\left|{p - 1}\\right|} \\leq 1 \\\\\\left(1 - p\\right)^{n} \\sum_{k=0}^{n} k p^{k} \\left(1 - p\\right)^{- k} {\\binom{n}{k}} & \\text{otherwise} \\end{cases}$"
      ],
      "text/plain": [
       "⎧                                          p       \n",
       "⎪               n⋅p                 for ─────── ≤ 1\n",
       "⎪                                       │p - 1│    \n",
       "⎪                                                  \n",
       "⎪           n                                      \n",
       "⎪          ____                                    \n",
       "⎪          ╲                                       \n",
       "⎨           ╲      k        -k ⎛n⎞                 \n",
       "⎪       n    ╲  k⋅p ⋅(1 - p)  ⋅⎜ ⎟                 \n",
       "⎪(1 - p) ⋅   ╱                 ⎝k⎠     otherwise   \n",
       "⎪           ╱                                      \n",
       "⎪          ╱                                       \n",
       "⎪          ‾‾‾‾                                    \n",
       "⎪         False                                    \n",
       "⎩                                                  "
      ]
     },
     "execution_count": 123,
     "metadata": {},
     "output_type": "execute_result"
    }
   ],
   "source": [
    "n, k = symbols('n k', integer=True, positive=True) # n设为正整数很重要\n",
    "p = symbols('p', positive=True)\n",
    "\n",
    "# 二项分布的概率\n",
    "px = binomial(n, k) * p**(k) * (1 - p)**(n - k)\n",
    "px\n",
    "# 二项分布的全概率\n",
    "summation(px, (k, 0, n)).simplify().args[0][0]\n",
    "# 二项分布的数学期望\n",
    "ex1 = summation(k*px, (k, 0, n)).simplify().args[0][0]\n",
    "ex1 # 结果"
   ]
  },
  {
   "cell_type": "markdown",
   "metadata": {},
   "source": [
    "#### 泊松分布的数学期望"
   ]
  },
  {
   "cell_type": "code",
   "execution_count": 221,
   "metadata": {
    "scrolled": true
   },
   "outputs": [
    {
     "data": {
      "image/png": "[encoded data removed]",
      "text/latex": [
       "$\\displaystyle \\frac{\\lambda^{k} e^{- \\lambda}}{k!}$"
      ],
      "text/plain": [
       " k  -λ\n",
       "λ ⋅ℯ  \n",
       "──────\n",
       "  k!  "
      ]
     },
     "execution_count": 221,
     "metadata": {},
     "output_type": "execute_result"
    },
    {
     "data": {
      "image/png": "[encoded data removed]",
      "text/latex": [
       "$\\displaystyle 1$"
      ],
      "text/plain": [
       "1"
      ]
     },
     "execution_count": 221,
     "metadata": {},
     "output_type": "execute_result"
    },
    {
     "data": {
      "image/png": "[encoded data removed]",
      "text/latex": [
       "$\\displaystyle \\lambda$"
      ],
      "text/plain": [
       "λ"
      ]
     },
     "execution_count": 221,
     "metadata": {},
     "output_type": "execute_result"
    }
   ],
   "source": [
    "lamda = symbols('lamda')\n",
    "# 泊松分布的概率\n",
    "px = exp(-lamda)*lamda**k/factorial(k)\n",
    "px\n",
    "# 泊松分布的全概率\n",
    "summation(px, (k, 0, oo))\n",
    "# 泊松分布的数学期望\n",
    "ex1 = summation(k*px, (k, 0, oo))\n",
    "ex1 # 结果\n"
   ]
  },
  {
   "cell_type": "markdown",
   "metadata": {},
   "source": [
    "#### 几何分布的数学期望  \n"
   ]
  },
  {
   "cell_type": "code",
   "execution_count": 292,
   "metadata": {},
   "outputs": [
    {
     "data": {
      "image/png": "[encoded data removed]",
      "text/latex": [
       "$\\displaystyle p \\left(1 - p\\right)^{k - 1}$"
      ],
      "text/plain": [
       "         k - 1\n",
       "p⋅(1 - p)     "
      ]
     },
     "execution_count": 292,
     "metadata": {},
     "output_type": "execute_result"
    },
    {
     "data": {
      "image/png": "[encoded data removed]",
      "text/latex": [
       "$\\displaystyle 1$"
      ],
      "text/plain": [
       "1"
      ]
     },
     "execution_count": 292,
     "metadata": {},
     "output_type": "execute_result"
    },
    {
     "data": {
      "image/png": "[encoded data removed]",
      "text/latex": [
       "$\\displaystyle \\frac{1}{p}$"
      ],
      "text/plain": [
       "1\n",
       "─\n",
       "p"
      ]
     },
     "execution_count": 292,
     "metadata": {},
     "output_type": "execute_result"
    }
   ],
   "source": [
    "n, k = symbols('n k', integer=True, positive=True)\n",
    "p = symbols('p', positive=True)\n",
    "# 几何分布的概率\n",
    "px = p * (1 - p)**(k-1)\n",
    "# px = Piecewise((p * (1 - p)**(k-1), (p>0)&(p<1)),(0, True)) # 概率用分段函数表示\n",
    "px\n",
    "# 几何分布的全概率\n",
    "summation(px, (k, 1, oo)).simplify().args[0][0]\n",
    "# 几何分布的期望\n",
    "ex1 = summation(k*px, (k, 1, oo)).simplify().args[0][0] \n",
    "ex1 # 结果"
   ]
  },
  {
   "cell_type": "markdown",
   "metadata": {},
   "source": [
    "#### 超几何分布的数学期望   \n",
    "$X\\sim H(N,M,n)$   \n",
    "$p\\{x=k\\}=\\frac{C_M^k C_{N-M}^{n-k}}{C_N^n}$"
   ]
  },
  {
   "cell_type": "code",
   "execution_count": 91,
   "metadata": {},
   "outputs": [
    {
     "data": {
      "image/png": "[encoded data removed]",
      "text/latex": [
       "$\\displaystyle \\frac{{\\binom{M}{k}} {\\binom{- M + N}{- k + n}}}{{\\binom{N}{n}}}$"
      ],
      "text/plain": [
       "⎛M⎞ ⎛-M + N⎞\n",
       "⎜ ⎟⋅⎜      ⎟\n",
       "⎝k⎠ ⎝-k + n⎠\n",
       "────────────\n",
       "    ⎛N⎞     \n",
       "    ⎜ ⎟     \n",
       "    ⎝n⎠     "
      ]
     },
     "execution_count": 91,
     "metadata": {},
     "output_type": "execute_result"
    },
    {
     "data": {
      "image/png": "[encoded data removed]",
      "text/latex": [
       "$\\displaystyle 1$"
      ],
      "text/plain": [
       "1"
      ]
     },
     "execution_count": 91,
     "metadata": {},
     "output_type": "execute_result"
    },
    {
     "data": {
      "image/png": "[encoded data removed]",
      "text/latex": [
       "$\\displaystyle \\frac{M n}{N}$"
      ],
      "text/plain": [
       "M⋅n\n",
       "───\n",
       " N "
      ]
     },
     "execution_count": 91,
     "metadata": {},
     "output_type": "execute_result"
    }
   ],
   "source": [
    "n, k, N, M = symbols('n k N M', integer=True, positive=True)\n",
    "p = symbols('p', positive=True)\n",
    "# 超几何分布的概率\n",
    "px = binomial(M, k) * binomial(N - M, n - k) / binomial(N, n)\n",
    "px\n",
    "# 超几何分布的全概率\n",
    "summation(px, (k, 0, n)).simplify()\n",
    "# 超几何分布的期望\n",
    "ex1 = summation(k * px, (k, 0, n)).simplify()\n",
    "ex1 # 结果"
   ]
  },
  {
   "cell_type": "markdown",
   "metadata": {},
   "source": [
    "#### 均匀分布的数学期望"
   ]
  },
  {
   "cell_type": "code",
   "execution_count": 319,
   "metadata": {},
   "outputs": [
    {
     "data": {
      "text/latex": [
       "$\\displaystyle \\begin{cases} \\frac{1}{c} & \\text{for}\\: a \\leq x \\wedge x \\leq a + c \\\\0 & \\text{otherwise} \\end{cases}$"
      ],
      "text/plain": [
       "⎧1                       \n",
       "⎪─  for a ≤ x ∧ x ≤ a + c\n",
       "⎨c                       \n",
       "⎪                        \n",
       "⎩0        otherwise      "
      ]
     },
     "execution_count": 319,
     "metadata": {},
     "output_type": "execute_result"
    },
    {
     "data": {
      "image/png": "[encoded data removed]",
      "text/latex": [
       "$\\displaystyle 1$"
      ],
      "text/plain": [
       "1"
      ]
     },
     "execution_count": 319,
     "metadata": {},
     "output_type": "execute_result"
    },
    {
     "data": {
      "image/png": "[encoded data removed]",
      "text/latex": [
       "$\\displaystyle a + \\frac{c}{2}$"
      ],
      "text/plain": [
       "    c\n",
       "a + ─\n",
       "    2"
      ]
     },
     "execution_count": 319,
     "metadata": {},
     "output_type": "execute_result"
    },
    {
     "data": {
      "image/png": "[encoded data removed]",
      "text/latex": [
       "$\\displaystyle \\frac{a}{2} + \\frac{b}{2}$"
      ],
      "text/plain": [
       "a   b\n",
       "─ + ─\n",
       "2   2"
      ]
     },
     "execution_count": 319,
     "metadata": {},
     "output_type": "execute_result"
    }
   ],
   "source": [
    "a, b = symbols('a b', real=True)\n",
    "# a = symbols('a', real=True)\n",
    "c = symbols('c', positive=True)\n",
    "fx = Piecewise((1 / c, (x >= a) & (x <= a + c)), (0, True))\n",
    "fx\n",
    "# 均匀分布的全概率\n",
    "p1 = Integral(fx, (x, a, a + c)).doit().simplify()\n",
    "p1\n",
    "# 均匀分布的数学期望\n",
    "ex1 = Integral(x * fx, (x, a, a + c)).doit().simplify()\n",
    "ex1\n",
    "# 符号替换\n",
    "# b = symbols('b', real=True) # b用符号替换回来\n",
    "ex1.subs(c, (b - a)).simplify() # 结果"
   ]
  },
  {
   "cell_type": "markdown",
   "metadata": {},
   "source": [
    "#### 指数分布的数学期望  \n",
    "$f(x)=\\lambda e^{-\\lambda x}$"
   ]
  },
  {
   "cell_type": "code",
   "execution_count": 20,
   "metadata": {},
   "outputs": [
    {
     "data": {
      "text/latex": [
       "$\\displaystyle \\begin{cases} \\lambda e^{- \\lambda x} & \\text{for}\\: x > 0 \\\\0 & \\text{otherwise} \\end{cases}$"
      ],
      "text/plain": [
       "⎧   -λ⋅x           \n",
       "⎪λ⋅ℯ      for x > 0\n",
       "⎨                  \n",
       "⎪   0     otherwise\n",
       "⎩                  "
      ]
     },
     "execution_count": 20,
     "metadata": {},
     "output_type": "execute_result"
    },
    {
     "data": {
      "image/png": "[encoded data removed]",
      "text/latex": [
       "$\\displaystyle 1$"
      ],
      "text/plain": [
       "1"
      ]
     },
     "execution_count": 20,
     "metadata": {},
     "output_type": "execute_result"
    },
    {
     "data": {
      "image/png": "[encoded data removed]",
      "text/latex": [
       "$\\displaystyle \\frac{1}{\\lambda}$"
      ],
      "text/plain": [
       "1\n",
       "─\n",
       "λ"
      ]
     },
     "execution_count": 20,
     "metadata": {},
     "output_type": "execute_result"
    }
   ],
   "source": [
    "# 数学arg表示复数的辐角\n",
    "x = symbols('x')\n",
    "lamda = symbols('lamda', real=True)\n",
    "fx = lamda * exp(-lamda * x)\n",
    "fx_ = Piecewise((lamda * exp(-lamda * x),x>0),(0, True))\n",
    "# 指数分布的概率密度\n",
    "fx_\n",
    "# 指数分布的全概率\n",
    "Integral(fx, (x, 0, oo)).doit().args[0][0] # 如果按分段函数积不出来，所以只积0到正无穷\n",
    "# 指数分布的数学期望\n",
    "ex1 = Integral(x*fx, (x, 0, oo)).doit().args[0][0]\n",
    "ex1 # 结果"
   ]
  },
  {
   "cell_type": "markdown",
   "metadata": {},
   "source": [
    "#### 正态分布的数学期望"
   ]
  },
  {
   "cell_type": "code",
   "execution_count": 179,
   "metadata": {
    "scrolled": true
   },
   "outputs": [
    {
     "data": {
      "image/png": "[encoded data removed]",
      "text/latex": [
       "$\\displaystyle \\frac{\\sqrt{2} e^{- \\frac{\\left(- \\mu + x\\right)^{2}}{2 \\sigma^{2}}}}{2 \\sqrt{\\pi} \\sigma}$"
      ],
      "text/plain": [
       "             2 \n",
       "    -(-μ + x)  \n",
       "    ───────────\n",
       "           2   \n",
       "        2⋅σ    \n",
       "√2⋅ℯ           \n",
       "───────────────\n",
       "     2⋅√π⋅σ    "
      ]
     },
     "execution_count": 179,
     "metadata": {},
     "output_type": "execute_result"
    },
    {
     "data": {
      "image/png": "[encoded data removed]",
      "text/latex": [
       "$\\displaystyle 1$"
      ],
      "text/plain": [
       "1"
      ]
     },
     "execution_count": 179,
     "metadata": {},
     "output_type": "execute_result"
    },
    {
     "data": {
      "image/png": "[encoded data removed]",
      "text/latex": [
       "$\\displaystyle \\mu$"
      ],
      "text/plain": [
       "μ"
      ]
     },
     "execution_count": 179,
     "metadata": {},
     "output_type": "execute_result"
    }
   ],
   "source": [
    "mu,sigma = symbols('mu sigma',real=True) # real设为True很重要\n",
    "fx = (1/(sigma*sqrt(2*pi)))*exp(-(x-mu)**2/(2*sigma**2))\n",
    "fx\n",
    "# 正态分布的全概率\n",
    "Integral(fx, (x, -oo, oo)).doit().args[0][0] \n",
    "# 正态分布的数学期望\n",
    "ex1 = Integral(x*fx, (x, -oo, oo)).doit().args[0][0]\n",
    "ex1 # 结果"
   ]
  },
  {
   "cell_type": "markdown",
   "metadata": {},
   "source": [
    "### 随机变量的函数的数学期望"
   ]
  },
  {
   "cell_type": "code",
   "execution_count": 25,
   "metadata": {},
   "outputs": [],
   "source": [
    "x, y, z = symbols('x y z')\n",
    "p, t  = symbols('p t', positive=True)\n",
    "n, k = symbols('n k', integer=True, positive=True)\n",
    "lamda = symbols('lamda')"
   ]
  },
  {
   "cell_type": "markdown",
   "metadata": {},
   "source": [
    "#### 定理1  \n",
    "$设X是离散型随机变量，其分布律为 \\\\ \n",
    "P(X=k)=p_k \\ (k=1,2,...) \\\\ \n",
    "设Y是随机变量X的函数：Y=g(X)，\\\\\n",
    "则E(Y)=E(g(x)) = \\sum_{k=1}^{\\infty}{g(x)p_k}，要求绝对收敛\n",
    "$"
   ]
  },
  {
   "cell_type": "markdown",
   "metadata": {},
   "source": [
    "##### 例12   \n",
    "$设X\\sim \\pi(\\lambda)，求E(1/(X+1))$"
   ]
  },
  {
   "cell_type": "code",
   "execution_count": 28,
   "metadata": {},
   "outputs": [
    {
     "data": {
      "image/png": "[encoded data removed]",
      "text/latex": [
       "$\\displaystyle \\frac{\\left(e^{\\lambda} - 1\\right) e^{- \\lambda}}{\\lambda}$"
      ],
      "text/plain": [
       "⎛ λ    ⎞  -λ\n",
       "⎝ℯ  - 1⎠⋅ℯ  \n",
       "────────────\n",
       "     λ      "
      ]
     },
     "execution_count": 28,
     "metadata": {},
     "output_type": "execute_result"
    }
   ],
   "source": [
    "lamda = symbols('lamda')\n",
    "px = exp(-lamda)*lamda**k/factorial(k)\n",
    "# 𝐸(1/(𝑋+1))\n",
    "ex1 = summation((1/(k+1))*px, (k, 0, oo)).simplify()\n",
    "ex1 # 结果"
   ]
  },
  {
   "cell_type": "markdown",
   "metadata": {},
   "source": [
    "#### 定理2  \n",
    "$设X是连续型随机变量,其概率密度为f(x)，设Y是随机变量X的函数：Y=g(X)，其中g(x)是连续函数 \\\\ \n",
    "则E(Y)=E(g(x)) = \\int_{-\\infty}^{+\\infty}g(x)f(x)dx，要求绝对收敛\n",
    "$"
   ]
  },
  {
   "cell_type": "markdown",
   "metadata": {},
   "source": [
    "##### 例14\n",
    "$设随机变量X\\sim E(1)，求Y=2X和Z=e^{-2X}的数学期望\n",
    "$"
   ]
  },
  {
   "cell_type": "code",
   "execution_count": 24,
   "metadata": {},
   "outputs": [
    {
     "data": {
      "text/latex": [
       "$\\displaystyle \\begin{cases} e^{- x} & \\text{for}\\: x > 0 \\\\0 & \\text{otherwise} \\end{cases}$"
      ],
      "text/plain": [
       "⎧ -x           \n",
       "⎪ℯ    for x > 0\n",
       "⎨              \n",
       "⎪ 0   otherwise\n",
       "⎩              "
      ]
     },
     "execution_count": 24,
     "metadata": {},
     "output_type": "execute_result"
    },
    {
     "data": {
      "image/png": "[encoded data removed]",
      "text/latex": [
       "$\\displaystyle 1$"
      ],
      "text/plain": [
       "1"
      ]
     },
     "execution_count": 24,
     "metadata": {},
     "output_type": "execute_result"
    },
    {
     "data": {
      "image/png": "[encoded data removed]",
      "text/latex": [
       "$\\displaystyle 2$"
      ],
      "text/plain": [
       "2"
      ]
     },
     "execution_count": 24,
     "metadata": {},
     "output_type": "execute_result"
    },
    {
     "data": {
      "image/png": "[encoded data removed]",
      "text/latex": [
       "$\\displaystyle \\frac{1}{3}$"
      ],
      "text/plain": [
       "1/3"
      ]
     },
     "execution_count": 24,
     "metadata": {},
     "output_type": "execute_result"
    }
   ],
   "source": [
    "fx = Piecewise((exp(-x), x>0),(0,True))\n",
    "fx\n",
    "Integral(x*fx,(x,0,oo)).doit()\n",
    "# Y=2X\n",
    "Integral(2*x*fx,(x,0,oo)).doit() # 2\n",
    "Integral(exp(-2*x)*fx,(x,0,oo)).doit()"
   ]
  },
  {
   "cell_type": "markdown",
   "metadata": {},
   "source": [
    "### 二维随机变量函数的数学期望"
   ]
  },
  {
   "cell_type": "markdown",
   "metadata": {},
   "source": [
    "#### 命题1\n",
    "$设二维离散型随机变量(X,Y)分布律为 \\\\ \n",
    "P(X=x_i,Y=y_j)=p_{ij} \\ (i,j=1,2,...) \\\\ \n",
    "则函数Z=g(X,Y)的数学期望 \\\\\n",
    "E(X)=E(g(X,Y)) = \\sum_{j=1}^{\\infty}\\sum_{i=1}^{\\infty}{g(x_i,y_j)p_{ij}}，要求绝对收敛\n",
    "$"
   ]
  },
  {
   "cell_type": "markdown",
   "metadata": {},
   "source": [
    "#### 命题2\n",
    "$设二维连续型随机变量(X,Y)概率密度为地f(x,y) \\\\ \n",
    "则函数Z=g(X,Y)的数学期望 \\\\\n",
    "E(X)=E(g(X,Y)) = \\int_{-\\infty}^{+\\infty}\\int_{-\\infty}^{+\\infty}{g(x,y)f(x,y)dxdy}，要求绝对收敛\n",
    "$"
   ]
  },
  {
   "cell_type": "code",
   "execution_count": 44,
   "metadata": {},
   "outputs": [
    {
     "data": {
      "text/latex": [
       "$\\displaystyle \\begin{cases} \\frac{3}{2 x^{3} y^{2}} & \\text{for}\\: x > 1 \\wedge x > y \\wedge y > \\frac{1}{x} \\\\0 & \\text{otherwise} \\end{cases}$"
      ],
      "text/plain": [
       "⎧   3                             1\n",
       "⎪───────  for x > 1 ∧ x > y ∧ y > ─\n",
       "⎪   3  2                          x\n",
       "⎨2⋅x ⋅y                            \n",
       "⎪                                  \n",
       "⎪   0             otherwise        \n",
       "⎩                                  "
      ]
     },
     "execution_count": 44,
     "metadata": {},
     "output_type": "execute_result"
    },
    {
     "name": "stdout",
     "output_type": "stream",
     "text": [
      "\\begin{cases} \\frac{3}{2 x^{3} y^{2}} & \\text{for}\\: x > 1 \\wedge x > y \\wedge y > \\frac{1}{x} \\\\0 & \\text{otherwise} \\end{cases}\n"
     ]
    },
    {
     "data": {
      "text/latex": [
       "$\\displaystyle \\begin{cases} \\frac{3}{2 x^{3} \\min\\left(\\frac{1}{x}, x\\right)} - \\frac{3}{2 x^{4}} & \\text{for}\\: x > 1 \\wedge x < \\infty \\\\0 & \\text{otherwise} \\end{cases}$"
      ],
      "text/plain": [
       "⎧       3            3                     \n",
       "⎪──────────────── - ────  for x > 1 ∧ x < ∞\n",
       "⎪   3                  4                   \n",
       "⎨2⋅x ⋅Min(1/x, x)   2⋅x                    \n",
       "⎪                                          \n",
       "⎪           0                 otherwise    \n",
       "⎩                                          "
      ]
     },
     "execution_count": 44,
     "metadata": {},
     "output_type": "execute_result"
    },
    {
     "data": {
      "text/latex": [
       "$\\displaystyle \\begin{cases} \\frac{1.5}{x^{2}} - \\frac{1.5}{x^{4}} & \\text{for}\\: x > 1 \\\\0 & \\text{otherwise} \\end{cases}$"
      ],
      "text/plain": [
       "⎧1.5   1.5           \n",
       "⎪─── - ───  for x > 1\n",
       "⎪  2     4           \n",
       "⎨ x     x            \n",
       "⎪                    \n",
       "⎪    0      otherwise\n",
       "⎩                    "
      ]
     },
     "execution_count": 44,
     "metadata": {},
     "output_type": "execute_result"
    },
    {
     "data": {
      "image/png": "[encoded data removed]",
      "text/latex": [
       "$\\displaystyle 1.0$"
      ],
      "text/plain": [
       "1.00000000000000"
      ]
     },
     "execution_count": 44,
     "metadata": {},
     "output_type": "execute_result"
    }
   ],
   "source": [
    "# x1 = symbols('x',positive=True)\n",
    "fxy = Piecewise((3/(2*x**3*y**2),(x>1)&(y<x)&(y>(1/x))),(0,True))\n",
    "fxy\n",
    "print_latex(fxy)\n",
    "# 整体不好求积分，分开求积分\n",
    "Integral(fxy,(y,1/x,x)).doit()\n",
    "i1 = Piecewise(((3/2)*(1/x**2-1/x**4),(x>1)),(0, True))\n",
    "i1\n",
    "Integral(i1,(x,1,oo)).doit()"
   ]
  },
  {
   "cell_type": "markdown",
   "metadata": {},
   "source": [
    "##### 例15\n",
    "$设随机变量(X,Y)的概率密度为\\\\\n",
    "f(x,y)=\\begin{cases} \\frac{3}{2 x^{3} y^{2}} & \\text{for}\\: x > 1, \\frac{1}{x}<y<x \\\\ \n",
    "0 & \\text{otherwise} \\end{cases}\\\\\n",
    "求数学期望E(Y),E(1/XY)\n",
    "$\n"
   ]
  },
  {
   "cell_type": "code",
   "execution_count": 54,
   "metadata": {},
   "outputs": [
    {
     "data": {
      "image/png": "[encoded data removed]",
      "text/plain": [
       "<Figure size 432x288 with 1 Axes>"
      ]
     },
     "metadata": {
      "needs_background": "light"
     },
     "output_type": "display_data"
    },
    {
     "data": {
      "text/plain": [
       "<sympy.plotting.plot.Plot at 0x1ff2fb27cc8>"
      ]
     },
     "execution_count": 54,
     "metadata": {},
     "output_type": "execute_result"
    }
   ],
   "source": [
    "plot(1/x,x,xlim=(0,5),ylim=(0,5))"
   ]
  },
  {
   "cell_type": "code",
   "execution_count": 48,
   "metadata": {},
   "outputs": [
    {
     "data": {
      "text/latex": [
       "$\\displaystyle \\begin{cases} \\frac{3 \\log{\\left(x \\right)}}{2 x^{3}} - \\frac{3 \\log{\\left(\\min\\left(\\frac{1}{x}, x\\right) \\right)}}{2 x^{3}} & \\text{for}\\: x > 1 \\wedge x < \\infty \\\\0 & \\text{otherwise} \\end{cases}$"
      ],
      "text/plain": [
       "⎧3⋅log(x)   3⋅log(Min(1/x, x))                   \n",
       "⎪──────── - ──────────────────  for x > 1 ∧ x < ∞\n",
       "⎪     3               3                          \n",
       "⎨  2⋅x             2⋅x                           \n",
       "⎪                                                \n",
       "⎪              0                    otherwise    \n",
       "⎩                                                "
      ]
     },
     "execution_count": 48,
     "metadata": {},
     "output_type": "execute_result"
    },
    {
     "data": {
      "text/latex": [
       "$\\displaystyle \\begin{cases} \\frac{3 \\log{\\left(x \\right)}}{x^{3}} & \\text{for}\\: x > 1 \\\\0 & \\text{otherwise} \\end{cases}$"
      ],
      "text/plain": [
       "⎧3⋅log(x)           \n",
       "⎪────────  for x > 1\n",
       "⎪    3              \n",
       "⎨   x               \n",
       "⎪                   \n",
       "⎪   0      otherwise\n",
       "⎩                   "
      ]
     },
     "execution_count": 48,
     "metadata": {},
     "output_type": "execute_result"
    },
    {
     "data": {
      "image/png": "[encoded data removed]",
      "text/latex": [
       "$\\displaystyle \\frac{3}{4}$"
      ],
      "text/plain": [
       "3/4"
      ]
     },
     "execution_count": 48,
     "metadata": {},
     "output_type": "execute_result"
    }
   ],
   "source": [
    "# E(Y)的数学期望\n",
    "Integral(y*fxy,(y,1/x,x)).doit()\n",
    "i1 = Piecewise((3*log(x)/x**3,(x>1)),(0, True))\n",
    "i1\n",
    "Integral(i1,(x,1,oo)).doit() # 结果3/4"
   ]
  },
  {
   "cell_type": "code",
   "execution_count": 51,
   "metadata": {},
   "outputs": [
    {
     "data": {
      "text/latex": [
       "$\\displaystyle \\begin{cases} \\frac{3}{4 x^{4} \\min\\left(\\frac{1}{x}, x\\right)^{2}} - \\frac{3}{4 x^{6}} & \\text{for}\\: x > 1 \\wedge x < \\infty \\\\0 & \\text{otherwise} \\end{cases}$"
      ],
      "text/plain": [
       "⎧        3            3                     \n",
       "⎪───────────────── - ────  for x > 1 ∧ x < ∞\n",
       "⎪   4            2      6                   \n",
       "⎨4⋅x ⋅Min(1/x, x)    4⋅x                    \n",
       "⎪                                           \n",
       "⎪           0                  otherwise    \n",
       "⎩                                           "
      ]
     },
     "execution_count": 51,
     "metadata": {},
     "output_type": "execute_result"
    },
    {
     "data": {
      "text/latex": [
       "$\\displaystyle \\begin{cases} \\frac{0.75}{x^{2}} - \\frac{0.75}{x^{6}} & \\text{for}\\: x > 1 \\\\0 & \\text{otherwise} \\end{cases}$"
      ],
      "text/plain": [
       "⎧0.75   0.75           \n",
       "⎪──── - ────  for x > 1\n",
       "⎪  2      6            \n",
       "⎨ x      x             \n",
       "⎪                      \n",
       "⎪     0       otherwise\n",
       "⎩                      "
      ]
     },
     "execution_count": 51,
     "metadata": {},
     "output_type": "execute_result"
    },
    {
     "data": {
      "image/png": "[encoded data removed]",
      "text/latex": [
       "$\\displaystyle 0.6$"
      ],
      "text/plain": [
       "0.600000000000000"
      ]
     },
     "execution_count": 51,
     "metadata": {},
     "output_type": "execute_result"
    }
   ],
   "source": [
    "# E(1/XY)的数学期望  \n",
    "Integral(fxy/(x*y),(y,1/x,x)).doit()\n",
    "i1 = Piecewise(((3/4)*(1/x**2-1/x**6),(x>1)),(0, True))\n",
    "i1\n",
    "Integral(i1,(x,1,oo)).doit() # 结果0.6"
   ]
  },
  {
   "cell_type": "markdown",
   "metadata": {},
   "source": [
    "## 方差"
   ]
  },
  {
   "cell_type": "markdown",
   "metadata": {},
   "source": [
    "### 随机变量的方差"
   ]
  },
  {
   "cell_type": "markdown",
   "metadata": {},
   "source": [
    "#### 0-1分布的方差"
   ]
  },
  {
   "cell_type": "code",
   "execution_count": 3,
   "metadata": {},
   "outputs": [
    {
     "data": {
      "image/png": "[encoded data removed]",
      "text/latex": [
       "$\\displaystyle p \\left(1 - p\\right)$"
      ],
      "text/plain": [
       "p⋅(1 - p)"
      ]
     },
     "execution_count": 3,
     "metadata": {},
     "output_type": "execute_result"
    },
    {
     "data": {
      "image/png": "[encoded data removed]",
      "text/latex": [
       "$\\displaystyle p \\left(1 - p\\right)$"
      ],
      "text/plain": [
       "p⋅(1 - p)"
      ]
     },
     "execution_count": 3,
     "metadata": {},
     "output_type": "execute_result"
    }
   ],
   "source": [
    "x, y, z = symbols('x y z')\n",
    "p = symbols('p', positive=True)\n",
    "n, k = symbols('n k', integer=True, positive=True)\n",
    "\n",
    "ex1 = 0 * (1 - p) + 1 * p\n",
    "# 0-1分布的方差\n",
    "# 定义法\n",
    "dx1 = ((0 - ex1)**2 * (1 - p) + (1 - ex1)**2 * p).simplify()\n",
    "dx1 \n",
    "# 公式法\n",
    "dx2 = (0**2 * (1 - p) + 1**2 * p - ex1**2).simplify()\n",
    "dx2"
   ]
  },
  {
   "cell_type": "markdown",
   "metadata": {},
   "source": [
    "#### 二项分布的方差\n",
    "$C_n^m={n\\over m}C_{n-1}^{m-1}$"
   ]
  },
  {
   "cell_type": "code",
   "execution_count": 313,
   "metadata": {},
   "outputs": [
    {
     "data": {
      "image/png": "[encoded data removed]",
      "text/latex": [
       "$\\displaystyle p^{k} \\left(1 - p\\right)^{- k + n} {\\binom{n}{k}}$"
      ],
      "text/plain": [
       " k        -k + n ⎛n⎞\n",
       "p ⋅(1 - p)      ⋅⎜ ⎟\n",
       "                 ⎝k⎠"
      ]
     },
     "execution_count": 313,
     "metadata": {},
     "output_type": "execute_result"
    },
    {
     "data": {
      "image/png": "[encoded data removed]",
      "text/latex": [
       "$\\displaystyle 1$"
      ],
      "text/plain": [
       "1"
      ]
     },
     "execution_count": 313,
     "metadata": {},
     "output_type": "execute_result"
    },
    {
     "data": {
      "image/png": "[encoded data removed]",
      "text/latex": [
       "$\\displaystyle n p$"
      ],
      "text/plain": [
       "n⋅p"
      ]
     },
     "execution_count": 313,
     "metadata": {},
     "output_type": "execute_result"
    },
    {
     "data": {
      "text/plain": [
       "'***'"
      ]
     },
     "execution_count": 313,
     "metadata": {},
     "output_type": "execute_result"
    },
    {
     "data": {
      "image/png": "[encoded data removed]",
      "text/latex": [
       "$\\displaystyle - n p \\left(p - 1\\right)$"
      ],
      "text/plain": [
       "-n⋅p⋅(p - 1)"
      ]
     },
     "execution_count": 313,
     "metadata": {},
     "output_type": "execute_result"
    },
    {
     "data": {
      "image/png": "[encoded data removed]",
      "text/latex": [
       "$\\displaystyle n p \\left(1 - p\\right)$"
      ],
      "text/plain": [
       "n⋅p⋅(1 - p)"
      ]
     },
     "execution_count": 313,
     "metadata": {},
     "output_type": "execute_result"
    }
   ],
   "source": [
    "n, k = symbols('n k', integer=True, positive=True) # n设为正整数很重要\n",
    "p,q= symbols('p q', positive=True)\n",
    "# q = 1 - p\n",
    "# 二项分布的概率\n",
    "px = binomial(n, k) * p**(k) * (1 - p)**(n - k)\n",
    "# px = binomial(n, k) * p**(k) * q**(n - k)\n",
    "px\n",
    "# 二项分布的全概率\n",
    "summation(px, (k, 0, n)).simplify().args[0][0]\n",
    "# 二项分布的数学期望\n",
    "ex1 = summation(k*px, (k, 0, n)).simplify().args[0][0]\n",
    "ex1\n",
    "# 二项分布的方差\n",
    "# 定义法: 太复杂，不好化简\n",
    "# dx1 = summation((k-ex1)**2*px, (k, 0, n)).simplify()\n",
    "# simplify(dacotx1) \n",
    "\"***\"\n",
    "# 公式法\n",
    "dx2 = summation(k**2*px, (k, 0, n)).args[0][0]-ex1**2\n",
    "dx2 = simplify(dx2) \n",
    "dx2 # npq\n",
    "simplify(dx2.replace((1-p1),q)) # 去掉负号\n"
   ]
  },
  {
   "cell_type": "markdown",
   "metadata": {},
   "source": [
    "#### 泊松分布的方差"
   ]
  },
  {
   "cell_type": "code",
   "execution_count": 314,
   "metadata": {},
   "outputs": [
    {
     "data": {
      "image/png": "[encoded data removed]",
      "text/latex": [
       "$\\displaystyle \\frac{\\lambda^{k} e^{- \\lambda}}{k!}$"
      ],
      "text/plain": [
       " k  -λ\n",
       "λ ⋅ℯ  \n",
       "──────\n",
       "  k!  "
      ]
     },
     "execution_count": 314,
     "metadata": {},
     "output_type": "execute_result"
    },
    {
     "data": {
      "image/png": "[encoded data removed]",
      "text/latex": [
       "$\\displaystyle 1$"
      ],
      "text/plain": [
       "1"
      ]
     },
     "execution_count": 314,
     "metadata": {},
     "output_type": "execute_result"
    },
    {
     "data": {
      "image/png": "[encoded data removed]",
      "text/latex": [
       "$\\displaystyle \\lambda$"
      ],
      "text/plain": [
       "λ"
      ]
     },
     "execution_count": 314,
     "metadata": {},
     "output_type": "execute_result"
    },
    {
     "data": {
      "text/plain": [
       "'***'"
      ]
     },
     "execution_count": 314,
     "metadata": {},
     "output_type": "execute_result"
    },
    {
     "data": {
      "image/png": "[encoded data removed]",
      "text/latex": [
       "$\\displaystyle \\lambda$"
      ],
      "text/plain": [
       "λ"
      ]
     },
     "execution_count": 314,
     "metadata": {},
     "output_type": "execute_result"
    }
   ],
   "source": [
    "lamda = symbols('lamda')\n",
    "# 泊松分布的概率\n",
    "px = exp(-lamda)*lamda**k/factorial(k)\n",
    "px\n",
    "# 泊松分布的全概率\n",
    "summation(px, (k, 0, oo))\n",
    "# 泊松分布的数学期望\n",
    "ex1 = summation(k*px, (k, 0, oo))\n",
    "# 二项分布的方差\n",
    "# 定义法: \n",
    "dx1 = summation((k-ex1)**2*px, (k, 0, oo)).simplify()\n",
    "dx1 \n",
    "\"***\"\n",
    "# 公式法\n",
    "dx2 = (summation(k**2*px, (k, 0, oo))-ex1**2).simplify()\n",
    "dx2 "
   ]
  },
  {
   "cell_type": "markdown",
   "metadata": {},
   "source": [
    "#### 几何分布的方差"
   ]
  },
  {
   "cell_type": "code",
   "execution_count": 315,
   "metadata": {},
   "outputs": [
    {
     "data": {
      "image/png": "[encoded data removed]",
      "text/latex": [
       "$\\displaystyle p \\left(1 - p\\right)^{k - 1}$"
      ],
      "text/plain": [
       "         k - 1\n",
       "p⋅(1 - p)     "
      ]
     },
     "execution_count": 315,
     "metadata": {},
     "output_type": "execute_result"
    },
    {
     "data": {
      "image/png": "[encoded data removed]",
      "text/latex": [
       "$\\displaystyle 1$"
      ],
      "text/plain": [
       "1"
      ]
     },
     "execution_count": 315,
     "metadata": {},
     "output_type": "execute_result"
    },
    {
     "data": {
      "image/png": "[encoded data removed]",
      "text/latex": [
       "$\\displaystyle \\frac{1}{p}$"
      ],
      "text/plain": [
       "1\n",
       "─\n",
       "p"
      ]
     },
     "execution_count": 315,
     "metadata": {},
     "output_type": "execute_result"
    },
    {
     "data": {
      "image/png": "[encoded data removed]",
      "text/latex": [
       "$\\displaystyle \\frac{1 - p}{p^{2}}$"
      ],
      "text/plain": [
       "1 - p\n",
       "─────\n",
       "   2 \n",
       "  p  "
      ]
     },
     "execution_count": 315,
     "metadata": {},
     "output_type": "execute_result"
    },
    {
     "data": {
      "text/plain": [
       "'***'"
      ]
     },
     "execution_count": 315,
     "metadata": {},
     "output_type": "execute_result"
    },
    {
     "data": {
      "image/png": "[encoded data removed]",
      "text/latex": [
       "$\\displaystyle \\frac{1 - p}{p^{2}}$"
      ],
      "text/plain": [
       "1 - p\n",
       "─────\n",
       "   2 \n",
       "  p  "
      ]
     },
     "execution_count": 315,
     "metadata": {},
     "output_type": "execute_result"
    }
   ],
   "source": [
    "# 特别注意var和symbols的区别\n",
    "n, k = symbols('n k', integer=True, positive=True)\n",
    "p = symbols('p', positive=True)\n",
    "# 几何分布的概率\n",
    "px = p * (1 - p)**(k-1)\n",
    "# px = Piecewise((p * (1 - p)**(k-1), (p>0)&(p<1)),(0, True)) # 概率用分段函数表示\n",
    "px\n",
    "# 几何分布的全概率\n",
    "summation(px, (k, 1, oo)).simplify().args[0][0]\n",
    "# 几何分布的期望\n",
    "ex1 = summation(k*px, (k, 1, oo)).simplify().args[0][0] \n",
    "ex1\n",
    "# 几何分布的方差\n",
    "# 定义法: \n",
    "dx1 = summation((k-ex1)**2*px, (k, 1, oo)).simplify().simplify().args[0][0] # k要从1开始\n",
    "dx1 \n",
    "\"***\"\n",
    "# 公式法\n",
    "dx2 = (summation(k**2*px, (k, 1, oo))-ex1**2).simplify().args[0][0].simplify()\n",
    "dx2 # 结果"
   ]
  },
  {
   "cell_type": "markdown",
   "metadata": {},
   "source": [
    "#### 超几何分布的方差  \n",
    "$X\\sim H(N,M,n)$  \n",
    "$p\\{x=k\\}=\\frac{C_M^k C_{N-M}^{n-k}}{C_N^n}$"
   ]
  },
  {
   "cell_type": "code",
   "execution_count": 316,
   "metadata": {
    "scrolled": true
   },
   "outputs": [
    {
     "data": {
      "image/png": "[encoded data removed]",
      "text/latex": [
       "$\\displaystyle \\frac{{\\binom{M}{k}} {\\binom{- M + N}{- k + n}}}{{\\binom{N}{n}}}$"
      ],
      "text/plain": [
       "⎛M⎞ ⎛-M + N⎞\n",
       "⎜ ⎟⋅⎜      ⎟\n",
       "⎝k⎠ ⎝-k + n⎠\n",
       "────────────\n",
       "    ⎛N⎞     \n",
       "    ⎜ ⎟     \n",
       "    ⎝n⎠     "
      ]
     },
     "execution_count": 316,
     "metadata": {},
     "output_type": "execute_result"
    },
    {
     "data": {
      "image/png": "[encoded data removed]",
      "text/latex": [
       "$\\displaystyle 1$"
      ],
      "text/plain": [
       "1"
      ]
     },
     "execution_count": 316,
     "metadata": {},
     "output_type": "execute_result"
    },
    {
     "data": {
      "text/plain": [
       "'*****'"
      ]
     },
     "execution_count": 316,
     "metadata": {},
     "output_type": "execute_result"
    },
    {
     "data": {
      "image/png": "[encoded data removed]",
      "text/latex": [
       "$\\displaystyle - \\frac{M^{2} N n}{N^{3} - N^{2}} + \\frac{M^{2} n^{2}}{N^{3} - N^{2}} + \\frac{M N^{2} n}{N^{3} - N^{2}} - \\frac{M N n^{2}}{N^{3} - N^{2}}$"
      ],
      "text/plain": [
       "    2         2  2        2           2\n",
       "   M ⋅N⋅n    M ⋅n      M⋅N ⋅n    M⋅N⋅n \n",
       "- ─────── + ─────── + ─────── - ───────\n",
       "   3    2    3    2    3    2    3    2\n",
       "  N  - N    N  - N    N  - N    N  - N "
      ]
     },
     "execution_count": 316,
     "metadata": {},
     "output_type": "execute_result"
    },
    {
     "data": {
      "text/plain": [
       "'***'"
      ]
     },
     "execution_count": 316,
     "metadata": {},
     "output_type": "execute_result"
    },
    {
     "data": {
      "image/png": "[encoded data removed]",
      "text/latex": [
       "$\\displaystyle \\frac{M n \\left(- M N + M n + N^{2} - N n\\right)}{N^{2} \\left(N - 1\\right)}$"
      ],
      "text/plain": [
       "    ⎛              2      ⎞\n",
       "M⋅n⋅⎝-M⋅N + M⋅n + N  - N⋅n⎠\n",
       "───────────────────────────\n",
       "          2                \n",
       "         N ⋅(N - 1)        "
      ]
     },
     "execution_count": 316,
     "metadata": {},
     "output_type": "execute_result"
    },
    {
     "data": {
      "text/plain": [
       "'*****'"
      ]
     },
     "execution_count": 316,
     "metadata": {},
     "output_type": "execute_result"
    },
    {
     "data": {
      "image/png": "[encoded data removed]",
      "text/latex": [
       "$\\displaystyle \\frac{M n \\left(- M N + M n + N^{2} - N n\\right)}{N^{2} \\left(N - 1\\right)}$"
      ],
      "text/plain": [
       "    ⎛              2      ⎞\n",
       "M⋅n⋅⎝-M⋅N + M⋅n + N  - N⋅n⎠\n",
       "───────────────────────────\n",
       "          2                \n",
       "         N ⋅(N - 1)        "
      ]
     },
     "execution_count": 316,
     "metadata": {},
     "output_type": "execute_result"
    }
   ],
   "source": [
    "n, k, N, M = symbols('n k N M', integer=True, positive=True)\n",
    "p = symbols('p', positive=True)\n",
    "# 超几何分布的概率\n",
    "px = binomial(M, k) * binomial(N-M, n-k)/binomial(N, n) \n",
    "px\n",
    "# 超几何分布的全概率\n",
    "summation(px, (k, 0, n)).simplify() \n",
    "# 超几何分布的期望\n",
    "ex1 = summation(k*px, (k, 0, n)).simplify() \n",
    "\"*****\"\n",
    "# 超何分布的方差\n",
    "# 定义法: \n",
    "dx1 = summation((k-ex1)**2*px, (k, 0, oo)).simplify().args[0][0].expand()\n",
    "dx1 \n",
    "\"***\"\n",
    "# 公式法\n",
    "dx2 = (summation(k**2*px, (k, 0, oo))-ex1**2).simplify().args[0][0]\n",
    "dx2 # 结果\n",
    "\"*****\"\n",
    "# 验证\n",
    "dx_ = n*M/N - (n*M/N)**2 + n*(n-1)*M*(M-1)/(N*(N-1)) # 正确结果\n",
    "# dx_\n",
    "dx_.simplify()"
   ]
  },
  {
   "cell_type": "markdown",
   "metadata": {},
   "source": [
    "#### 均匀分布的方差"
   ]
  },
  {
   "cell_type": "code",
   "execution_count": 317,
   "metadata": {},
   "outputs": [
    {
     "data": {
      "text/latex": [
       "$\\displaystyle \\begin{cases} \\frac{1}{c} & \\text{for}\\: a \\leq x \\wedge x \\leq a + c \\\\0 & \\text{otherwise} \\end{cases}$"
      ],
      "text/plain": [
       "⎧1                       \n",
       "⎪─  for a ≤ x ∧ x ≤ a + c\n",
       "⎨c                       \n",
       "⎪                        \n",
       "⎩0        otherwise      "
      ]
     },
     "execution_count": 317,
     "metadata": {},
     "output_type": "execute_result"
    },
    {
     "data": {
      "image/png": "[encoded data removed]",
      "text/latex": [
       "$\\displaystyle 1$"
      ],
      "text/plain": [
       "1"
      ]
     },
     "execution_count": 317,
     "metadata": {},
     "output_type": "execute_result"
    },
    {
     "data": {
      "image/png": "[encoded data removed]",
      "text/latex": [
       "$\\displaystyle a + \\frac{c}{2}$"
      ],
      "text/plain": [
       "    c\n",
       "a + ─\n",
       "    2"
      ]
     },
     "execution_count": 317,
     "metadata": {},
     "output_type": "execute_result"
    },
    {
     "data": {
      "text/plain": [
       "'*****'"
      ]
     },
     "execution_count": 317,
     "metadata": {},
     "output_type": "execute_result"
    },
    {
     "data": {
      "image/png": "[encoded data removed]",
      "text/latex": [
       "$\\displaystyle \\frac{c^{2}}{12}$"
      ],
      "text/plain": [
       " 2\n",
       "c \n",
       "──\n",
       "12"
      ]
     },
     "execution_count": 317,
     "metadata": {},
     "output_type": "execute_result"
    },
    {
     "data": {
      "text/plain": [
       "'***'"
      ]
     },
     "execution_count": 317,
     "metadata": {},
     "output_type": "execute_result"
    },
    {
     "data": {
      "image/png": "[encoded data removed]",
      "text/latex": [
       "$\\displaystyle \\frac{c^{2}}{12}$"
      ],
      "text/plain": [
       " 2\n",
       "c \n",
       "──\n",
       "12"
      ]
     },
     "execution_count": 317,
     "metadata": {},
     "output_type": "execute_result"
    },
    {
     "data": {
      "image/png": "[encoded data removed]",
      "text/latex": [
       "$\\displaystyle \\frac{\\left(a - b\\right)^{2}}{12}$"
      ],
      "text/plain": [
       "       2\n",
       "(a - b) \n",
       "────────\n",
       "   12   "
      ]
     },
     "execution_count": 317,
     "metadata": {},
     "output_type": "execute_result"
    }
   ],
   "source": [
    "a,b=symbols('a b',real=True)\n",
    "# a = symbols('a', real=True)\n",
    "c = symbols('c', positive=True)\n",
    "# b = a + c\n",
    "fx = Piecewise((1 / c, (x >= a) & (x <= a + c)), (0, True))\n",
    "fx\n",
    "# 均匀分布的全概率\n",
    "p1 = Integral(fx, (x, a, a + c)).doit().simplify()\n",
    "p1\n",
    "# 均匀分布的数学期望\n",
    "ex1 = Integral(x * fx, (x, a, a + c)).doit().simplify()\n",
    "ex1\n",
    "\"*****\"\n",
    "# 均匀分布的方差\n",
    "# 定义法: \n",
    "dx1 = Integral((x-ex1)**2 * fx, (x, a, a + c)).doit().simplify()\n",
    "dx1 \n",
    "\"***\"\n",
    "# 公式法\n",
    "dx2 = (Integral(x**2 * fx, (x, a, a + c)).doit()-ex1**2).simplify()\n",
    "dx2\n",
    "# 符号替换\n",
    "# b = symbols('b', real=True) # b用符号替换回来\n",
    "# ex1.subs(c,(b-a)).simplify()\n",
    "dx1.subs(c,(b-a)).simplify() # 结果"
   ]
  },
  {
   "cell_type": "markdown",
   "metadata": {},
   "source": [
    "#### 指数分布的方差  \n",
    "$f(x)=\\lambda e^{-\\lambda x}$"
   ]
  },
  {
   "cell_type": "code",
   "execution_count": 22,
   "metadata": {},
   "outputs": [
    {
     "data": {
      "text/latex": [
       "$\\displaystyle \\begin{cases} \\lambda e^{- \\lambda x} & \\text{for}\\: x > 0 \\\\0 & \\text{otherwise} \\end{cases}$"
      ],
      "text/plain": [
       "⎧   -λ⋅x           \n",
       "⎪λ⋅ℯ      for x > 0\n",
       "⎨                  \n",
       "⎪   0     otherwise\n",
       "⎩                  "
      ]
     },
     "execution_count": 22,
     "metadata": {},
     "output_type": "execute_result"
    },
    {
     "data": {
      "image/png": "[encoded data removed]",
      "text/latex": [
       "$\\displaystyle 1$"
      ],
      "text/plain": [
       "1"
      ]
     },
     "execution_count": 22,
     "metadata": {},
     "output_type": "execute_result"
    },
    {
     "data": {
      "image/png": "[encoded data removed]",
      "text/latex": [
       "$\\displaystyle \\frac{1}{\\lambda^{2}}$"
      ],
      "text/plain": [
       "1 \n",
       "──\n",
       " 2\n",
       "λ "
      ]
     },
     "execution_count": 22,
     "metadata": {},
     "output_type": "execute_result"
    },
    {
     "data": {
      "text/plain": [
       "'***'"
      ]
     },
     "execution_count": 22,
     "metadata": {},
     "output_type": "execute_result"
    },
    {
     "data": {
      "image/png": "[encoded data removed]",
      "text/latex": [
       "$\\displaystyle \\frac{1}{\\lambda^{2}}$"
      ],
      "text/plain": [
       "1 \n",
       "──\n",
       " 2\n",
       "λ "
      ]
     },
     "execution_count": 22,
     "metadata": {},
     "output_type": "execute_result"
    }
   ],
   "source": [
    "# 数学arg表示复数的辐角\n",
    "x = symbols('x')\n",
    "lamda = symbols('lamda', real=True)\n",
    "fx = lamda * exp(-lamda * x)\n",
    "fx_ = Piecewise((lamda * exp(-lamda * x),x>0),(0, True))\n",
    "# 指数分布的概率密度\n",
    "fx_\n",
    "# 指数分布的全概率\n",
    "Integral(fx, (x, 0, oo)).doit().args[0][0] # 如果按分段函数积不出来，所以只积0到正无穷\n",
    "# 指数分布的数学期望\n",
    "ex1 = Integral(x*fx, (x, 0, oo)).doit().args[0][0]\n",
    "\n",
    "# 指数分布的方差\n",
    "# 定义法: \n",
    "dx1 = Integral((x-ex1)**2 * fx, (x, 0, oo)).doit().simplify().args[0][0]\n",
    "dx1 \n",
    "\"***\"\n",
    "# 公式法\n",
    "dx2 = (Integral(x**2 * fx, (x, 0, oo)).doit()-ex1**2).simplify().args[0][0]\n",
    "dx2 # 结果"
   ]
  },
  {
   "cell_type": "markdown",
   "metadata": {},
   "source": [
    "#### 正态分布的方差"
   ]
  },
  {
   "cell_type": "code",
   "execution_count": 318,
   "metadata": {
    "scrolled": true
   },
   "outputs": [
    {
     "data": {
      "image/png": "[encoded data removed]",
      "text/latex": [
       "$\\displaystyle \\frac{\\sqrt{2} e^{- \\frac{\\left(- \\mu + x\\right)^{2}}{2 \\sigma^{2}}}}{2 \\sqrt{\\pi} \\sigma}$"
      ],
      "text/plain": [
       "             2 \n",
       "    -(-μ + x)  \n",
       "    ───────────\n",
       "           2   \n",
       "        2⋅σ    \n",
       "√2⋅ℯ           \n",
       "───────────────\n",
       "     2⋅√π⋅σ    "
      ]
     },
     "execution_count": 318,
     "metadata": {},
     "output_type": "execute_result"
    },
    {
     "data": {
      "image/png": "[encoded data removed]",
      "text/latex": [
       "$\\displaystyle 1$"
      ],
      "text/plain": [
       "1"
      ]
     },
     "execution_count": 318,
     "metadata": {},
     "output_type": "execute_result"
    },
    {
     "data": {
      "text/plain": [
       "'*****'"
      ]
     },
     "execution_count": 318,
     "metadata": {},
     "output_type": "execute_result"
    },
    {
     "data": {
      "image/png": "[encoded data removed]",
      "text/latex": [
       "$\\displaystyle \\sigma^{2}$"
      ],
      "text/plain": [
       " 2\n",
       "σ "
      ]
     },
     "execution_count": 318,
     "metadata": {},
     "output_type": "execute_result"
    },
    {
     "data": {
      "text/plain": [
       "'***'"
      ]
     },
     "execution_count": 318,
     "metadata": {},
     "output_type": "execute_result"
    },
    {
     "data": {
      "image/png": "[encoded data removed]",
      "text/latex": [
       "$\\displaystyle \\sigma^{2}$"
      ],
      "text/plain": [
       " 2\n",
       "σ "
      ]
     },
     "execution_count": 318,
     "metadata": {},
     "output_type": "execute_result"
    }
   ],
   "source": [
    "mu,sigma = symbols('mu sigma',real=True) # real设为True很重要\n",
    "fx = (1/(sigma*sqrt(2*pi)))*exp(-(x-mu)**2/(2*sigma**2))\n",
    "fx\n",
    "# 指数分布的全概率\n",
    "Integral(fx, (x, -oo, oo)).doit().args[0][0] \n",
    "# 指数分布的数学期望\n",
    "ex1 = Integral(x*fx, (x, -oo, oo)).doit().args[0][0]\n",
    "\"*****\"\n",
    "# 正态分布的方差\n",
    "# 定义法: \n",
    "dx1 = Integral((x-ex1)**2 * fx, (x, -oo, oo)).doit().simplify().args[0][0]\n",
    "dx1 \n",
    "\"***\"\n",
    "# 公式法\n",
    "dx2 = (Integral(x**2 * fx, (x, -oo, oo)).doit()-ex1**2).simplify().args[0][0]\n",
    "dx2 # 结果"
   ]
  },
  {
   "cell_type": "code",
   "execution_count": null,
   "metadata": {},
   "outputs": [],
   "source": []
  },
  {
   "cell_type": "markdown",
   "metadata": {},
   "source": [
    "## 协方差及相关系数\n"
   ]
  },
  {
   "cell_type": "code",
   "execution_count": null,
   "metadata": {},
   "outputs": [],
   "source": []
  },
  {
   "cell_type": "markdown",
   "metadata": {},
   "source": [
    "## 矩、协方差矩阵"
   ]
  },
  {
   "cell_type": "code",
   "execution_count": null,
   "metadata": {},
   "outputs": [],
   "source": []
  },
  {
   "cell_type": "code",
   "execution_count": 99,
   "metadata": {},
   "outputs": [
    {
     "data": {
      "image/png": "[encoded data removed]",
      "text/latex": [
       "$\\displaystyle \\frac{\\pi}{2}$"
      ],
      "text/plain": [
       "π\n",
       "─\n",
       "2"
      ]
     },
     "execution_count": 99,
     "metadata": {},
     "output_type": "execute_result"
    }
   ],
   "source": [
    "Integral(sin(x)/x,(x,0,oo)).doit()"
   ]
  }
 ],
 "metadata": {
  "kernelspec": {
   "display_name": "Python 3",
   "language": "python",
   "name": "python3"
  },
  "language_info": {
   "codemirror_mode": {
    "name": "ipython",
    "version": 3
   },
   "file_extension": ".py",
   "mimetype": "text/x-python",
   "name": "python",
   "nbconvert_exporter": "python",
   "pygments_lexer": "ipython3",
   "version": "3.7.4"
  },
  "toc": {
   "base_numbering": 1,
   "nav_menu": {},
   "number_sections": true,
   "sideBar": true,
   "skip_h1_title": false,
   "title_cell": "Table of Contents",
   "title_sidebar": "Contents",
   "toc_cell": false,
   "toc_position": {
    "height": "calc(100% - 180px)",
    "left": "10px",
    "top": "150px",
    "width": "219.604px"
   },
   "toc_section_display": true,
   "toc_window_display": true
  }
 },
 "nbformat": 4,
 "nbformat_minor": 2
}
